{
 "cells": [
  {
   "cell_type": "markdown",
   "metadata": {
    "id": "GSBB77X95WT_"
   },
   "source": [
    "#### **Proměnná**\n",
    "\n",
    "- Proměnná slouží pro uchování hodnoty, kterou jí přiřadíme.\n",
    "- Můžeme si jí představit jako `nádobu`, do které něco uložíme a pak pracujeme s celou tou nádobou (například necháme ve výrobě její podobu 10x vytisknout)\n",
    "\n",
    "**Proměnná se skládá ze 3 částí:**\n",
    "1. *Název proměnné*\n",
    "2. *Přiřazovací operátor (=)*\n",
    "3. *Hodnota proměnné*\n",
    "\n",
    "- Do proměnné můžeme přiřadit cokoliv. Nejjednoduším příkladem je přiřazení textového stringu anebo integeru.\n",
    "- Do proměnné však můžeme přiřazovat později i složitější operace - např. matematické\n",
    "\n",
    "**Proměnné usnadňují:**\n",
    "1. **Přehlednost** - *Například `vyska = 170` je jasnější než použití čísla `170` přímo v kódu, kde bys musel hádat, co to číslo znamená*\n",
    "\n",
    "2. **Opakované použití** - *Když máš uloženou hodnotu v proměnné, můžeš ji použít na mnoha místech ve svém programu, aniž bys musel hodnotu znovu zadávat nebo vypočítávat.*\n",
    "\n",
    "3. **Flexibilitu** - *Můžeš snadno aktualizovat hodnotu uloženou v proměnné, což je užitečné například v situacích, kdy se tvoje data mění v průběhu času nebo na základě uživatelského vstupu.*\n",
    "\n",
    "4. **Manipulaci s daty** - *Proměnné ti umožňují provádět operace s daty, jako jsou matematické výpočty, textové manipulace a mnoho dalšího, a výsledky těchto operací můžeš opět ukládat do proměnných.*"
   ]
  },
  {
   "cell_type": "code",
   "execution_count": 8,
   "metadata": {
    "ExecuteTime": {
     "end_time": "2024-11-16T08:54:50.210956Z",
     "start_time": "2024-11-16T08:54:50.205339Z"
    }
   },
   "outputs": [
    {
     "name": "stdout",
     "output_type": "stream",
     "text": [
      "SQL kurz  má 8 lekcí\n",
      "SQL kurz  má 8 lekcí\n"
     ]
    }
   ],
   "source": [
    "text = \"SQL kurz\"\n",
    "pocet_lekci = \"8\"\n",
    "\n",
    "print(text + ' ' + ' má ' + pocet_lekci + ' lekcí')\n",
    "print(text + ' ' + ' má ' + pocet_lekci + ' lekcí')"
   ]
  },
  {
   "cell_type": "code",
   "execution_count": 12,
   "metadata": {
    "ExecuteTime": {
     "end_time": "2024-11-16T08:58:39.154613Z",
     "start_time": "2024-11-16T08:58:39.151171Z"
    },
    "id": "F15orsMn6grp"
   },
   "outputs": [
    {
     "name": "stdout",
     "output_type": "stream",
     "text": [
      "5\n"
     ]
    }
   ],
   "source": [
    "# Vytvoření proměnné s hodnotou 5 a její vypsání\n",
    "jednoducha_promenna = 5\n",
    "print(jednoducha_promenna)"
   ]
  },
  {
   "cell_type": "code",
   "execution_count": null,
   "metadata": {},
   "outputs": [],
   "source": [
    "# Přetypování proměnné na datový typ float \n",
    "jednoducha_promenna = float(jednoducha_promenna)"
   ]
  },
  {
   "cell_type": "code",
   "execution_count": null,
   "metadata": {},
   "outputs": [],
   "source": [
    "# Vypíše nám datový typ proměnné \n",
    "type(jednoducha_promenna)"
   ]
  },
  {
   "cell_type": "code",
   "execution_count": null,
   "metadata": {},
   "outputs": [],
   "source": [
    "# vypíšeme proměnnou\n",
    "print(jednoducha_promenna)"
   ]
  },
  {
   "cell_type": "code",
   "execution_count": null,
   "metadata": {},
   "outputs": [],
   "source": [
    "# Zadávání vstupu a uložení do proměnné\n",
    "uzivatelsky_vstup = input('Zadej číslo: ')"
   ]
  },
  {
   "cell_type": "code",
   "execution_count": null,
   "metadata": {},
   "outputs": [],
   "source": [
    "# Vypsání proměnné s naším vstupem\n",
    "print(uzivatelsky_vstup)"
   ]
  },
  {
   "cell_type": "code",
   "execution_count": null,
   "metadata": {},
   "outputs": [],
   "source": [
    "# Vypsání datového typu proměnné\n",
    "type(uzivatelsky_vstup)"
   ]
  },
  {
   "cell_type": "code",
   "execution_count": null,
   "metadata": {},
   "outputs": [],
   "source": [
    "# Přetypování na int (celočíselná hodnota)\n",
    "uzivatelsky_vstup = int(uzivatelsky_vstup)"
   ]
  },
  {
   "cell_type": "code",
   "execution_count": null,
   "metadata": {},
   "outputs": [],
   "source": [
    "# Vypsání datového typu\n",
    "type(uzivatelsky_vstup)"
   ]
  },
  {
   "cell_type": "code",
   "execution_count": 30,
   "metadata": {
    "ExecuteTime": {
     "end_time": "2024-11-16T09:16:34.554476Z",
     "start_time": "2024-11-16T09:16:34.551498Z"
    }
   },
   "outputs": [],
   "source": [
    "promenna = \"text\" # str, string"
   ]
  },
  {
   "cell_type": "code",
   "execution_count": 20,
   "metadata": {
    "ExecuteTime": {
     "end_time": "2024-11-16T09:08:55.513587Z",
     "start_time": "2024-11-16T09:08:55.511700Z"
    }
   },
   "outputs": [],
   "source": [
    "ciselna_promenna = 100 # int, integer"
   ]
  },
  {
   "cell_type": "code",
   "execution_count": 14,
   "metadata": {
    "ExecuteTime": {
     "end_time": "2024-11-16T09:05:28.094475Z",
     "start_time": "2024-11-16T09:05:28.092688Z"
    }
   },
   "outputs": [],
   "source": [
    "ciselna_promenna_desetinne = 100.0503554450 # float"
   ]
  },
  {
   "cell_type": "code",
   "execution_count": 15,
   "metadata": {
    "ExecuteTime": {
     "end_time": "2024-11-16T09:06:40.616287Z",
     "start_time": "2024-11-16T09:06:40.610673Z"
    }
   },
   "outputs": [],
   "source": [
    "logicka_hodnota = False"
   ]
  },
  {
   "cell_type": "code",
   "execution_count": 28,
   "metadata": {
    "ExecuteTime": {
     "end_time": "2024-11-16T09:13:24.375861Z",
     "start_time": "2024-11-16T09:13:24.371194Z"
    }
   },
   "outputs": [
    {
     "name": "stdout",
     "output_type": "stream",
     "text": [
      "<class 'int'>\n",
      "<class 'float'>\n",
      "<class 'bool'>\n"
     ]
    }
   ],
   "source": [
    "print(type(ciselna_promenna))\n",
    "print(type(ciselna_promenna_desetinne))\n",
    "print(type(logicka_hodnota))"
   ]
  },
  {
   "cell_type": "code",
   "execution_count": 32,
   "metadata": {
    "ExecuteTime": {
     "end_time": "2024-11-16T09:18:15.218204Z",
     "start_time": "2024-11-16T09:18:15.211624Z"
    }
   },
   "outputs": [
    {
     "name": "stdout",
     "output_type": "stream",
     "text": [
      "Text\n"
     ]
    }
   ],
   "source": [
    "print(promenna.capitalize())"
   ]
  },
  {
   "cell_type": "code",
   "execution_count": 27,
   "metadata": {
    "ExecuteTime": {
     "end_time": "2024-11-16T09:12:05.557051Z",
     "start_time": "2024-11-16T09:12:05.540703Z"
    }
   },
   "outputs": [
    {
     "ename": "AttributeError",
     "evalue": "'int' object has no attribute 'capitalize'",
     "output_type": "error",
     "traceback": [
      "\u001b[0;31m---------------------------------------------------------------------------\u001b[0m",
      "\u001b[0;31mAttributeError\u001b[0m                            Traceback (most recent call last)",
      "Cell \u001b[0;32mIn[27], line 1\u001b[0m\n\u001b[0;32m----> 1\u001b[0m ciselna_promenna\u001b[38;5;241m.\u001b[39mcapitalize()\n",
      "\u001b[0;31mAttributeError\u001b[0m: 'int' object has no attribute 'capitalize'"
     ]
    }
   ],
   "source": [
    "ciselna_promenna.capitalize()"
   ]
  },
  {
   "cell_type": "markdown",
   "metadata": {
    "id": "csPW5L6lrQ8J"
   },
   "source": [
    "## Datové typy\n",
    "---\n",
    "**Programovací stavební kameny**:\n",
    "\n",
    "1.   Datové typy\n",
    "2.   Syntaxe (funkce, podmínky, smyčky...)\n",
    "3.   Knihovny (math, pandas, numpy)\n",
    "\n",
    "#### **Základní datové typy**\n",
    "\n",
    "1. `int` - celočíselná hodnota\n",
    "2. `float` - číselná hodnota s plovoucí desetinnou čárkou\n",
    "3. `string` - řetězec, sekvence znaků\n",
    "4. `bool` - logická hodnota, nabývá 2 hodnot - `True`, `False`\n",
    "\n",
    "\n",
    "\n"
   ]
  },
  {
   "cell_type": "code",
   "execution_count": null,
   "metadata": {},
   "outputs": [],
   "source": [
    "# Logika pomocí if statementů\n",
    "krabicka = False\n",
    "\n",
    "if krabicka is True: # True\n",
    "    print('Krabička je true')\n",
    "else: # False\n",
    "    print('Krabička není True')\n",
    "    "
   ]
  },
  {
   "cell_type": "code",
   "execution_count": null,
   "metadata": {},
   "outputs": [],
   "source": [
    "print(krabicka)"
   ]
  },
  {
   "cell_type": "markdown",
   "metadata": {},
   "source": [
    "### BOOL - logická hodnota"
   ]
  },
  {
   "cell_type": "code",
   "execution_count": 52,
   "metadata": {
    "ExecuteTime": {
     "end_time": "2024-11-16T09:53:24.514056Z",
     "start_time": "2024-11-16T09:53:24.510427Z"
    }
   },
   "outputs": [],
   "source": [
    "validace = False"
   ]
  },
  {
   "cell_type": "code",
   "execution_count": 49,
   "metadata": {
    "ExecuteTime": {
     "end_time": "2024-11-16T09:52:17.396606Z",
     "start_time": "2024-11-16T09:52:17.394665Z"
    }
   },
   "outputs": [],
   "source": [
    "# Definice nové funkce\n",
    "def kontroluj_podminku():\n",
    "    if (validace is True):\n",
    "        print(\"Proměnná validace je nastavena na True.\")\n",
    "    else:\n",
    "        print(\"Proměnná `validace` je nastavena na False.\")"
   ]
  },
  {
   "cell_type": "code",
   "execution_count": 53,
   "metadata": {
    "ExecuteTime": {
     "end_time": "2024-11-16T09:53:42.823467Z",
     "start_time": "2024-11-16T09:53:42.821285Z"
    }
   },
   "outputs": [
    {
     "name": "stdout",
     "output_type": "stream",
     "text": [
      "Proměnná validace je nastavena na True.\n"
     ]
    }
   ],
   "source": [
    "validace = True # Proměnnou validace nastavuji na True\n",
    "kontroluj_podminku() # Volám funkci"
   ]
  },
  {
   "cell_type": "code",
   "execution_count": 57,
   "metadata": {
    "ExecuteTime": {
     "end_time": "2024-11-16T09:59:32.564327Z",
     "start_time": "2024-11-16T09:59:32.528966Z"
    }
   },
   "outputs": [
    {
     "name": "stdout",
     "output_type": "stream",
     "text": [
      "Hodnota proměnné a je opravdu 10\n"
     ]
    }
   ],
   "source": [
    "# Nastavuju hodnotu proměnné a na 5\n",
    "a = 10\n",
    "\n",
    "# Kontroluju, zda se hodnota proměnné a rovná pěti\n",
    "if a == 5:\n",
    "    print('Hodnota proměnné a je opravdu 5') # False\n",
    "elif a == 6:\n",
    "    print('Hodnota proměnné a je opravdu 6') # False\n",
    "elif a == 10:\n",
    "    print('Hodnota proměnné a je opravdu 10') # True\n",
    "else:\n",
    "    print('Hodnota proměnné není 5')"
   ]
  },
  {
   "cell_type": "code",
   "execution_count": 59,
   "metadata": {
    "ExecuteTime": {
     "end_time": "2024-11-16T10:01:26.203529Z",
     "start_time": "2024-11-16T10:01:26.200429Z"
    }
   },
   "outputs": [
    {
     "name": "stdout",
     "output_type": "stream",
     "text": [
      "True\n"
     ]
    }
   ],
   "source": [
    "# IF logika přímo v print funkci (vypíše True nebo False)\n",
    "a = 10\n",
    "b = 10\n",
    "\n",
    "print(a==b)"
   ]
  },
  {
   "cell_type": "code",
   "execution_count": 61,
   "metadata": {
    "ExecuteTime": {
     "end_time": "2024-11-16T10:06:22.622998Z",
     "start_time": "2024-11-16T10:06:22.620343Z"
    }
   },
   "outputs": [
    {
     "name": "stdout",
     "output_type": "stream",
     "text": [
      "Automatické plánování je vypnuto, je nutné zaplánovat objednávky ručně...\n"
     ]
    }
   ],
   "source": [
    "# Pobočka Praha\n",
    "planovani_automaticky = False \n",
    "\n",
    "if planovani_automaticky is True:\n",
    "    print('Automatické plánování je zapnuto, posílám objednávky do plánovače ...')\n",
    "    \n",
    "elif planovani_automaticky is False:\n",
    "    print('Automatické plánování je vypnuto, je nutné zaplánovat objednávky ručně...')"
   ]
  },
  {
   "cell_type": "code",
   "execution_count": 63,
   "metadata": {
    "ExecuteTime": {
     "end_time": "2024-11-16T10:09:27.649339Z",
     "start_time": "2024-11-16T10:09:27.646746Z"
    }
   },
   "outputs": [
    {
     "name": "stdout",
     "output_type": "stream",
     "text": [
      "Dobré hodnocení\n"
     ]
    }
   ],
   "source": [
    "znamka = 1\n",
    "\n",
    "if znamka < 4:\n",
    "    print('Dobré hodnocení')\n",
    "elif znamka >= 4:\n",
    "    print('Špatné hodnocení')"
   ]
  },
  {
   "cell_type": "code",
   "execution_count": 64,
   "metadata": {
    "ExecuteTime": {
     "end_time": "2024-11-16T10:09:50.993044Z",
     "start_time": "2024-11-16T10:09:50.988329Z"
    },
    "id": "OSkuTlRVtBdX"
   },
   "outputs": [
    {
     "data": {
      "text/plain": [
       "float"
      ]
     },
     "execution_count": 64,
     "metadata": {},
     "output_type": "execute_result"
    }
   ],
   "source": [
    "# Vytvoření proměnné datového typu float\n",
    "desetinne = 10.5\n",
    "type(desetinne)"
   ]
  },
  {
   "cell_type": "code",
   "execution_count": 65,
   "metadata": {
    "ExecuteTime": {
     "end_time": "2024-11-16T10:10:01.792111Z",
     "start_time": "2024-11-16T10:10:01.788691Z"
    },
    "id": "R3iVhhoEtBDI"
   },
   "outputs": [
    {
     "data": {
      "text/plain": [
       "str"
      ]
     },
     "execution_count": 65,
     "metadata": {},
     "output_type": "execute_result"
    }
   ],
   "source": [
    "# Vytvoření proměnné datového typu string\n",
    "retezec = 'a1156362@@@'\n",
    "type(retezec)"
   ]
  },
  {
   "cell_type": "code",
   "execution_count": 66,
   "metadata": {
    "ExecuteTime": {
     "end_time": "2024-11-16T10:10:07.864129Z",
     "start_time": "2024-11-16T10:10:07.860196Z"
    },
    "id": "vO_WYXRNtDHW"
   },
   "outputs": [
    {
     "data": {
      "text/plain": [
       "bool"
      ]
     },
     "execution_count": 66,
     "metadata": {},
     "output_type": "execute_result"
    }
   ],
   "source": [
    "# Vytvoření proměnné datového typu boolean\n",
    "logicka = True\n",
    "type(logicka)"
   ]
  },
  {
   "cell_type": "markdown",
   "metadata": {
    "id": "bWi67AqrtM3d"
   },
   "source": [
    "#### **Složitější datové typy**\n",
    "\n",
    "1. `list` - seznam, kolekce hodnot, které můžou být různých typů (mutable)\n",
    "2. `tuple` - neměnná (immutable) sekvence hodnot\n",
    "3. `dictionary` - kolekce dvojic klíč-hodnota\n",
    "4. `set` - neseřazená kolekce jedinečných hodnot (neobsahuje duplicity)\n"
   ]
  },
  {
   "cell_type": "markdown",
   "metadata": {
    "id": "yW1S37Sa79N1"
   },
   "source": [
    "---\n",
    "\n",
    "#### **List**\n",
    "\n",
    "`List` to datový typ, který dokáže uchovávat hodnoty různých datových typů.\n",
    "Jednotlivé hodnoty jsou odděleny čárkou.\n",
    "\n",
    "Prázdný `List` lze vytvořit dvěma způsoby:\n",
    "1. Definováním prázdných hranatých závorek `muj_list = []`\n",
    "2. Pomocí zabudované funkce `muj_list = list()`\n",
    "\n",
    "Neprázdný list se tvoří definováním hodnot do hranatých závorek\n",
    "`muj_list = [1, 2, 3, 4]`\n",
    "\n",
    "List může obsahovat i další složitější datové typy, jako jsou slovníky, tuply i vnořené listy\n",
    "\n",
    "Jelikož je `List` mutable datový typ, čili lze v průběhu jeho životnosti měnit, má k tomu také přístupné velké množství metod, které umožňují jednoduché přidávání a odebírání prvků z listu"
   ]
  },
  {
   "cell_type": "code",
   "execution_count": 68,
   "metadata": {
    "ExecuteTime": {
     "end_time": "2024-11-16T10:14:58.310821Z",
     "start_time": "2024-11-16T10:14:58.308334Z"
    }
   },
   "outputs": [
    {
     "data": {
      "text/plain": [
       "list"
      ]
     },
     "execution_count": 68,
     "metadata": {},
     "output_type": "execute_result"
    }
   ],
   "source": [
    "prvni_list = [1, 2, 3, 4, 5]\n",
    "type(prvni_list)"
   ]
  },
  {
   "cell_type": "code",
   "execution_count": 69,
   "metadata": {
    "ExecuteTime": {
     "end_time": "2024-11-16T10:15:46.511068Z",
     "start_time": "2024-11-16T10:15:46.506773Z"
    }
   },
   "outputs": [
    {
     "name": "stdout",
     "output_type": "stream",
     "text": [
      "[1, 2, 3, 4, 5]\n"
     ]
    }
   ],
   "source": [
    "print(prvni_list)"
   ]
  },
  {
   "cell_type": "code",
   "execution_count": 70,
   "metadata": {
    "ExecuteTime": {
     "end_time": "2024-11-16T10:18:41.463702Z",
     "start_time": "2024-11-16T10:18:41.459068Z"
    }
   },
   "outputs": [],
   "source": [
    "# Vkládání nových prvků na konec listu - metoda .append()\n",
    "prvni_list.append(6)"
   ]
  },
  {
   "cell_type": "code",
   "execution_count": 71,
   "metadata": {
    "ExecuteTime": {
     "end_time": "2024-11-16T10:18:51.421903Z",
     "start_time": "2024-11-16T10:18:51.419772Z"
    }
   },
   "outputs": [
    {
     "name": "stdout",
     "output_type": "stream",
     "text": [
      "[1, 2, 3, 4, 5, 6]\n"
     ]
    }
   ],
   "source": [
    "print(prvni_list)"
   ]
  },
  {
   "cell_type": "code",
   "execution_count": 72,
   "metadata": {
    "ExecuteTime": {
     "end_time": "2024-11-16T10:20:18.086011Z",
     "start_time": "2024-11-16T10:20:18.082615Z"
    }
   },
   "outputs": [],
   "source": [
    "prvni_list.append(\"Věta na indexu 7\")"
   ]
  },
  {
   "cell_type": "code",
   "execution_count": 73,
   "metadata": {
    "ExecuteTime": {
     "end_time": "2024-11-16T10:20:27.846668Z",
     "start_time": "2024-11-16T10:20:27.843708Z"
    }
   },
   "outputs": [
    {
     "name": "stdout",
     "output_type": "stream",
     "text": [
      "[1, 2, 3, 4, 5, 6, 'Věta na indexu 7']\n"
     ]
    }
   ],
   "source": [
    "print(prvni_list)"
   ]
  },
  {
   "cell_type": "code",
   "execution_count": 74,
   "metadata": {
    "ExecuteTime": {
     "end_time": "2024-11-16T10:20:55.810793Z",
     "start_time": "2024-11-16T10:20:55.808799Z"
    }
   },
   "outputs": [],
   "source": [
    "prvni_list.append([8,9,10])"
   ]
  },
  {
   "cell_type": "code",
   "execution_count": 75,
   "metadata": {
    "ExecuteTime": {
     "end_time": "2024-11-16T10:21:05.598284Z",
     "start_time": "2024-11-16T10:21:05.596272Z"
    }
   },
   "outputs": [
    {
     "name": "stdout",
     "output_type": "stream",
     "text": [
      "[1, 2, 3, 4, 5, 6, 'Věta na indexu 7', [8, 9, 10]]\n"
     ]
    }
   ],
   "source": [
    "print(prvni_list)"
   ]
  },
  {
   "cell_type": "code",
   "execution_count": null,
   "metadata": {},
   "outputs": [],
   "source": [
    "# Přidat prvek na určité místo v listu"
   ]
  },
  {
   "cell_type": "code",
   "execution_count": 82,
   "metadata": {
    "ExecuteTime": {
     "end_time": "2024-11-16T10:29:26.216268Z",
     "start_time": "2024-11-16T10:29:26.214094Z"
    }
   },
   "outputs": [
    {
     "name": "stdout",
     "output_type": "stream",
     "text": [
      "10\n"
     ]
    }
   ],
   "source": [
    "print(prvni_list[7][2])"
   ]
  },
  {
   "cell_type": "code",
   "execution_count": 83,
   "metadata": {
    "ExecuteTime": {
     "end_time": "2024-11-16T10:38:21.979393Z",
     "start_time": "2024-11-16T10:38:21.974535Z"
    }
   },
   "outputs": [
    {
     "data": {
      "text/plain": [
       "'Berlin'"
      ]
     },
     "execution_count": 83,
     "metadata": {},
     "output_type": "execute_result"
    }
   ],
   "source": [
    "cities = [\n",
    "    ['Warsaw', 'Gdynia', 'Zakopane'], \n",
    "    ['Berlin', 'Hamburg'], \n",
    "    ['Praha', 'Brno', 'Ostava']\n",
    "]\n",
    "\n",
    "# Berlin\n",
    "cities[1][0]"
   ]
  },
  {
   "cell_type": "code",
   "execution_count": 86,
   "metadata": {
    "ExecuteTime": {
     "end_time": "2024-11-16T10:40:54.216886Z",
     "start_time": "2024-11-16T10:40:54.214711Z"
    }
   },
   "outputs": [
    {
     "data": {
      "text/plain": [
       "'česko'"
      ]
     },
     "execution_count": 86,
     "metadata": {},
     "output_type": "execute_result"
    }
   ],
   "source": [
    "list_zemi = ['česko', 'slovensko', 'německo']\n",
    "list_zemi[-3]"
   ]
  },
  {
   "cell_type": "code",
   "execution_count": 87,
   "metadata": {
    "ExecuteTime": {
     "end_time": "2024-11-16T10:43:26.534881Z",
     "start_time": "2024-11-16T10:43:26.527976Z"
    }
   },
   "outputs": [
    {
     "name": "stdout",
     "output_type": "stream",
     "text": [
      "['Praha', 'Brno', 'Zlín']\n"
     ]
    }
   ],
   "source": [
    "list_mest = ['Praha', 'Brno', 'Zlín']\n",
    "print(list_mest)"
   ]
  },
  {
   "cell_type": "code",
   "execution_count": 88,
   "metadata": {
    "ExecuteTime": {
     "end_time": "2024-11-16T10:46:24.495495Z",
     "start_time": "2024-11-16T10:46:24.490846Z"
    }
   },
   "outputs": [],
   "source": [
    "# Vložení prvku na konkrétní místo (index) v listu - metoda .index()\n",
    "list_mest.insert(2, 'Ostrava')"
   ]
  },
  {
   "cell_type": "code",
   "execution_count": 89,
   "metadata": {
    "ExecuteTime": {
     "end_time": "2024-11-16T10:46:30.973932Z",
     "start_time": "2024-11-16T10:46:30.971713Z"
    }
   },
   "outputs": [
    {
     "name": "stdout",
     "output_type": "stream",
     "text": [
      "['Praha', 'Brno', 'Ostrava', 'Zlín']\n"
     ]
    }
   ],
   "source": [
    "print(list_mest)"
   ]
  },
  {
   "cell_type": "code",
   "execution_count": 90,
   "metadata": {
    "ExecuteTime": {
     "end_time": "2024-11-16T11:54:49.837232Z",
     "start_time": "2024-11-16T11:54:49.832363Z"
    }
   },
   "outputs": [],
   "source": [
    "# Mazání prvků v listu \n",
    "\n",
    "list_mest.remove('Brno')"
   ]
  },
  {
   "cell_type": "code",
   "execution_count": 91,
   "metadata": {
    "ExecuteTime": {
     "end_time": "2024-11-16T11:54:57.337498Z",
     "start_time": "2024-11-16T11:54:57.334752Z"
    }
   },
   "outputs": [
    {
     "name": "stdout",
     "output_type": "stream",
     "text": [
      "['Praha', 'Ostrava', 'Zlín']\n"
     ]
    }
   ],
   "source": [
    "print(list_mest)"
   ]
  },
  {
   "cell_type": "code",
   "execution_count": 92,
   "metadata": {
    "ExecuteTime": {
     "end_time": "2024-11-16T11:56:13.822368Z",
     "start_time": "2024-11-16T11:56:13.817203Z"
    }
   },
   "outputs": [
    {
     "data": {
      "text/plain": [
       "'Zlín'"
      ]
     },
     "execution_count": 92,
     "metadata": {},
     "output_type": "execute_result"
    }
   ],
   "source": [
    "list_mest.pop()"
   ]
  },
  {
   "cell_type": "code",
   "execution_count": 93,
   "metadata": {
    "ExecuteTime": {
     "end_time": "2024-11-16T11:56:22.950437Z",
     "start_time": "2024-11-16T11:56:22.946857Z"
    }
   },
   "outputs": [
    {
     "name": "stdout",
     "output_type": "stream",
     "text": [
      "['Praha', 'Ostrava']\n"
     ]
    }
   ],
   "source": [
    "print(list_mest)"
   ]
  },
  {
   "cell_type": "code",
   "execution_count": 113,
   "metadata": {
    "ExecuteTime": {
     "end_time": "2024-11-16T12:15:37.711199Z",
     "start_time": "2024-11-16T12:15:37.708292Z"
    }
   },
   "outputs": [
    {
     "name": "stdout",
     "output_type": "stream",
     "text": [
      "Aleš\n",
      "Jožka\n",
      "Pepa\n",
      "Dominik\n"
     ]
    }
   ],
   "source": [
    "list_neodbavenych_zamestnancu = ['Dominik', 'Pepa', 'Jožka', 'Aleš']\n",
    "list_odbavenych_zamestnancu = []\n",
    "\n",
    "while list_neodbavenych_zamestnancu:\n",
    "    \n",
    "    # Odbavuju zaměstnance ...\n",
    "    docasny_zamestnanec = list_neodbavenych_zamestnancu.pop()  #\n",
    "    print(docasny_zamestnanec)\n",
    "\n",
    "    # Zaměstnance jsem odbavil\n",
    "    list_odbavenych_zamestnancu.append(docasny_zamestnanec)"
   ]
  },
  {
   "cell_type": "code",
   "execution_count": 114,
   "metadata": {
    "ExecuteTime": {
     "end_time": "2024-11-16T12:16:21.803012Z",
     "start_time": "2024-11-16T12:16:21.800543Z"
    }
   },
   "outputs": [
    {
     "name": "stdout",
     "output_type": "stream",
     "text": [
      "['Aleš', 'Jožka', 'Pepa', 'Dominik']\n"
     ]
    }
   ],
   "source": [
    "print(list_odbavenych_zamestnancu)"
   ]
  },
  {
   "cell_type": "markdown",
   "metadata": {},
   "source": [
    "##### 1. možnost"
   ]
  },
  {
   "cell_type": "code",
   "execution_count": null,
   "metadata": {},
   "outputs": [],
   "source": [
    "# Vytvoření listu\n",
    "muj_list = []\n",
    "type(muj_list)"
   ]
  },
  {
   "cell_type": "markdown",
   "metadata": {},
   "source": [
    "##### 2. možnost"
   ]
  },
  {
   "cell_type": "code",
   "execution_count": null,
   "metadata": {},
   "outputs": [],
   "source": [
    "# Vytvoření listu\n",
    "muj_list_2 = list()\n",
    "type(muj_list)"
   ]
  },
  {
   "cell_type": "code",
   "execution_count": null,
   "metadata": {},
   "outputs": [],
   "source": [
    "# Vytvoření listu s konkrétními hodnotami\n",
    "vnoreny_list = ['Dominik', 10, 10.5, ['Vnorene jmeno']]"
   ]
  },
  {
   "cell_type": "code",
   "execution_count": null,
   "metadata": {},
   "outputs": [],
   "source": [
    "# Vypsání obsahu proměnné\n",
    "pritn(vnoreny_list)"
   ]
  },
  {
   "cell_type": "code",
   "execution_count": null,
   "metadata": {},
   "outputs": [],
   "source": [
    "# Vytvoření listu\n",
    "a = [999, \"Text\", 10.0]"
   ]
  },
  {
   "cell_type": "code",
   "execution_count": null,
   "metadata": {},
   "outputs": [],
   "source": [
    "print(a)"
   ]
  },
  {
   "cell_type": "code",
   "execution_count": null,
   "metadata": {},
   "outputs": [],
   "source": [
    "# Přidání hodnoty na konec listu přes metodu .append()\n",
    "a.append(666)"
   ]
  },
  {
   "cell_type": "code",
   "execution_count": null,
   "metadata": {},
   "outputs": [],
   "source": [
    "print(a)"
   ]
  },
  {
   "cell_type": "code",
   "execution_count": null,
   "metadata": {},
   "outputs": [],
   "source": [
    "# Vytvoření listu\n",
    "promenna = [10, 'Text', 10.0, '1', [1, 2]]"
   ]
  },
  {
   "cell_type": "code",
   "execution_count": null,
   "metadata": {},
   "outputs": [],
   "source": [
    "# Pomocí indexace se můžu dostat na konkrétní hodnotu v listu a uložit jí do samostatné proměnné        \n",
    "promenna_druhy_index = promenna[4]"
   ]
  },
  {
   "cell_type": "code",
   "execution_count": null,
   "metadata": {},
   "outputs": [],
   "source": [
    "print(promenna_druhy_index)"
   ]
  },
  {
   "cell_type": "code",
   "execution_count": null,
   "metadata": {},
   "outputs": [],
   "source": [
    "# V případě vnořených struktur, např. list v listu můžu používat vnořené indexování\n",
    "promenna[4][1]"
   ]
  },
  {
   "cell_type": "code",
   "execution_count": null,
   "metadata": {},
   "outputs": [],
   "source": [
    "# Vytvoření listu\n",
    "list_2 = [1, 'text', 2]\n",
    "print(list_2)"
   ]
  },
  {
   "cell_type": "code",
   "execution_count": null,
   "metadata": {},
   "outputs": [],
   "source": [
    "# Pomocí metody .insert() umísťuji konkrétní hodnotu na konkrétní index v listu\n",
    "list_2.insert(0, 'nova hodnota na indexu 0')"
   ]
  },
  {
   "cell_type": "code",
   "execution_count": null,
   "metadata": {},
   "outputs": [],
   "source": [
    "# Vypisuji celý list\n",
    "print(list_2)\n",
    "\n",
    "# Vypisuji pouze prvek na nultém indexu (1. prvek)\n",
    "print(list_2[0])"
   ]
  },
  {
   "cell_type": "code",
   "execution_count": null,
   "metadata": {},
   "outputs": [],
   "source": [
    "# Můžu také smazat prvek na konkrétním indexu\n",
    "list_2.remove(1)"
   ]
  },
  {
   "cell_type": "code",
   "execution_count": null,
   "metadata": {},
   "outputs": [],
   "source": [
    "print(list_2)"
   ]
  },
  {
   "cell_type": "code",
   "execution_count": null,
   "metadata": {},
   "outputs": [],
   "source": [
    "# Vytvoření listu\n",
    "list_2 = [1, 2, 3]"
   ]
  },
  {
   "cell_type": "code",
   "execution_count": null,
   "metadata": {},
   "outputs": [],
   "source": [
    "list_2"
   ]
  },
  {
   "cell_type": "code",
   "execution_count": null,
   "metadata": {},
   "outputs": [],
   "source": [
    "# Přidání hodnoty na konec listu přes metodu .append() - 3x\n",
    "list_2.append('novy')\n",
    "list_2.append('novy')\n",
    "list_2.append('novy')"
   ]
  },
  {
   "cell_type": "code",
   "execution_count": null,
   "metadata": {},
   "outputs": [],
   "source": [
    "print(list_2)"
   ]
  },
  {
   "cell_type": "code",
   "execution_count": null,
   "metadata": {},
   "outputs": [],
   "source": [
    "# Smazání hodnoty 'novy' z listu (provede se pouze jednou)\n",
    "list_2.remove('novy')\n",
    "list_2.remove('novy')\n",
    "list_2.remove('novy')"
   ]
  },
  {
   "cell_type": "code",
   "execution_count": null,
   "metadata": {},
   "outputs": [],
   "source": [
    "print(list_2)"
   ]
  },
  {
   "cell_type": "code",
   "execution_count": null,
   "metadata": {},
   "outputs": [],
   "source": [
    "# For cyklus - vypíše každý prvek v listu\n",
    "for i in list_2:\n",
    "    print(i)"
   ]
  },
  {
   "cell_type": "code",
   "execution_count": null,
   "metadata": {},
   "outputs": [],
   "source": [
    "list_2.append('novy')\n",
    "list_2.append('novy')\n",
    "list_2.append(5)"
   ]
  },
  {
   "cell_type": "code",
   "execution_count": null,
   "metadata": {},
   "outputs": [],
   "source": [
    "print(list_2)"
   ]
  },
  {
   "cell_type": "code",
   "execution_count": null,
   "metadata": {},
   "outputs": [],
   "source": [
    "# For cyklus, abychom mohli přistoupit k jednotlivým prvkům v poli\n",
    "for i in list_2:\n",
    "    # Pro jednotlivé prvky v poli kontrolujeme jejich obsah pomocí IF statementu\n",
    "    if i == 'novy':\n",
    "        list_2.remove(i)\n",
    "        print('Nasel jsem slovo novy, mazu jej.')\n",
    "    else:\n",
    "        print('Slovo novy jsem nenasel, jdu na dalsi iteraci')"
   ]
  },
  {
   "cell_type": "code",
   "execution_count": null,
   "metadata": {},
   "outputs": [],
   "source": [
    "# Prva přetypuju list na set, čímž se zbavím duplicit a pak jej opět převedu na list\n",
    "list(set(list_2))"
   ]
  },
  {
   "cell_type": "code",
   "execution_count": null,
   "metadata": {},
   "outputs": [],
   "source": [
    "list_2 = set(list_2)"
   ]
  },
  {
   "cell_type": "code",
   "execution_count": null,
   "metadata": {},
   "outputs": [],
   "source": [
    "print(list_2)"
   ]
  },
  {
   "cell_type": "markdown",
   "metadata": {},
   "source": [
    "### Úkol č. 1"
   ]
  },
  {
   "cell_type": "markdown",
   "metadata": {},
   "source": [
    "#### Vytvoř proměnnou datového typu list s názvem muj_list, který má hodnoty [1, 3, \"x\"] a vlož na konec nový prvek s hodnotou 10"
   ]
  },
  {
   "cell_type": "code",
   "execution_count": 115,
   "metadata": {
    "ExecuteTime": {
     "end_time": "2024-11-16T12:28:54.249800Z",
     "start_time": "2024-11-16T12:28:54.240306Z"
    }
   },
   "outputs": [
    {
     "name": "stdout",
     "output_type": "stream",
     "text": [
      "[1, 3, 'x', 10]\n"
     ]
    }
   ],
   "source": [
    "muj_list = [1, 3, \"x\"]\n",
    "muj_list.append(10)\n",
    "print(muj_list)"
   ]
  },
  {
   "cell_type": "markdown",
   "metadata": {},
   "source": [
    "### Úkol č. 2\n",
    "#### Do proměnné muj_list vložte na nultý index (na první místo v listu) hodnotu 50"
   ]
  },
  {
   "cell_type": "code",
   "execution_count": 116,
   "metadata": {
    "ExecuteTime": {
     "end_time": "2024-11-16T12:29:39.145841Z",
     "start_time": "2024-11-16T12:29:39.142163Z"
    }
   },
   "outputs": [
    {
     "name": "stdout",
     "output_type": "stream",
     "text": [
      "[50, 1, 3, 'x', 10]\n"
     ]
    }
   ],
   "source": [
    "muj_list.insert(0, 50)\n",
    "print(muj_list)"
   ]
  },
  {
   "cell_type": "markdown",
   "metadata": {},
   "source": [
    "### Úkol č. 3\n",
    "#### Vytvořte proměnnou, přiřaďte jí hodnotu jakoukoliv číselnou hodnotu a napiště podmínku (if statement), která bude kontrolovat, zda-li je hodnota proměnné menší než 51. Pokud ano, vypíše se `Hodnota je menší než 51.` Pokud ne, vypíše se `Hodnota je větší nebo rovna 51`."
   ]
  },
  {
   "cell_type": "code",
   "execution_count": 118,
   "metadata": {
    "ExecuteTime": {
     "end_time": "2024-11-16T12:40:44.767943Z",
     "start_time": "2024-11-16T12:40:44.765938Z"
    }
   },
   "outputs": [
    {
     "name": "stdout",
     "output_type": "stream",
     "text": [
      "Hodnota je menší než 51.\n"
     ]
    }
   ],
   "source": [
    "number = 20\n",
    "\n",
    "if number < 51:\n",
    "    print('Hodnota je menší než 51.')\n",
    "else:\n",
    "    print('Hodnota je větší nebo rovna 51.')"
   ]
  },
  {
   "cell_type": "markdown",
   "metadata": {
    "id": "dOHTGrSc90ev"
   },
   "source": [
    "---\n",
    "\n",
    "#### **Tuple**\n",
    "\n",
    "`Tuple` je na první pohled velmi podobný Listu.\n",
    "\n",
    "`Tuple (n-tice)` v Pythonu je neměnný (immutable) datový typ, který uchovává hodnoty v určitém pořadí. Hodnoty v `tuple` mohou být různých datových typů.\n",
    "\n",
    "Prázdný `tuple` lze vytvořit takto: `muj_tuple = ()`\n",
    "\n",
    "Neprázdný `tuple` vytvoříte umístěním hodnot oddělených čárkou do kulatých závorek: `muj_tuple = (1, 2, 3, 4)`\n",
    "\n",
    "`Tuple` mohou obsahovat další složité datové typy, jako jsou slovníky, další ntice nebo listy.\n",
    "\n",
    "Přestože jsou tuple neměnné a nejde měnit jejich obsah po vytvoření, mohou obsahovat měnitelné objekty, jako jsou listy nebo slovníky. To znamená, že i když nemůžete změnit, které objekty tuple obsahuje, můžete změnit obsah těchto objektů."
   ]
  },
  {
   "cell_type": "code",
   "execution_count": 120,
   "metadata": {
    "ExecuteTime": {
     "end_time": "2024-11-16T12:43:04.604415Z",
     "start_time": "2024-11-16T12:43:04.601600Z"
    }
   },
   "outputs": [
    {
     "data": {
      "text/plain": [
       "tuple"
      ]
     },
     "execution_count": 120,
     "metadata": {},
     "output_type": "execute_result"
    }
   ],
   "source": [
    "muj_tuple = tuple()\n",
    "type(muj_tuple)"
   ]
  },
  {
   "cell_type": "code",
   "execution_count": 121,
   "metadata": {
    "ExecuteTime": {
     "end_time": "2024-11-16T12:43:42.045211Z",
     "start_time": "2024-11-16T12:43:42.041060Z"
    }
   },
   "outputs": [],
   "source": [
    "muj_tuple = (1, 2, 3, 4, 'Text', (1, 2), [3, 4])"
   ]
  },
  {
   "cell_type": "code",
   "execution_count": 124,
   "metadata": {
    "ExecuteTime": {
     "end_time": "2024-11-16T12:44:32.557597Z",
     "start_time": "2024-11-16T12:44:32.539174Z"
    }
   },
   "outputs": [
    {
     "name": "stdout",
     "output_type": "stream",
     "text": [
      "(1, 2, 3, 4, 'Text', (1, 2), [3, 4])\n"
     ]
    },
    {
     "ename": "AttributeError",
     "evalue": "'tuple' object has no attribute 'append'",
     "output_type": "error",
     "traceback": [
      "\u001b[0;31m---------------------------------------------------------------------------\u001b[0m",
      "\u001b[0;31mAttributeError\u001b[0m                            Traceback (most recent call last)",
      "Cell \u001b[0;32mIn[124], line 5\u001b[0m\n\u001b[1;32m      2\u001b[0m \u001b[38;5;28mprint\u001b[39m(muj_tuple)\n\u001b[1;32m      4\u001b[0m \u001b[38;5;66;03m# Přidat prvek\u001b[39;00m\n\u001b[0;32m----> 5\u001b[0m muj_tuple\u001b[38;5;241m.\u001b[39mappend(\u001b[38;5;241m10\u001b[39m)\n",
      "\u001b[0;31mAttributeError\u001b[0m: 'tuple' object has no attribute 'append'"
     ]
    }
   ],
   "source": [
    "type(muj_tuple)\n",
    "print(muj_tuple)\n",
    "\n",
    "# Přidat prvek\n",
    "muj_tuple.append(10)"
   ]
  },
  {
   "cell_type": "code",
   "execution_count": null,
   "metadata": {
    "id": "DYPDh6JBtW2n"
   },
   "outputs": [],
   "source": [
    "# Vytvoření tuple s různými datovými typy\n",
    "muj_tuple = (1, 2, 3, \"text\", [14, 15, 16], {\"dominik\":\"šmída\"}, 15)\n",
    "type(muj_tuple)"
   ]
  },
  {
   "cell_type": "code",
   "execution_count": null,
   "metadata": {},
   "outputs": [],
   "source": [
    "muj_list = [1, 2, 3, \"text\", [14, 15, 16], {\"dominik\":\"šmída\"}, 15]\n",
    "\n",
    "# Přidání hodnoty na konec listu\n",
    "muj_list.append(5)"
   ]
  },
  {
   "cell_type": "code",
   "execution_count": 126,
   "metadata": {
    "ExecuteTime": {
     "end_time": "2024-11-16T12:51:44.918156Z",
     "start_time": "2024-11-16T12:51:44.915356Z"
    }
   },
   "outputs": [
    {
     "name": "stdout",
     "output_type": "stream",
     "text": [
      "([1, 2, 3], 4)\n"
     ]
    }
   ],
   "source": [
    "muj_tuple = ([1, 2, 3], 4)\n",
    "print(muj_tuple)"
   ]
  },
  {
   "cell_type": "code",
   "execution_count": 129,
   "metadata": {
    "ExecuteTime": {
     "end_time": "2024-11-16T12:52:59.708052Z",
     "start_time": "2024-11-16T12:52:59.705413Z"
    }
   },
   "outputs": [],
   "source": [
    "muj_tuple[0][0] = 5"
   ]
  },
  {
   "cell_type": "code",
   "execution_count": 130,
   "metadata": {
    "ExecuteTime": {
     "end_time": "2024-11-16T12:53:04.742988Z",
     "start_time": "2024-11-16T12:53:04.740292Z"
    }
   },
   "outputs": [
    {
     "name": "stdout",
     "output_type": "stream",
     "text": [
      "([5, 2, 3], 4)\n"
     ]
    }
   ],
   "source": [
    "print(muj_tuple)"
   ]
  },
  {
   "cell_type": "code",
   "execution_count": null,
   "metadata": {
    "id": "gGVkXJBS-U6_"
   },
   "outputs": [],
   "source": [
    "# Vytvoření tuple obsahující list a slovník\n",
    "muj_tuple = ([1, 2, 3], 1, 2)\n",
    "\n",
    "# Přístup k prvkům v tuple\n",
    "print(\"Původní tuple:\", muj_tuple)\n",
    "\n",
    "# Změna obsahu listu uvnitř tuple\n",
    "muj_tuple[0][1] = 'změněno'\n",
    "print(\"Tuple po změně listu:\", muj_tuple)\n",
    "\n",
    "# Změna obsahu slovníku uvnitř tuple\n",
    "muj_tuple[1]['klic'] = 'nová hodnota'\n",
    "print(\"Tuple po změně slovníku:\", muj_tuple)\n"
   ]
  },
  {
   "cell_type": "markdown",
   "metadata": {
    "id": "K_AsYsHk4ihR"
   },
   "source": [
    "---\n",
    "\n",
    "#### **Rozdíl mezi `tuple` a `list`**\n",
    "\n",
    "- `list` je mutable datový typ, takže se elementy v něm můžou přidat (od toho je odvozen i velký počet metod pro tyto operace)\n",
    "- `tuple` je immutable datový typ. Protože je tuple neměnný, neobsahuje metody pro změnu svého obsahu, jako jsou `append()`, `remove()` nebo `pop()`, které naleznete u měnitelných datových typů jako je `list`."
   ]
  },
  {
   "cell_type": "markdown",
   "metadata": {
    "id": "3QZQNQjn2ngb"
   },
   "source": [
    "---\n",
    "\n",
    "#### **Konvence názvů proměnných**\n",
    "1. *camelCase* - `mojePromenna` - každé nové slovo začíná velkým písmenem. Pozor na to, že první písmeno je vždy **malé**!\n",
    "2. *snake_case* - `moje_promenna` - každé nové slovo je odděleno podtržítkem `_`\n",
    "\n",
    "**Proměnná nesmí začínat písmenem, obsahovat mezery či speciální znaky kromě podtržítka!**\n",
    "\n",
    "Je vhodné držet konvenčnost pojmenování stejnou napříč celým programem."
   ]
  },
  {
   "cell_type": "markdown",
   "metadata": {},
   "source": [
    "# Slovník"
   ]
  },
  {
   "cell_type": "code",
   "execution_count": 142,
   "metadata": {
    "ExecuteTime": {
     "end_time": "2024-11-16T13:22:32.834747Z",
     "start_time": "2024-11-16T13:22:32.830916Z"
    }
   },
   "outputs": [],
   "source": [
    "slovnik = {'car':'auto', \n",
    "           'cat':'kocka', \n",
    "           'dog': 'pes'}"
   ]
  },
  {
   "cell_type": "code",
   "execution_count": 139,
   "metadata": {
    "ExecuteTime": {
     "end_time": "2024-11-16T13:19:05.113688Z",
     "start_time": "2024-11-16T13:19:05.111217Z"
    }
   },
   "outputs": [
    {
     "data": {
      "text/plain": [
       "'pes'"
      ]
     },
     "execution_count": 139,
     "metadata": {},
     "output_type": "execute_result"
    }
   ],
   "source": [
    "\n",
    "# 1. způsob získání hodnoty pro daný klíč\n",
    "slovnik['car']\n",
    "\n",
    "# 2. způsob získání hodnoty pro daný klíč\n",
    "slovnik.get('dog', 'Překlad nenalezen')"
   ]
  },
  {
   "cell_type": "code",
   "execution_count": 141,
   "metadata": {
    "ExecuteTime": {
     "end_time": "2024-11-16T13:21:50.897649Z",
     "start_time": "2024-11-16T13:21:50.891744Z"
    }
   },
   "outputs": [
    {
     "data": {
      "text/plain": [
       "dict_values(['auto', 'kocka', 'pes'])"
      ]
     },
     "execution_count": 141,
     "metadata": {},
     "output_type": "execute_result"
    }
   ],
   "source": [
    "slovnik.keys() # Anglicke hodnoty (klíče)\n",
    "slovnik.values() # České hodnoty (hodnoty)"
   ]
  },
  {
   "cell_type": "code",
   "execution_count": 143,
   "metadata": {
    "ExecuteTime": {
     "end_time": "2024-11-16T13:23:45.672049Z",
     "start_time": "2024-11-16T13:23:45.667080Z"
    }
   },
   "outputs": [],
   "source": [
    "slovnik.update({'building': 'budova'})"
   ]
  },
  {
   "cell_type": "code",
   "execution_count": 144,
   "metadata": {
    "ExecuteTime": {
     "end_time": "2024-11-16T13:23:51.819378Z",
     "start_time": "2024-11-16T13:23:51.816872Z"
    }
   },
   "outputs": [
    {
     "name": "stdout",
     "output_type": "stream",
     "text": [
      "{'car': 'auto', 'cat': 'kocka', 'dog': 'pes', 'building': 'budova'}\n"
     ]
    }
   ],
   "source": [
    "print(slovnik)"
   ]
  },
  {
   "cell_type": "code",
   "execution_count": 146,
   "metadata": {
    "ExecuteTime": {
     "end_time": "2024-11-16T13:28:16.758828Z",
     "start_time": "2024-11-16T13:28:16.754775Z"
    }
   },
   "outputs": [],
   "source": [
    "# Funkce, která nám umožní do slovníku přidat nový překlad\n",
    "def pridej_preklad(slovnik, anglicke_slovo, ceske_slovo):\n",
    "    slovnik.update(\n",
    "        {anglicke_slovo: ceske_slovo} \n",
    "    )\n",
    "    \n",
    "    return slovnik"
   ]
  },
  {
   "cell_type": "code",
   "execution_count": 153,
   "metadata": {
    "ExecuteTime": {
     "end_time": "2024-11-16T13:40:53.355283Z",
     "start_time": "2024-11-16T13:40:53.352850Z"
    }
   },
   "outputs": [
    {
     "name": "stdout",
     "output_type": "stream",
     "text": [
      "{'car': 'auto', 'cat': 'kocka', 'dog': 'pes', 'building': 'budova', 'road': 'cesta', 'pen': 'pero'}\n"
     ]
    }
   ],
   "source": [
    "slovnik = pridej_preklad(slovnik=slovnik, anglicke_slovo='road', ceske_slovo='cesta') # road - cesta\n",
    "print(slovnik)"
   ]
  },
  {
   "cell_type": "code",
   "execution_count": 149,
   "metadata": {
    "ExecuteTime": {
     "end_time": "2024-11-16T13:34:19.825473Z",
     "start_time": "2024-11-16T13:34:19.808945Z"
    }
   },
   "outputs": [],
   "source": [
    "slovnik = pridej_preklad(slovnik=slovnik, anglicke_slovo='pen', ceske_slovo='pero') # pen - pero"
   ]
  },
  {
   "cell_type": "code",
   "execution_count": 150,
   "metadata": {
    "ExecuteTime": {
     "end_time": "2024-11-16T13:35:08.439635Z",
     "start_time": "2024-11-16T13:35:08.432962Z"
    }
   },
   "outputs": [
    {
     "name": "stdout",
     "output_type": "stream",
     "text": [
      "{'building': 'budova',\n",
      " 'car': 'auto',\n",
      " 'cat': 'kocka',\n",
      " 'dog': 'pes',\n",
      " 'pen': 'pero',\n",
      " 'road': 'cesta'}\n"
     ]
    }
   ],
   "source": [
    "from pprint import pprint\n",
    "pprint(slovnik)"
   ]
  },
  {
   "cell_type": "markdown",
   "metadata": {
    "id": "k2wLHOYm3t5l"
   },
   "source": [
    "Příklad `camelCase`"
   ]
  },
  {
   "cell_type": "code",
   "execution_count": 154,
   "metadata": {
    "ExecuteTime": {
     "end_time": "2024-11-16T13:50:25.325715Z",
     "start_time": "2024-11-16T13:50:25.320973Z"
    }
   },
   "outputs": [],
   "source": [
    "uzivatele = {\n",
    "    'jmeno': ['Dominik', 'Aleš', 'Ondřej'],\n",
    "    'prijmeni': ['Šmída', 'osička', 'Brzobohatý'],\n",
    "    'vek': [35, 40, 25]\n",
    "}"
   ]
  },
  {
   "cell_type": "code",
   "execution_count": 168,
   "metadata": {
    "ExecuteTime": {
     "end_time": "2024-11-16T13:58:05.757852Z",
     "start_time": "2024-11-16T13:58:05.752730Z"
    }
   },
   "outputs": [
    {
     "name": "stdout",
     "output_type": "stream",
     "text": [
      "{'jmeno': ['Dominik', 'Aleš', 'Ondřej'],\n",
      " 'prijmeni': ['Šmída', 'osička', 'Brzobohatý'],\n",
      " 'vek': [35, 40, 25]}\n"
     ]
    }
   ],
   "source": [
    "from pprint import pprint\n",
    "pprint(uzivatele)"
   ]
  },
  {
   "cell_type": "code",
   "execution_count": 156,
   "metadata": {
    "ExecuteTime": {
     "end_time": "2024-11-16T13:51:16.142385Z",
     "start_time": "2024-11-16T13:51:13.315854Z"
    }
   },
   "outputs": [],
   "source": [
    "import pandas as pd\n",
    "df = pd.DataFrame(uzivatele)"
   ]
  },
  {
   "cell_type": "code",
   "execution_count": 183,
   "metadata": {
    "ExecuteTime": {
     "end_time": "2024-11-16T14:29:12.606349Z",
     "start_time": "2024-11-16T14:29:12.589583Z"
    }
   },
   "outputs": [
    {
     "data": {
      "text/html": [
       "<div>\n",
       "<style scoped>\n",
       "    .dataframe tbody tr th:only-of-type {\n",
       "        vertical-align: middle;\n",
       "    }\n",
       "\n",
       "    .dataframe tbody tr th {\n",
       "        vertical-align: top;\n",
       "    }\n",
       "\n",
       "    .dataframe thead th {\n",
       "        text-align: right;\n",
       "    }\n",
       "</style>\n",
       "<table border=\"1\" class=\"dataframe\">\n",
       "  <thead>\n",
       "    <tr style=\"text-align: right;\">\n",
       "      <th></th>\n",
       "      <th>jmeno</th>\n",
       "      <th>prijmeni</th>\n",
       "      <th>vek</th>\n",
       "    </tr>\n",
       "  </thead>\n",
       "  <tbody>\n",
       "    <tr>\n",
       "      <th>0</th>\n",
       "      <td>Dominik</td>\n",
       "      <td>Šmída</td>\n",
       "      <td>35</td>\n",
       "    </tr>\n",
       "    <tr>\n",
       "      <th>1</th>\n",
       "      <td>Aleš</td>\n",
       "      <td>osička</td>\n",
       "      <td>40</td>\n",
       "    </tr>\n",
       "    <tr>\n",
       "      <th>2</th>\n",
       "      <td>Ondřej</td>\n",
       "      <td>Brzobohatý</td>\n",
       "      <td>25</td>\n",
       "    </tr>\n",
       "  </tbody>\n",
       "</table>\n",
       "</div>"
      ],
      "text/plain": [
       "     jmeno    prijmeni  vek\n",
       "0  Dominik       Šmída   35\n",
       "1     Aleš      osička   40\n",
       "2   Ondřej  Brzobohatý   25"
      ]
     },
     "execution_count": 183,
     "metadata": {},
     "output_type": "execute_result"
    }
   ],
   "source": [
    "df.head()\n",
    "#df['vek'].mean()"
   ]
  },
  {
   "cell_type": "markdown",
   "metadata": {},
   "source": [
    "## Přidávání nových itemů do slovníku"
   ]
  },
  {
   "cell_type": "markdown",
   "metadata": {},
   "source": [
    "#### 1. způsob"
   ]
  },
  {
   "cell_type": "code",
   "execution_count": 180,
   "metadata": {
    "ExecuteTime": {
     "end_time": "2024-11-16T14:26:57.394676Z",
     "start_time": "2024-11-16T14:26:57.368109Z"
    }
   },
   "outputs": [
    {
     "name": "stdout",
     "output_type": "stream",
     "text": [
      "{'vek': 50}\n"
     ]
    }
   ],
   "source": [
    "# Nový slovník (prázdný)\n",
    "people = {'vek': 50}\n",
    "print(people)"
   ]
  },
  {
   "cell_type": "code",
   "execution_count": 181,
   "metadata": {
    "ExecuteTime": {
     "end_time": "2024-11-16T14:27:20.611735Z",
     "start_time": "2024-11-16T14:27:20.606943Z"
    }
   },
   "outputs": [],
   "source": [
    "nova_data = {'jmeno': 'Dominik'}\n",
    "# 1. způsob\n",
    "people.update(nova_data) # Dvojice - klíč a hodnota / key a value {'key':'value'}\n",
    "# 2. způsob\n",
    "#people.update({'jmeno': 'Dominik'})"
   ]
  },
  {
   "cell_type": "code",
   "execution_count": 206,
   "metadata": {
    "ExecuteTime": {
     "end_time": "2024-11-16T14:51:19.443287Z",
     "start_time": "2024-11-16T14:51:19.438608Z"
    }
   },
   "outputs": [
    {
     "name": "stdout",
     "output_type": "stream",
     "text": [
      "{'jmeno': 'Eva'}\n"
     ]
    }
   ],
   "source": [
    "print(people)"
   ]
  },
  {
   "cell_type": "markdown",
   "metadata": {},
   "source": [
    "#### 2. způsob"
   ]
  },
  {
   "cell_type": "code",
   "execution_count": 207,
   "metadata": {
    "ExecuteTime": {
     "end_time": "2024-11-16T14:51:38.149756Z",
     "start_time": "2024-11-16T14:51:38.145246Z"
    }
   },
   "outputs": [],
   "source": [
    "people['jmeno'] = 'David'"
   ]
  },
  {
   "cell_type": "code",
   "execution_count": 208,
   "metadata": {
    "ExecuteTime": {
     "end_time": "2024-11-16T14:51:43.963182Z",
     "start_time": "2024-11-16T14:51:43.960627Z"
    }
   },
   "outputs": [
    {
     "name": "stdout",
     "output_type": "stream",
     "text": [
      "{'jmeno': 'David'}\n"
     ]
    }
   ],
   "source": [
    "print(people)"
   ]
  },
  {
   "cell_type": "code",
   "execution_count": 213,
   "metadata": {
    "ExecuteTime": {
     "end_time": "2024-11-16T14:58:38.352960Z",
     "start_time": "2024-11-16T14:58:38.350115Z"
    }
   },
   "outputs": [],
   "source": [
    "uzivatele = {\n",
    "    'jmeno': ['Dominik', 'Aleš', 'Ondřej'],\n",
    "    'prijmeni': ['Šmída', 'osička', 'Brzobohatý'],\n",
    "    'vek': [35, None, 25]\n",
    "}"
   ]
  },
  {
   "cell_type": "code",
   "execution_count": 214,
   "metadata": {
    "ExecuteTime": {
     "end_time": "2024-11-16T14:59:00.210861Z",
     "start_time": "2024-11-16T14:59:00.206905Z"
    }
   },
   "outputs": [
    {
     "name": "stdout",
     "output_type": "stream",
     "text": [
      "{'jmeno': ['Dominik', 'Aleš', 'Ondřej', 'Aneta'], 'prijmeni': ['Šmída', 'osička', 'Brzobohatý'], 'vek': [35, None, 25]}\n"
     ]
    }
   ],
   "source": [
    "uzivatele['jmeno'].append('Aneta')\n",
    "print(uzivatele)"
   ]
  },
  {
   "cell_type": "code",
   "execution_count": 215,
   "metadata": {
    "ExecuteTime": {
     "end_time": "2024-11-16T14:59:01.516443Z",
     "start_time": "2024-11-16T14:59:01.514224Z"
    }
   },
   "outputs": [],
   "source": [
    "uzivatele['prijmeni'].append('Osičková')\n",
    "uzivatele['vek'].append(30)"
   ]
  },
  {
   "cell_type": "code",
   "execution_count": 216,
   "metadata": {
    "ExecuteTime": {
     "end_time": "2024-11-16T14:59:10.771653Z",
     "start_time": "2024-11-16T14:59:10.766384Z"
    }
   },
   "outputs": [
    {
     "data": {
      "text/plain": [
       "{'jmeno': ['Dominik', 'Aleš', 'Ondřej', 'Aneta'],\n",
       " 'prijmeni': ['Šmída', 'osička', 'Brzobohatý', 'Osičková'],\n",
       " 'vek': [35, None, 25, 30]}"
      ]
     },
     "execution_count": 216,
     "metadata": {},
     "output_type": "execute_result"
    }
   ],
   "source": [
    "uzivatele"
   ]
  },
  {
   "cell_type": "code",
   "execution_count": 238,
   "metadata": {
    "ExecuteTime": {
     "end_time": "2024-11-16T15:56:51.227130Z",
     "start_time": "2024-11-16T15:56:51.221579Z"
    }
   },
   "outputs": [
    {
     "name": "stdout",
     "output_type": "stream",
     "text": [
      "Průměrný věk z mého datasetu je: 30.0 let.\n"
     ]
    }
   ],
   "source": [
    "import pandas as pd\n",
    "\n",
    "df = pd.DataFrame(uzivatele)\n",
    "\n",
    "df.head()\n",
    "\n",
    "prumerny_vek = df['vek'].mean()\n",
    "print(f'Průměrný věk z mého datasetu je: {prumerny_vek} let.')"
   ]
  },
  {
   "cell_type": "markdown",
   "metadata": {},
   "source": [
    "### V klíči věk smazat hodnotu 35 a na první místo vložit hodnotu 34"
   ]
  },
  {
   "cell_type": "code",
   "execution_count": 203,
   "metadata": {
    "ExecuteTime": {
     "end_time": "2024-11-16T14:47:32.463117Z",
     "start_time": "2024-11-16T14:47:32.449304Z"
    }
   },
   "outputs": [
    {
     "name": "stdout",
     "output_type": "stream",
     "text": [
      "{'jmeno': ['Dominik', 'Aleš', 'Ondřej', 'Aneta'], 'prijmeni': ['Šmída', 'osička', 'Brzobohatý', 'Osičková'], 'vek': [35, 40, 25, 30]}\n",
      "{'jmeno': ['Dominik', 'Aleš', 'Ondřej', 'Aneta'], 'prijmeni': ['Šmída', 'osička', 'Brzobohatý', 'Osičková'], 'vek': [40, 25, 30]}\n"
     ]
    }
   ],
   "source": [
    "print(uzivatele)\n",
    "uzivatele['vek'].remove(35)\n",
    "print(uzivatele)"
   ]
  },
  {
   "cell_type": "code",
   "execution_count": 204,
   "metadata": {
    "ExecuteTime": {
     "end_time": "2024-11-16T14:49:19.998529Z",
     "start_time": "2024-11-16T14:49:19.994370Z"
    }
   },
   "outputs": [
    {
     "name": "stdout",
     "output_type": "stream",
     "text": [
      "[40, 25, 30]\n",
      "[34, 40, 25, 30]\n"
     ]
    }
   ],
   "source": [
    "print(uzivatele['vek'])\n",
    "uzivatele['vek'].insert(0, 34)\n",
    "print(uzivatele['vek'])"
   ]
  },
  {
   "cell_type": "code",
   "execution_count": 205,
   "metadata": {
    "ExecuteTime": {
     "end_time": "2024-11-16T14:49:34.592174Z",
     "start_time": "2024-11-16T14:49:34.588433Z"
    }
   },
   "outputs": [
    {
     "data": {
      "text/plain": [
       "{'jmeno': ['Dominik', 'Aleš', 'Ondřej', 'Aneta'],\n",
       " 'prijmeni': ['Šmída', 'osička', 'Brzobohatý', 'Osičková'],\n",
       " 'vek': [34, 40, 25, 30]}"
      ]
     },
     "execution_count": 205,
     "metadata": {},
     "output_type": "execute_result"
    }
   ],
   "source": [
    "uzivatele"
   ]
  },
  {
   "cell_type": "code",
   "execution_count": 191,
   "metadata": {
    "ExecuteTime": {
     "end_time": "2024-11-16T14:35:33.560826Z",
     "start_time": "2024-11-16T14:35:33.546746Z"
    }
   },
   "outputs": [],
   "source": [
    "uzivatele = {\n",
    "    'jmeno': 'Dominik'\n",
    "}"
   ]
  },
  {
   "cell_type": "code",
   "execution_count": 196,
   "metadata": {
    "ExecuteTime": {
     "end_time": "2024-11-16T14:38:06.040896Z",
     "start_time": "2024-11-16T14:38:06.030582Z"
    },
    "id": "RBaTZogE3omk"
   },
   "outputs": [],
   "source": [
    "uzivatele['jmeno'] = ['Dominik']"
   ]
  },
  {
   "cell_type": "code",
   "execution_count": 198,
   "metadata": {
    "ExecuteTime": {
     "end_time": "2024-11-16T14:38:45.288272Z",
     "start_time": "2024-11-16T14:38:45.283700Z"
    }
   },
   "outputs": [
    {
     "name": "stdout",
     "output_type": "stream",
     "text": [
      "{'jmeno': ['Dominik']}\n",
      "{'jmeno': ['Dominik', 'Aneta']}\n"
     ]
    }
   ],
   "source": [
    "print(uzivatele)\n",
    "uzivatele['jmeno'].append('Aneta')\n",
    "print(uzivatele)"
   ]
  },
  {
   "cell_type": "markdown",
   "metadata": {
    "id": "3Gr1PjFc3yrR"
   },
   "source": [
    "Příklad `snake_case`"
   ]
  },
  {
   "cell_type": "markdown",
   "metadata": {},
   "source": [
    "### Příklad: Vytvořit proměnnou datového typu dict a přidat nový item (novou dvojici) - klíč: `jméno`, hodnota: `Vaše jméno`"
   ]
  },
  {
   "cell_type": "code",
   "execution_count": 229,
   "metadata": {
    "ExecuteTime": {
     "end_time": "2024-11-16T15:37:01.326584Z",
     "start_time": "2024-11-16T15:37:01.320657Z"
    }
   },
   "outputs": [
    {
     "name": "stdout",
     "output_type": "stream",
     "text": [
      "{'jmeno': 'Dominik'}\n"
     ]
    }
   ],
   "source": [
    "muj_slovnik = {}\n",
    "novy_item = {'jmeno':'Dominik'}\n",
    "muj_slovnik.update(novy_item)\n",
    "\n",
    "print(muj_slovnik)"
   ]
  },
  {
   "cell_type": "code",
   "execution_count": 230,
   "metadata": {
    "ExecuteTime": {
     "end_time": "2024-11-16T15:37:50.456258Z",
     "start_time": "2024-11-16T15:37:50.447579Z"
    }
   },
   "outputs": [
    {
     "name": "stdout",
     "output_type": "stream",
     "text": [
      "{'jmeno': 'Dominik'}\n"
     ]
    }
   ],
   "source": [
    "# 2. řešení\n",
    "muj_slovnik = {}\n",
    "muj_slovnik['jmeno'] = 'Dominik'\n",
    "\n",
    "print(muj_slovnik)"
   ]
  },
  {
   "cell_type": "markdown",
   "metadata": {},
   "source": [
    "### Příklad: Vytvořit list `muj_list` s hodnotami `[\"Kočka\", \"Pes\", \"Kocour\"]`\n",
    "1. Na konec listu vložit nový prvek (jakékoliv zvíře)\n",
    "2. Na první index vložit nový prvek (zvíře `Kuře`)\n",
    "3. Z listu `muj_list` smazat prvek (zvíře) `Kočka`"
   ]
  },
  {
   "cell_type": "code",
   "execution_count": 231,
   "metadata": {
    "ExecuteTime": {
     "end_time": "2024-11-16T15:49:34.164072Z",
     "start_time": "2024-11-16T15:49:34.149185Z"
    }
   },
   "outputs": [
    {
     "name": "stdout",
     "output_type": "stream",
     "text": [
      "Slon byl úspěšně přidán na konec listu\n",
      "Na první index bylo úspěšně vloženo kuře\n",
      "Úspěšně jsem odstranil slovo Kočka\n"
     ]
    }
   ],
   "source": [
    "muj_list = [\"Kočka\", \"Pes\", \"Kocour\"]\n",
    "\n",
    "# 1. append()\n",
    "muj_list.append('Slon')\n",
    "print('Slon byl úspěšně přidán na konec listu')\n",
    "# 2. insert()\n",
    "muj_list.insert(1, \"Kuře\")\n",
    "print('Na první index bylo úspěšně vloženo kuře')\n",
    "# 3. remove()\n",
    "muj_list.remove(\"Kočka\")\n",
    "print('Úspěšně jsem odstranil slovo Kočka')"
   ]
  },
  {
   "cell_type": "code",
   "execution_count": 232,
   "metadata": {
    "ExecuteTime": {
     "end_time": "2024-11-16T15:49:44.596634Z",
     "start_time": "2024-11-16T15:49:44.591665Z"
    }
   },
   "outputs": [
    {
     "name": "stdout",
     "output_type": "stream",
     "text": [
      "['Kuře', 'Pes', 'Kocour', 'Slon']\n"
     ]
    }
   ],
   "source": [
    "print(muj_list)"
   ]
  },
  {
   "cell_type": "markdown",
   "metadata": {},
   "source": [
    "### fprint"
   ]
  },
  {
   "cell_type": "code",
   "execution_count": 235,
   "metadata": {
    "ExecuteTime": {
     "end_time": "2024-11-16T15:54:10.973090Z",
     "start_time": "2024-11-16T15:54:10.967890Z"
    }
   },
   "outputs": [
    {
     "name": "stdout",
     "output_type": "stream",
     "text": [
      "Součet čísel 5 a 10 je 15\n"
     ]
    }
   ],
   "source": [
    "x = 5\n",
    "y = 10\n",
    "\n",
    "vysledek = x + y\n",
    "print(f'Součet čísel {x} a {y} je {vysledek}')"
   ]
  },
  {
   "cell_type": "code",
   "execution_count": 240,
   "metadata": {
    "ExecuteTime": {
     "end_time": "2024-11-16T15:59:57.922925Z",
     "start_time": "2024-11-16T15:59:57.883916Z"
    }
   },
   "outputs": [
    {
     "ename": "TypeError",
     "evalue": "can only concatenate list (not \"str\") to list",
     "output_type": "error",
     "traceback": [
      "\u001b[0;31m---------------------------------------------------------------------------\u001b[0m",
      "\u001b[0;31mTypeError\u001b[0m                                 Traceback (most recent call last)",
      "Cell \u001b[0;32mIn[240], line 2\u001b[0m\n\u001b[1;32m      1\u001b[0m muj_list \u001b[38;5;241m=\u001b[39m [\u001b[38;5;124m'\u001b[39m\u001b[38;5;124mkočka\u001b[39m\u001b[38;5;124m'\u001b[39m, \u001b[38;5;124m'\u001b[39m\u001b[38;5;124mpes\u001b[39m\u001b[38;5;124m'\u001b[39m, \u001b[38;5;124m'\u001b[39m\u001b[38;5;124mkocour\u001b[39m\u001b[38;5;124m'\u001b[39m]\n\u001b[0;32m----> 2\u001b[0m muj_list \u001b[38;5;241m=\u001b[39m [\u001b[38;5;124m'\u001b[39m\u001b[38;5;124mkure\u001b[39m\u001b[38;5;124m'\u001b[39m] \u001b[38;5;241m+\u001b[39m muj_list[\u001b[38;5;241m1\u001b[39m:] \u001b[38;5;241m+\u001b[39m \u001b[38;5;124m'\u001b[39m\u001b[38;5;124mprase\u001b[39m\u001b[38;5;124m'\u001b[39m\n\u001b[1;32m      3\u001b[0m muj_list\n",
      "\u001b[0;31mTypeError\u001b[0m: can only concatenate list (not \"str\") to list"
     ]
    }
   ],
   "source": [
    "muj_list = ['kočka', 'pes', 'kocour']\n",
    "muj_list = ['kure'] + muj_list[1:] + ['prase']\n",
    "muj_list"
   ]
  },
  {
   "cell_type": "code",
   "execution_count": null,
   "metadata": {
    "id": "7DyxK3zO33mJ"
   },
   "outputs": [],
   "source": [
    "customer_name = \"Dominik\""
   ]
  },
  {
   "cell_type": "markdown",
   "metadata": {
    "id": "Q6kY_J8G3HNq"
   },
   "source": [
    "---\n",
    "\n",
    "#### Názvy proměnných\n",
    "\n",
    "Proměnné by vždy měly dávat smysl již dle názvu.\n",
    "Zároveň by název proměnné **neměla** obsahovat pouze jeden znak."
   ]
  },
  {
   "cell_type": "code",
   "execution_count": null,
   "metadata": {
    "id": "W3zY0B1e3c-S"
   },
   "outputs": [],
   "source": [
    "koren_x1 = 25\n",
    "koren_x2 = 30"
   ]
  },
  {
   "cell_type": "markdown",
   "metadata": {
    "id": "Z7c3AOMbvx9a"
   },
   "source": [
    "---\n",
    "\n",
    "#### **Tisknutí výsledků**\n",
    "Používáme příkaz `print()`, do kterého vložíme text či proměnnou, kterou chceme vypsat.\n"
   ]
  },
  {
   "cell_type": "code",
   "execution_count": null,
   "metadata": {
    "id": "S2P64T4xvxpE"
   },
   "outputs": [],
   "source": [
    "print(\"Vypisuji text\")"
   ]
  },
  {
   "cell_type": "markdown",
   "metadata": {
    "id": "Zcmdwh_0wENF"
   },
   "source": [
    "Můžu vypsat také **proměnnou** a to pomocí 2 způsobů:\n",
    "1. format\n",
    "2. f-string"
   ]
  },
  {
   "cell_type": "code",
   "execution_count": null,
   "metadata": {
    "id": "n93lYJkWwJTm"
   },
   "outputs": [],
   "source": [
    "promenna = 5\n",
    "print(\"Mé číslo je: {}\".format(promenna))"
   ]
  },
  {
   "cell_type": "markdown",
   "metadata": {
    "id": "Hje97G8vwbp6"
   },
   "source": [
    "Použití f-stringů, které se v Pythonu objevily od verze 3.6 jsou přehlednější a jednodušší k použití"
   ]
  },
  {
   "cell_type": "code",
   "execution_count": null,
   "metadata": {
    "id": "WUhayOjdwm4t"
   },
   "outputs": [],
   "source": [
    "print(f\"Mé číslo je: {promenna}\")"
   ]
  },
  {
   "cell_type": "code",
   "execution_count": null,
   "metadata": {},
   "outputs": [],
   "source": [
    "a = 500\n",
    "\n",
    "print(f\"\"\"Proměnná a má přiřazenou hodnotu {a}\n",
    "druhý řádek\n",
    "třetí řádek\n",
    "\"\"\")"
   ]
  },
  {
   "cell_type": "markdown",
   "metadata": {
    "id": "yqB36x6FPWuu"
   },
   "source": [
    "---\n",
    "\n",
    "#### **Možnosti zápisu stringů**\n",
    "Pro zápis stringů máme 3 možnosti:\n",
    "1. dvojité uvozovky - `\"Text\"`\n",
    "2. Jednoduché uvozovky - `'Text'`\n",
    "3. Trojité uvozovky - `\"\"\"Text\"\"\"'` či `'''Text'''`\n",
    "\n",
    "Trojité uvozovky slouží k víceřádkovému zápisu\n"
   ]
  },
  {
   "cell_type": "code",
   "execution_count": null,
   "metadata": {},
   "outputs": [],
   "source": [
    "print(\"That's a dog\")"
   ]
  },
  {
   "cell_type": "code",
   "execution_count": null,
   "metadata": {
    "id": "YsH1OhS3QBxv"
   },
   "outputs": [],
   "source": [
    "print(\n",
    "    \"\"\"\n",
    "    Toto je víceřádkový string - řádek 1\n",
    "    řádek 2\n",
    "    \"\"\"\n",
    "    )"
   ]
  },
  {
   "cell_type": "markdown",
   "metadata": {
    "id": "uZ8vKqtpoe9N"
   },
   "source": [
    "---\n",
    "\n",
    "#### **Speciální znaky**\n",
    "1.   `\\'`\t**apostrof**\n",
    "2.   `\\\\`\tzpětné lomítko\n",
    "3.   `\\n`\t**nový řádek**\n",
    "4.   `\\r`\tnávrat vozíku\n",
    "5.   `\\t`\t**tabulátor**\n",
    "6.   `\\b`\tnávrat o jeden znak\n",
    "7.   `\\f`\todstránkování"
   ]
  },
  {
   "cell_type": "code",
   "execution_count": null,
   "metadata": {},
   "outputs": [],
   "source": [
    "print(\"That\\'s a dog\\nThat's a cat\\tThat's a lion\")"
   ]
  },
  {
   "cell_type": "code",
   "execution_count": null,
   "metadata": {
    "colab": {
     "base_uri": "https://localhost:8080/"
    },
    "id": "qHBEh6SnoaEF",
    "outputId": "db32329e-3769-449a-f360-9000316cdb26"
   },
   "outputs": [],
   "source": [
    "print(\"That's him!\")"
   ]
  },
  {
   "cell_type": "code",
   "execution_count": null,
   "metadata": {
    "id": "u5HSj552s67j"
   },
   "outputs": [],
   "source": [
    "print('That\\'s him!')"
   ]
  },
  {
   "cell_type": "code",
   "execution_count": null,
   "metadata": {
    "colab": {
     "base_uri": "https://localhost:8080/"
    },
    "id": "VNoHGQSFpQn6",
    "outputId": "289d57d4-151e-426d-a220-f775414fd2cc"
   },
   "outputs": [],
   "source": [
    "print('That\\'s him!')"
   ]
  },
  {
   "cell_type": "markdown",
   "metadata": {
    "id": "fy-qKrFkpcNf"
   },
   "source": [
    "#### **Spojování stringů**\n",
    "\n",
    "---\n",
    "\n",
    "Operátor + u číselných typů provede součet. Můžeme je použít i u stringů. Zde neplní účel sčítání, ale za účel spojování stringů:\n"
   ]
  },
  {
   "cell_type": "code",
   "execution_count": null,
   "metadata": {
    "id": "dn9ULbVepusJ"
   },
   "outputs": [],
   "source": [
    "slovo_1 = \"10,11,12\"\n",
    "slovo_2 = \",13,14,15\""
   ]
  },
  {
   "cell_type": "code",
   "execution_count": null,
   "metadata": {
    "colab": {
     "base_uri": "https://localhost:8080/",
     "height": 35
    },
    "id": "IHElEfe9pzP0",
    "outputId": "e44bcdcd-141f-4748-d347-1087e401562c"
   },
   "outputs": [],
   "source": [
    "spojeni = slovo_1 + slovo_2\n",
    "spojeni"
   ]
  },
  {
   "cell_type": "markdown",
   "metadata": {
    "id": "_1-5o0WzTDMY"
   },
   "source": [
    "---\n",
    "\n",
    "#### **Práce se stringy a proměnnými**\n",
    "Stringy (i proměnné jiných datových typů) se dají spojovat pomocí operandu `+`.\n",
    "\n",
    "Další metodou je deklarování těchto proměnných přímo v rámci syntaxe pro výpis, využívajíc přitom formátovací řetězce, známé jako f-stringy\n"
   ]
  },
  {
   "cell_type": "code",
   "execution_count": null,
   "metadata": {
    "id": "6-d_mjkfTIze"
   },
   "outputs": [],
   "source": [
    "string_1 = \"Toto \"\n",
    "string_2 = \"je \"\n",
    "string_3 = \"modul \"\n",
    "string_4 = \"Pythonu.\"\n",
    "\n",
    "cely_text = string_1+string_2+string_3+string_4\n",
    "cely_text"
   ]
  },
  {
   "cell_type": "markdown",
   "metadata": {
    "id": "xh7l3ffIT-PK"
   },
   "source": [
    "Použití f-stringu"
   ]
  },
  {
   "cell_type": "code",
   "execution_count": null,
   "metadata": {
    "id": "QSpMcpKUTX0i"
   },
   "outputs": [],
   "source": [
    "print(f\"{string_1}{string_2}{string_3}{string_4}\")"
   ]
  },
  {
   "cell_type": "markdown",
   "metadata": {
    "id": "iVAyf10BRIFc"
   },
   "source": [
    "---\n",
    "#### **Úkol**\n",
    "Vytvořte celkem 2 proměnné. Do první proměnné `name` uložte vaše jméno, do druhé proměnné `surname` uložte vaše příjmení.\n",
    "Tyto dvě proměnné vytiskněte tak, aby se na jednom řádku vytisklo vaše jméno a příjmení i s mezerou mezi slovy (např. `Dominik Šmída`)"
   ]
  },
  {
   "cell_type": "markdown",
   "metadata": {},
   "source": [
    "### 1. způsob"
   ]
  },
  {
   "cell_type": "code",
   "execution_count": null,
   "metadata": {},
   "outputs": [],
   "source": [
    "name = \"Dominik\"\n",
    "surname = \"Šmída\"\n",
    "spojeni_jmena_a_prijmeni = name + \" \" + surname\n",
    "print(spojeni_jmena_a_prijmeni)"
   ]
  },
  {
   "cell_type": "markdown",
   "metadata": {},
   "source": [
    "2. způsob"
   ]
  },
  {
   "cell_type": "code",
   "execution_count": null,
   "metadata": {},
   "outputs": [],
   "source": [
    "name = \"Dominik\"\n",
    "surname = \"Šmída\"\n",
    "cele_jmeno = name + \" \" + surname\n",
    "print(f'Uživatel se jmenuje: {cele_jmeno}')"
   ]
  },
  {
   "cell_type": "markdown",
   "metadata": {
    "id": "mwQLWlB2p9va"
   },
   "source": [
    "#### **Opakování**\n",
    "\n",
    "\n",
    "---\n",
    "\n",
    "Pomocí operátoru * můžeme násobit znaky (chars).\n"
   ]
  },
  {
   "cell_type": "code",
   "execution_count": null,
   "metadata": {
    "id": "7CjQqxblqDa8"
   },
   "outputs": [],
   "source": [
    "znak = '*'\n",
    "pronasobeni = 10 * znak\n",
    "print(pronasobeni)"
   ]
  },
  {
   "cell_type": "markdown",
   "metadata": {
    "id": "hX8xyV8sqY_J"
   },
   "source": [
    "#### **Indexování**\n",
    "\n",
    "---\n",
    "\n",
    "String je složený ze znaků, které mají své pořadí. Toto pořadí je určené  tzv. indexem, což je celé číslo. Pomocí tohoto indexu můžeme přistupovat na konkrétní znak stringu.\n",
    "Důležité: **Indexace začíná od nuly! Tzn. první znak v textu má vždy index 0!**"
   ]
  },
  {
   "cell_type": "code",
   "execution_count": null,
   "metadata": {
    "colab": {
     "base_uri": "https://localhost:8080/"
    },
    "id": "R95YXjiJqLgx",
    "outputId": "7d85dc3c-c287-4a72-ee8b-c41fc11ec3f4"
   },
   "outputs": [],
   "source": [
    "slovo = \"Neandrtálec\"\n",
    "prvni_pismeno = slovo[0]\n",
    "print(f\"Celé slovo: {slovo}\")\n",
    "print(f\"Poslední znak: {prvni_pismeno}\")"
   ]
  },
  {
   "cell_type": "markdown",
   "metadata": {
    "id": "3zaOlxphq6lL"
   },
   "source": [
    "Můžeme indexovat také odzadu"
   ]
  },
  {
   "cell_type": "code",
   "execution_count": null,
   "metadata": {
    "colab": {
     "base_uri": "https://localhost:8080/"
    },
    "id": "XBHvODw5qqHy",
    "outputId": "2cbd810c-f372-4705-ddcd-f7c3f41228a2"
   },
   "outputs": [],
   "source": [
    "posledni_pismeno = slovo[-1]\n",
    "print(f\"Celé slovo: {slovo}\")\n",
    "print(f\"Poslední znak: {posledni_pismeno}\")"
   ]
  }
 ],
 "metadata": {
  "colab": {
   "provenance": []
  },
  "kernelspec": {
   "display_name": "Python 3 (ipykernel)",
   "language": "python",
   "name": "python3"
  },
  "language_info": {
   "codemirror_mode": {
    "name": "ipython",
    "version": 3
   },
   "file_extension": ".py",
   "mimetype": "text/x-python",
   "name": "python",
   "nbconvert_exporter": "python",
   "pygments_lexer": "ipython3",
   "version": "3.9.13"
  }
 },
 "nbformat": 4,
 "nbformat_minor": 1
}
