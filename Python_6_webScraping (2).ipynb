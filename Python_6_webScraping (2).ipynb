{
 "cells": [
  {
   "cell_type": "markdown",
   "metadata": {},
   "source": [
    "### WebScraping \n",
    "\n",
    "Knihovna: `BeautifulSoup`"
   ]
  },
  {
   "cell_type": "code",
   "execution_count": 307,
   "metadata": {},
   "outputs": [],
   "source": [
    "#!pip install BeautifulSoup4"
   ]
  },
  {
   "cell_type": "code",
   "execution_count": 308,
   "metadata": {},
   "outputs": [],
   "source": [
    "import requests\n",
    "from bs4 import BeautifulSoup\n",
    "\n",
    "# Získáme HTML kód stránky\n",
    "data = requests.get('https://mystore-testlab.coderslab.pl/').text\n",
    "\n",
    "# HTML kód rozparsujeme pomocí knihovny BeatifulSoup\n",
    "soup = BeautifulSoup(data, 'html.parser')"
   ]
  },
  {
   "cell_type": "code",
   "execution_count": 309,
   "metadata": {},
   "outputs": [],
   "source": [
    "#sekce_kategorie = soup.find('div', class_ = 'row')"
   ]
  },
  {
   "cell_type": "code",
   "execution_count": 310,
   "metadata": {},
   "outputs": [],
   "source": [
    "prvni_kategorie = soup.find('li', class_ = 'category').find('a', 'dropdown-item').text "
   ]
  },
  {
   "cell_type": "code",
   "execution_count": 311,
   "metadata": {},
   "outputs": [
    {
     "data": {
      "text/plain": [
       "'Clothes'"
      ]
     },
     "execution_count": 311,
     "metadata": {},
     "output_type": "execute_result"
    }
   ],
   "source": [
    "prvni_kategorie.replace('\\n\\n\\n\\ue313\\n\\ue316\\n\\n\\n', '').replace('\\n', '').strip()"
   ]
  },
  {
   "cell_type": "code",
   "execution_count": 312,
   "metadata": {},
   "outputs": [
    {
     "data": {
      "text/plain": [
       "[{'nazev_kategorie': 'Clothes',\n",
       "  'url': 'https://mystore-testlab.coderslab.pl/index.php?id_category=3&controller=category'},\n",
       " {'nazev_kategorie': 'Accessories',\n",
       "  'url': 'https://mystore-testlab.coderslab.pl/index.php?id_category=6&controller=category'},\n",
       " {'nazev_kategorie': 'Art',\n",
       "  'url': 'https://mystore-testlab.coderslab.pl/index.php?id_category=9&controller=category'}]"
      ]
     },
     "execution_count": 312,
     "metadata": {},
     "output_type": "execute_result"
    }
   ],
   "source": [
    "# Získáme všechny kategorie\n",
    "list_kategorii = soup.find('ul', class_='top-menu')\n",
    "list_odkazovych_tagu = list_kategorii.findAll('a', attrs={'data-depth':'0'})\n",
    "# 1. způsob - list comprehension\n",
    "\n",
    "#nazvy_kategorii = [prvek.text\n",
    "#                   .replace('\\n\\n\\n\\ue313\\n\\ue316\\n\\n\\n', '')\n",
    "#                   .replace('\\n', '')\n",
    "#                   .strip() for prvek in list_odkazovych_tagu]\n",
    "\n",
    "# 2. způsob - delší zápis for cyklu\n",
    "nazvy_kategorii = []\n",
    "# Inicializuju si list kategorie, do které budu vkládat slovník kategorie (url + název kategorie)\n",
    "kategorie = []\n",
    "for prvek in list_odkazovych_tagu:\n",
    "    # získáváme očištěný název kategorie\n",
    "    ocisteny_nazev_kategorie = prvek.text.replace('\\n\\n\\n\\ue313\\n\\ue316\\n\\n\\n', '').replace('\\n', '').strip()\n",
    "    # získáváme url adresu\n",
    "    odkaz = prvek['href']\n",
    "    kategorie.append(\n",
    "         {\n",
    "            'nazev_kategorie': ocisteny_nazev_kategorie,\n",
    "            'url': odkaz\n",
    "         }\n",
    "    )\n",
    "\n",
    "kategorie"
   ]
  },
  {
   "cell_type": "code",
   "execution_count": 313,
   "metadata": {},
   "outputs": [
    {
     "data": {
      "text/html": [
       "<div>\n",
       "<style scoped>\n",
       "    .dataframe tbody tr th:only-of-type {\n",
       "        vertical-align: middle;\n",
       "    }\n",
       "\n",
       "    .dataframe tbody tr th {\n",
       "        vertical-align: top;\n",
       "    }\n",
       "\n",
       "    .dataframe thead th {\n",
       "        text-align: right;\n",
       "    }\n",
       "</style>\n",
       "<table border=\"1\" class=\"dataframe\">\n",
       "  <thead>\n",
       "    <tr style=\"text-align: right;\">\n",
       "      <th></th>\n",
       "      <th>nazev_kategorie</th>\n",
       "      <th>url</th>\n",
       "    </tr>\n",
       "  </thead>\n",
       "  <tbody>\n",
       "    <tr>\n",
       "      <th>0</th>\n",
       "      <td>Clothes</td>\n",
       "      <td>https://mystore-testlab.coderslab.pl/index.php...</td>\n",
       "    </tr>\n",
       "    <tr>\n",
       "      <th>1</th>\n",
       "      <td>Accessories</td>\n",
       "      <td>https://mystore-testlab.coderslab.pl/index.php...</td>\n",
       "    </tr>\n",
       "    <tr>\n",
       "      <th>2</th>\n",
       "      <td>Art</td>\n",
       "      <td>https://mystore-testlab.coderslab.pl/index.php...</td>\n",
       "    </tr>\n",
       "  </tbody>\n",
       "</table>\n",
       "</div>"
      ],
      "text/plain": [
       "  nazev_kategorie                                                url\n",
       "0         Clothes  https://mystore-testlab.coderslab.pl/index.php...\n",
       "1     Accessories  https://mystore-testlab.coderslab.pl/index.php...\n",
       "2             Art  https://mystore-testlab.coderslab.pl/index.php..."
      ]
     },
     "execution_count": 313,
     "metadata": {},
     "output_type": "execute_result"
    }
   ],
   "source": [
    "kategorie\n",
    "import pandas as pd\n",
    "df = pd.DataFrame(kategorie)\n",
    "df.head()"
   ]
  },
  {
   "cell_type": "code",
   "execution_count": 314,
   "metadata": {},
   "outputs": [],
   "source": [
    "def get_categories_urls():\n",
    "    \"\"\"\n",
    "    Tahle funkce extrahuje ze stránky objekt kategorie s jejím názvem a url adresou.\n",
    "    \"\"\"\n",
    "    import requests\n",
    "    from bs4 import BeautifulSoup\n",
    "\n",
    "    # Získáme HTML kód stránky\n",
    "    data = requests.get('https://mystore-testlab.coderslab.pl/').text\n",
    "\n",
    "    # HTML kód rozparsujeme pomocí knihovny BeatifulSoup\n",
    "    soup = BeautifulSoup(data, 'html.parser')\n",
    "\n",
    "    # Získáme všechny kategorie\n",
    "    list_kategorii = soup.find('ul', class_='top-menu')\n",
    "    list_odkazovych_tagu = list_kategorii.findAll('a', attrs={'data-depth':'0'})\n",
    "    # 1. způsob - list comprehension\n",
    "\n",
    "    #nazvy_kategorii = [prvek.text\n",
    "    #                   .replace('\\n\\n\\n\\ue313\\n\\ue316\\n\\n\\n', '')\n",
    "    #                   .replace('\\n', '')\n",
    "    #                   .strip() for prvek in list_odkazovych_tagu]\n",
    "\n",
    "    # 2. způsob - delší zápis for cyklu\n",
    "    nazvy_kategorii = []\n",
    "    # Inicializuju si list kategorie, do které budu vkládat slovník kategorie (url + název kategorie)\n",
    "    kategorie = []\n",
    "    for prvek in list_odkazovych_tagu:\n",
    "        # získáváme očištěný název kategorie\n",
    "        ocisteny_nazev_kategorie = prvek.text.replace('\\n\\n\\n\\ue313\\n\\ue316\\n\\n\\n', '').replace('\\n', '').strip()\n",
    "        # získáváme url adresu\n",
    "        odkaz = prvek['href']\n",
    "        kategorie.append(\n",
    "            {\n",
    "                'nazev_kategorie': ocisteny_nazev_kategorie,\n",
    "                'url': odkaz\n",
    "            }\n",
    "        )\n",
    "\n",
    "    return kategorie"
   ]
  },
  {
   "cell_type": "code",
   "execution_count": 315,
   "metadata": {},
   "outputs": [],
   "source": [
    "kategorie_webu = get_categories_urls()"
   ]
  },
  {
   "cell_type": "code",
   "execution_count": 316,
   "metadata": {},
   "outputs": [
    {
     "data": {
      "text/plain": [
       "[{'nazev_kategorie': 'Clothes',\n",
       "  'url': 'https://mystore-testlab.coderslab.pl/index.php?id_category=3&controller=category'},\n",
       " {'nazev_kategorie': 'Accessories',\n",
       "  'url': 'https://mystore-testlab.coderslab.pl/index.php?id_category=6&controller=category'},\n",
       " {'nazev_kategorie': 'Art',\n",
       "  'url': 'https://mystore-testlab.coderslab.pl/index.php?id_category=9&controller=category'}]"
      ]
     },
     "execution_count": 316,
     "metadata": {},
     "output_type": "execute_result"
    }
   ],
   "source": [
    "kategorie_webu"
   ]
  },
  {
   "cell_type": "code",
   "execution_count": 317,
   "metadata": {},
   "outputs": [
    {
     "data": {
      "text/html": [
       "<div>\n",
       "<style scoped>\n",
       "    .dataframe tbody tr th:only-of-type {\n",
       "        vertical-align: middle;\n",
       "    }\n",
       "\n",
       "    .dataframe tbody tr th {\n",
       "        vertical-align: top;\n",
       "    }\n",
       "\n",
       "    .dataframe thead th {\n",
       "        text-align: right;\n",
       "    }\n",
       "</style>\n",
       "<table border=\"1\" class=\"dataframe\">\n",
       "  <thead>\n",
       "    <tr style=\"text-align: right;\">\n",
       "      <th></th>\n",
       "      <th>nazev_kategorie</th>\n",
       "      <th>url</th>\n",
       "    </tr>\n",
       "  </thead>\n",
       "  <tbody>\n",
       "    <tr>\n",
       "      <th>0</th>\n",
       "      <td>Clothes</td>\n",
       "      <td>https://mystore-testlab.coderslab.pl/index.php...</td>\n",
       "    </tr>\n",
       "    <tr>\n",
       "      <th>1</th>\n",
       "      <td>Accessories</td>\n",
       "      <td>https://mystore-testlab.coderslab.pl/index.php...</td>\n",
       "    </tr>\n",
       "    <tr>\n",
       "      <th>2</th>\n",
       "      <td>Art</td>\n",
       "      <td>https://mystore-testlab.coderslab.pl/index.php...</td>\n",
       "    </tr>\n",
       "  </tbody>\n",
       "</table>\n",
       "</div>"
      ],
      "text/plain": [
       "  nazev_kategorie                                                url\n",
       "0         Clothes  https://mystore-testlab.coderslab.pl/index.php...\n",
       "1     Accessories  https://mystore-testlab.coderslab.pl/index.php...\n",
       "2             Art  https://mystore-testlab.coderslab.pl/index.php..."
      ]
     },
     "execution_count": 317,
     "metadata": {},
     "output_type": "execute_result"
    }
   ],
   "source": [
    "pd.DataFrame(kategorie_webu)"
   ]
  },
  {
   "cell_type": "markdown",
   "metadata": {},
   "source": [
    "### Získat cenu a název produktu pro danou kategorii (url adresu)"
   ]
  },
  {
   "cell_type": "code",
   "execution_count": 318,
   "metadata": {},
   "outputs": [],
   "source": [
    "import requests\n",
    "from bs4 import BeautifulSoup\n",
    "\n",
    "url = 'https://mystore-testlab.coderslab.pl/index.php?id_category=3&controller=category'\n",
    "\n",
    "def get_product_detail(url: str) -> list[dict]:\n",
    "    \"\"\"\n",
    "    Funkce vrací detail produktu (cena, název) pro zvolenou url adresu (kategorii)\n",
    "    \"\"\"\n",
    "    data = requests.get(url).text\n",
    "\n",
    "    # Rozparsovat pomocí objektu beatifulSoup\n",
    "    soup = BeautifulSoup(data, 'html.parser')\n",
    "\n",
    "    products_container = soup.find('div', class_='products row')\n",
    "    list_produktu = products_container.findAll('div', class_='js-product product col-xs-6 col-xl-4')\n",
    "\n",
    "    seznam_produktu = []\n",
    "\n",
    "    for produkt in list_produktu:\n",
    "        # Najít a uložit cenu\n",
    "        cena = produkt.find('span', class_='price').text.strip()\n",
    "        # Najít a uložit název produktu\n",
    "        nazev_produktu = produkt.find('h2', class_='h3 product-title').find('a').text\n",
    "        slovnik = {\n",
    "            'nazev_produktu': nazev_produktu,\n",
    "            'cena': cena\n",
    "        }\n",
    "        seznam_produktu.append(slovnik)\n",
    "    \n",
    "    return seznam_produktu"
   ]
  },
  {
   "cell_type": "code",
   "execution_count": 319,
   "metadata": {},
   "outputs": [
    {
     "data": {
      "text/plain": [
       "[{'nazev_produktu': 'Hummingbird printed t-shirt', 'cena': '€19.12'},\n",
       " {'nazev_produktu': 'Hummingbird printed sweater', 'cena': '€28.72'},\n",
       " {'nazev_produktu': '2nd Hummingbird printed...', 'cena': '€19.12'},\n",
       " {'nazev_produktu': '2nd Hummingbird printed...', 'cena': '€28.72'},\n",
       " {'nazev_produktu': 'Test kolorow', 'cena': '€0.00'}]"
      ]
     },
     "execution_count": 319,
     "metadata": {},
     "output_type": "execute_result"
    }
   ],
   "source": [
    "get_product_detail('https://mystore-testlab.coderslab.pl/index.php?id_category=3&controller=category')"
   ]
  },
  {
   "cell_type": "code",
   "execution_count": null,
   "metadata": {},
   "outputs": [],
   "source": [
    "get_product_detail('https://mystore-testlab.coderslab.pl/index.php?id_category=6&controller=category')"
   ]
  },
  {
   "cell_type": "code",
   "execution_count": 321,
   "metadata": {},
   "outputs": [],
   "source": [
    "produkty_accessories = get_product_detail(url='https://mystore-testlab.coderslab.pl/index.php?id_category=6&controller=category')"
   ]
  },
  {
   "cell_type": "code",
   "execution_count": 322,
   "metadata": {},
   "outputs": [],
   "source": [
    "# Převedeme to DataFrame\n",
    "import pandas as pd\n",
    "df = pd.DataFrame(produkty_accessories)\n",
    "\n",
    "df.head()\n",
    "\n",
    "# Ze sloupce cena odstranit znak eura\n",
    "df['cena'] = df['cena'].str.replace('€', '').astype(float)"
   ]
  },
  {
   "cell_type": "code",
   "execution_count": 323,
   "metadata": {},
   "outputs": [
    {
     "data": {
      "text/html": [
       "<div>\n",
       "<style scoped>\n",
       "    .dataframe tbody tr th:only-of-type {\n",
       "        vertical-align: middle;\n",
       "    }\n",
       "\n",
       "    .dataframe tbody tr th {\n",
       "        vertical-align: top;\n",
       "    }\n",
       "\n",
       "    .dataframe thead th {\n",
       "        text-align: right;\n",
       "    }\n",
       "</style>\n",
       "<table border=\"1\" class=\"dataframe\">\n",
       "  <thead>\n",
       "    <tr style=\"text-align: right;\">\n",
       "      <th></th>\n",
       "      <th>nazev_produktu</th>\n",
       "      <th>cena</th>\n",
       "    </tr>\n",
       "  </thead>\n",
       "  <tbody>\n",
       "    <tr>\n",
       "      <th>0</th>\n",
       "      <td>Mug The adventure begins</td>\n",
       "      <td>11.9</td>\n",
       "    </tr>\n",
       "    <tr>\n",
       "      <th>1</th>\n",
       "      <td>Mug The best is yet to come</td>\n",
       "      <td>11.9</td>\n",
       "    </tr>\n",
       "    <tr>\n",
       "      <th>2</th>\n",
       "      <td>Mug Today is a good day</td>\n",
       "      <td>11.9</td>\n",
       "    </tr>\n",
       "    <tr>\n",
       "      <th>3</th>\n",
       "      <td>Brown bear cushion</td>\n",
       "      <td>18.9</td>\n",
       "    </tr>\n",
       "    <tr>\n",
       "      <th>4</th>\n",
       "      <td>Mountain fox cushion</td>\n",
       "      <td>18.9</td>\n",
       "    </tr>\n",
       "  </tbody>\n",
       "</table>\n",
       "</div>"
      ],
      "text/plain": [
       "                nazev_produktu  cena\n",
       "0     Mug The adventure begins  11.9\n",
       "1  Mug The best is yet to come  11.9\n",
       "2      Mug Today is a good day  11.9\n",
       "3           Brown bear cushion  18.9\n",
       "4         Mountain fox cushion  18.9"
      ]
     },
     "execution_count": 323,
     "metadata": {},
     "output_type": "execute_result"
    }
   ],
   "source": [
    "df.head()"
   ]
  },
  {
   "cell_type": "code",
   "execution_count": 324,
   "metadata": {},
   "outputs": [
    {
     "name": "stdout",
     "output_type": "stream",
     "text": [
      "Průměrná cena produktů je: 16.075€\n",
      "Maximální cena produktu je: 35.0€\n"
     ]
    }
   ],
   "source": [
    "# Vypočítat průměrnou cenu\n",
    "prumerna_cena = df['cena'].mean()\n",
    "print(f'Průměrná cena produktů je: {prumerna_cena}€')\n",
    "# Zjistit maximální cenu produktu\n",
    "maximalni_cena = df['cena'].max()\n",
    "print(f'Maximální cena produktu je: {maximalni_cena}€')"
   ]
  },
  {
   "cell_type": "code",
   "execution_count": 325,
   "metadata": {},
   "outputs": [
    {
     "name": "stdout",
     "output_type": "stream",
     "text": [
      "<class 'pandas.core.frame.DataFrame'>\n",
      "RangeIndex: 12 entries, 0 to 11\n",
      "Data columns (total 2 columns):\n",
      " #   Column          Non-Null Count  Dtype  \n",
      "---  ------          --------------  -----  \n",
      " 0   nazev_produktu  12 non-null     object \n",
      " 1   cena            12 non-null     float64\n",
      "dtypes: float64(1), object(1)\n",
      "memory usage: 324.0+ bytes\n"
     ]
    }
   ],
   "source": [
    "df.info()"
   ]
  },
  {
   "cell_type": "markdown",
   "metadata": {},
   "source": [
    "### WebScraping: URL: https://www.music-to-scrape.org/"
   ]
  },
  {
   "cell_type": "code",
   "execution_count": null,
   "metadata": {},
   "outputs": [],
   "source": [
    "import requests\n",
    "from bs4 import BeautifulSoup\n",
    "\n",
    "data = requests.get('https://www.music-to-scrape.org/').text\n",
    "\n",
    "soup = BeautifulSoup(data, 'html.parser')\n",
    "\n",
    "sekce_top_15 = soup.find('section', class_='my-4').findAll('div', class_='row')[1]"
   ]
  },
  {
   "cell_type": "code",
   "execution_count": null,
   "metadata": {},
   "outputs": [],
   "source": [
    "list_divu_pisnicky = sekce_top_15.findAll('div', class_='list-group-item list-group-item-action border')\n",
    "top_15 = []\n",
    "for div in list_divu_pisnicky:\n",
    "    # Najdi jméno autora písničky\n",
    "    autor = div.find('div', class_='center-vertical center-text').find('h5').text\n",
    "    # Najdi jméno písničky\n",
    "    nazev_pisnicky = div.find('div', class_='center-vertical center-text').find('p').text\n",
    "    # Najdi pořadí v žebříčku\n",
    "    poradi_v_zebricku = div.find('div', class_='center-vertical text-center').find('h2').text\n",
    "\n",
    "    # Vytvořit objekt pisnicky s informaci autor,nazev,poradi a pro kazdy song v zebricku tento objekt ulozit do listu top_15\n",
    "    top_15.append(\n",
    "        {\n",
    "            'Autor': autor,\n",
    "            'Název píšničky': nazev_pisnicky,\n",
    "            'Pořadí v TOP 15:': poradi_v_zebricku\n",
    "        }\n",
    "   )\n",
    "\n",
    "top_15"
   ]
  },
  {
   "cell_type": "code",
   "execution_count": null,
   "metadata": {},
   "outputs": [
    {
     "data": {
      "text/html": [
       "<div>\n",
       "<style scoped>\n",
       "    .dataframe tbody tr th:only-of-type {\n",
       "        vertical-align: middle;\n",
       "    }\n",
       "\n",
       "    .dataframe tbody tr th {\n",
       "        vertical-align: top;\n",
       "    }\n",
       "\n",
       "    .dataframe thead th {\n",
       "        text-align: right;\n",
       "    }\n",
       "</style>\n",
       "<table border=\"1\" class=\"dataframe\">\n",
       "  <thead>\n",
       "    <tr style=\"text-align: right;\">\n",
       "      <th></th>\n",
       "      <th>Autor</th>\n",
       "      <th>Název píšničky</th>\n",
       "      <th>Pořadí v TOP 15:</th>\n",
       "    </tr>\n",
       "  </thead>\n",
       "  <tbody>\n",
       "    <tr>\n",
       "      <th>0</th>\n",
       "      <td>Tito Puente</td>\n",
       "      <td>China</td>\n",
       "      <td>1</td>\n",
       "    </tr>\n",
       "    <tr>\n",
       "      <th>1</th>\n",
       "      <td>DJ Quik</td>\n",
       "      <td>Pacific Coast Remix</td>\n",
       "      <td>2</td>\n",
       "    </tr>\n",
       "    <tr>\n",
       "      <th>2</th>\n",
       "      <td>Babylon Disco</td>\n",
       "      <td>Funk You</td>\n",
       "      <td>3</td>\n",
       "    </tr>\n",
       "    <tr>\n",
       "      <th>3</th>\n",
       "      <td>Billie Jo Spears</td>\n",
       "      <td>It Makes No Difference Now</td>\n",
       "      <td>4</td>\n",
       "    </tr>\n",
       "    <tr>\n",
       "      <th>4</th>\n",
       "      <td>Stevie Ray Vaughan And Double Trouble</td>\n",
       "      <td>Tin Pan Alley (aka Roughest Place In Town)</td>\n",
       "      <td>5</td>\n",
       "    </tr>\n",
       "    <tr>\n",
       "      <th>5</th>\n",
       "      <td>Charlie McCoy</td>\n",
       "      <td>Blue Yodel No. 1(T For Texas)</td>\n",
       "      <td>6</td>\n",
       "    </tr>\n",
       "    <tr>\n",
       "      <th>6</th>\n",
       "      <td>Muse</td>\n",
       "      <td>Exogenesis: Symphony Part 1 [Overture]</td>\n",
       "      <td>7</td>\n",
       "    </tr>\n",
       "    <tr>\n",
       "      <th>7</th>\n",
       "      <td>Les Bonapartes</td>\n",
       "      <td>Welcome</td>\n",
       "      <td>8</td>\n",
       "    </tr>\n",
       "    <tr>\n",
       "      <th>8</th>\n",
       "      <td>Little Joe &amp; The Thrillers</td>\n",
       "      <td>Peanuts</td>\n",
       "      <td>9</td>\n",
       "    </tr>\n",
       "    <tr>\n",
       "      <th>9</th>\n",
       "      <td>Spectra Soul</td>\n",
       "      <td>The Tube</td>\n",
       "      <td>10</td>\n",
       "    </tr>\n",
       "    <tr>\n",
       "      <th>10</th>\n",
       "      <td>Bare Jr.</td>\n",
       "      <td>Snippet 15</td>\n",
       "      <td>11</td>\n",
       "    </tr>\n",
       "    <tr>\n",
       "      <th>11</th>\n",
       "      <td>Charlie Byrd Trio</td>\n",
       "      <td>Travellin' On</td>\n",
       "      <td>12</td>\n",
       "    </tr>\n",
       "    <tr>\n",
       "      <th>12</th>\n",
       "      <td>Stevie Ray Vaughan And Double Trouble</td>\n",
       "      <td>Couldn't Stand The Weather</td>\n",
       "      <td>13</td>\n",
       "    </tr>\n",
       "    <tr>\n",
       "      <th>13</th>\n",
       "      <td>Johnny Pearson</td>\n",
       "      <td>Purple Haze</td>\n",
       "      <td>14</td>\n",
       "    </tr>\n",
       "    <tr>\n",
       "      <th>14</th>\n",
       "      <td>Chris Farlowe</td>\n",
       "      <td>Paint It Black</td>\n",
       "      <td>15</td>\n",
       "    </tr>\n",
       "  </tbody>\n",
       "</table>\n",
       "</div>"
      ],
      "text/plain": [
       "                                    Autor  ... Pořadí v TOP 15:\n",
       "0                             Tito Puente  ...                1\n",
       "1                                 DJ Quik  ...                2\n",
       "2                           Babylon Disco  ...                3\n",
       "3                        Billie Jo Spears  ...                4\n",
       "4   Stevie Ray Vaughan And Double Trouble  ...                5\n",
       "5                           Charlie McCoy  ...                6\n",
       "6                                    Muse  ...                7\n",
       "7                          Les Bonapartes  ...                8\n",
       "8              Little Joe & The Thrillers  ...                9\n",
       "9                            Spectra Soul  ...               10\n",
       "10                               Bare Jr.  ...               11\n",
       "11                      Charlie Byrd Trio  ...               12\n",
       "12  Stevie Ray Vaughan And Double Trouble  ...               13\n",
       "13                         Johnny Pearson  ...               14\n",
       "14                          Chris Farlowe  ...               15\n",
       "\n",
       "[15 rows x 3 columns]"
      ]
     },
     "execution_count": 185,
     "metadata": {},
     "output_type": "execute_result"
    }
   ],
   "source": [
    "pd.DataFrame(top_15)"
   ]
  },
  {
   "cell_type": "code",
   "execution_count": null,
   "metadata": {},
   "outputs": [],
   "source": [
    "data = requests.get('https://alza.cz/').text"
   ]
  },
  {
   "cell_type": "markdown",
   "metadata": {},
   "source": [
    "### ETL"
   ]
  },
  {
   "cell_type": "markdown",
   "metadata": {},
   "source": [
    "Část Extract"
   ]
  },
  {
   "cell_type": "markdown",
   "metadata": {},
   "source": [
    "Albatros - URL: https://albatros.cz/bestsellery/\n",
    "\n",
    "1. krok: Ze všech dostupných knih získat odkaz na detail knihy (protože neznáme cenu)\n",
    "2. krok: Pro každou url knihy, kterou získáme v prvním kroku, zjistíme její cenu ..."
   ]
  },
  {
   "cell_type": "markdown",
   "metadata": {},
   "source": [
    "Krok č. 1"
   ]
  },
  {
   "cell_type": "code",
   "execution_count": 328,
   "metadata": {},
   "outputs": [],
   "source": [
    "import requests\n",
    "from bs4 import BeautifulSoup\n",
    "\n",
    "def ziskej_url_knih() -> list[str]:\n",
    "    \"\"\"\n",
    "    Z webu albatros.cz získá url adresy na detail knih, které se na stránce vyskytují\n",
    "    \"\"\"\n",
    "    data = requests.get('https://albatros.cz/bestsellery/').text\n",
    "    soup = BeautifulSoup(data, 'html.parser')\n",
    "\n",
    "    # Najdi všechny knihy na stránce\n",
    "    list_knih = soup.findAll('article', class_='p-l__item')\n",
    "\n",
    "    url_adresy = []\n",
    "    for kniha in list_knih:\n",
    "        # Zjisti url adresu\n",
    "        odkaz_tag = kniha.find('h2', class_='p-l-i__title').find('a')\n",
    "        link = 'https://albatros.cz' + odkaz_tag['href']\n",
    "        url_adresy.append(link)\n",
    "\n",
    "    return url_adresy\n"
   ]
  },
  {
   "cell_type": "markdown",
   "metadata": {},
   "source": [
    "2. krok - pro každou url z listu si načteme data z dané url (získáme HTML kód), najdeme cenu pro tuto knihu a uložíme"
   ]
  },
  {
   "cell_type": "code",
   "execution_count": 330,
   "metadata": {},
   "outputs": [],
   "source": [
    "def zjisti_detaily_knihy(url_knih: list[str]) -> list[dict]:\n",
    "    # Inicializuji list pro uložení objektů knih\n",
    "    knihy = []\n",
    "\n",
    "    for url in url_knih:\n",
    "        #print('Odbavuju další knihu...')\n",
    "        # Potřebujeme získat HTML kód\n",
    "        data = requests.get(url).text\n",
    "        soup = BeautifulSoup(data, 'html.parser')\n",
    "        # Zjišťujeme cenu\n",
    "        cena = soup.find('span', class_='text-nowrap').text.strip()\n",
    "        \n",
    "        # Zjišťujeme název knihy\n",
    "        nazev_knihy = soup.find('div', class_='product__descriptions').find('h1').text\n",
    "        \n",
    "        # Zjišťujeme kategorii knihy\n",
    "        dostupnost = soup.find('span', 'prod__available').text.strip()\n",
    "\n",
    "        # Zjišťujeme žánr knihy\n",
    "        list_zanru = soup.find('div', 'product__param').findAll('span')[1].findAll('a')\n",
    "        #list comprehension\n",
    "        zanry = [zanr.text for zanr in list_zanru]\n",
    "        zanry_string = ', '.join(zanry)\n",
    "\n",
    "        # Zjistit počet stran\n",
    "        pocet_stran = soup.findAll('div', 'product__param')[1].find('span', class_='text-nowrap').text.strip()\n",
    "\n",
    "        # Zjistit Datum vydání\n",
    "        datum_vydani = soup.findAll('div', 'product__param')[3].findAll('span')[1].text.replace('\\r\\n', '')\n",
    "\n",
    "        # Zjisti jméno autora\n",
    "        list_autoru = soup.find('h3', 'product__author').findAll('a', 'author')\n",
    "        autori = [autor.text for autor in list_autoru]\n",
    "        autori_string = ', '.join(autori)\n",
    "\n",
    "        objekt_kniha = {\n",
    "            'Cena': cena,\n",
    "            'Název knihy': nazev_knihy,\n",
    "            'Dostupnost': dostupnost,\n",
    "            'Žánr': zanry_string,\n",
    "            'Počet stran': pocet_stran,\n",
    "            'Datum vydání': datum_vydani,\n",
    "            'Autor': autori_string\n",
    "        }\n",
    "\n",
    "        knihy.append(objekt_kniha)\n",
    "        #print('Úspěšně jsem odbavil knihu.')\n",
    "\n",
    "    return knihy"
   ]
  },
  {
   "cell_type": "markdown",
   "metadata": {},
   "source": [
    "Spouštíme kód"
   ]
  },
  {
   "cell_type": "code",
   "execution_count": null,
   "metadata": {},
   "outputs": [],
   "source": [
    "# Uložit url adresy knih\n",
    "url_knih = ziskej_url_knih()"
   ]
  },
  {
   "cell_type": "code",
   "execution_count": null,
   "metadata": {},
   "outputs": [],
   "source": [
    "# Pro všechny url adresy chci získat detail knih\n",
    "detail_knih = zjisti_detaily_knihy(url_knih)"
   ]
  },
  {
   "cell_type": "markdown",
   "metadata": {},
   "source": [
    "Část Transform"
   ]
  },
  {
   "cell_type": "code",
   "execution_count": null,
   "metadata": {},
   "outputs": [
    {
     "data": {
      "text/html": [
       "<div>\n",
       "<style scoped>\n",
       "    .dataframe tbody tr th:only-of-type {\n",
       "        vertical-align: middle;\n",
       "    }\n",
       "\n",
       "    .dataframe tbody tr th {\n",
       "        vertical-align: top;\n",
       "    }\n",
       "\n",
       "    .dataframe thead th {\n",
       "        text-align: right;\n",
       "    }\n",
       "</style>\n",
       "<table border=\"1\" class=\"dataframe\">\n",
       "  <thead>\n",
       "    <tr style=\"text-align: right;\">\n",
       "      <th></th>\n",
       "      <th>Cena</th>\n",
       "      <th>Název knihy</th>\n",
       "      <th>Dostupnost</th>\n",
       "      <th>Žánr</th>\n",
       "      <th>Počet stran</th>\n",
       "      <th>Datum vydání</th>\n",
       "      <th>Autor</th>\n",
       "    </tr>\n",
       "  </thead>\n",
       "  <tbody>\n",
       "    <tr>\n",
       "      <th>0</th>\n",
       "      <td>999 Kč</td>\n",
       "      <td>Harry Potter a Kámen mudrců - MinaLima</td>\n",
       "      <td>V prodeji</td>\n",
       "      <td>dobrodružství pro děti, fantasy pro děti</td>\n",
       "      <td>368</td>\n",
       "      <td>04.11.2024</td>\n",
       "      <td>J. K. Rowlingová</td>\n",
       "    </tr>\n",
       "    <tr>\n",
       "      <th>1</th>\n",
       "      <td>449 Kč</td>\n",
       "      <td>Harry Potter: Vánoce v Bradavicích</td>\n",
       "      <td>V prodeji</td>\n",
       "      <td>obrázková kniha, fantasy pro děti</td>\n",
       "      <td>48</td>\n",
       "      <td>21.10.2024</td>\n",
       "      <td>J. K. Rowlingová</td>\n",
       "    </tr>\n",
       "    <tr>\n",
       "      <th>2</th>\n",
       "      <td>299 Kč</td>\n",
       "      <td>Vánoce v Šípkové ulici</td>\n",
       "      <td>V prodeji</td>\n",
       "      <td>humor pro děti, pohádka, příběhy dětí</td>\n",
       "      <td>56</td>\n",
       "      <td>21.10.2024</td>\n",
       "      <td>Alena Mornštajnová</td>\n",
       "    </tr>\n",
       "    <tr>\n",
       "      <th>3</th>\n",
       "      <td>999 Kč</td>\n",
       "      <td>Rychlé šípy: Původní kresby a scénáře Jaroslav...</td>\n",
       "      <td>V prodeji</td>\n",
       "      <td>dobrodružství pro děti, humor pro děti, komiks</td>\n",
       "      <td>240</td>\n",
       "      <td>02.12.2024</td>\n",
       "      <td>Pavel Kořínek, Jaroslav Foglar</td>\n",
       "    </tr>\n",
       "    <tr>\n",
       "      <th>4</th>\n",
       "      <td>499 Kč</td>\n",
       "      <td>Bajky barda Beedleho - ilustrované vydání</td>\n",
       "      <td>V prodeji</td>\n",
       "      <td>fantasy pro děti</td>\n",
       "      <td>160</td>\n",
       "      <td>08.10.2018</td>\n",
       "      <td>J. K. Rowlingová</td>\n",
       "    </tr>\n",
       "  </tbody>\n",
       "</table>\n",
       "</div>"
      ],
      "text/plain": [
       "     Cena                                        Název knihy Dostupnost  \\\n",
       "0  999 Kč             Harry Potter a Kámen mudrců - MinaLima  V prodeji   \n",
       "1  449 Kč                 Harry Potter: Vánoce v Bradavicích  V prodeji   \n",
       "2  299 Kč                             Vánoce v Šípkové ulici  V prodeji   \n",
       "3  999 Kč  Rychlé šípy: Původní kresby a scénáře Jaroslav...  V prodeji   \n",
       "4  499 Kč          Bajky barda Beedleho - ilustrované vydání  V prodeji   \n",
       "\n",
       "                                             Žánr Počet stran Datum vydání  \\\n",
       "0        dobrodružství pro děti, fantasy pro děti         368   04.11.2024   \n",
       "1               obrázková kniha, fantasy pro děti          48   21.10.2024   \n",
       "2           humor pro děti, pohádka, příběhy dětí          56   21.10.2024   \n",
       "3  dobrodružství pro děti, humor pro děti, komiks         240   02.12.2024   \n",
       "4                                fantasy pro děti         160   08.10.2018   \n",
       "\n",
       "                            Autor  \n",
       "0                J. K. Rowlingová  \n",
       "1                J. K. Rowlingová  \n",
       "2              Alena Mornštajnová  \n",
       "3  Pavel Kořínek, Jaroslav Foglar  \n",
       "4                J. K. Rowlingová  "
      ]
     },
     "execution_count": 185,
     "metadata": {},
     "output_type": "execute_result"
    }
   ],
   "source": [
    "import pandas as pd\n",
    "\n",
    "df = pd.DataFrame(detail_knih)\n",
    "df.head()"
   ]
  },
  {
   "cell_type": "code",
   "execution_count": null,
   "metadata": {},
   "outputs": [],
   "source": [
    "df.to_csv('knihy_predzpracovana_data.csv')"
   ]
  },
  {
   "cell_type": "markdown",
   "metadata": {},
   "source": [
    "### Část 2 - processing dat (čištění)"
   ]
  },
  {
   "cell_type": "code",
   "execution_count": null,
   "metadata": {},
   "outputs": [
    {
     "data": {
      "text/html": [
       "<div>\n",
       "<style scoped>\n",
       "    .dataframe tbody tr th:only-of-type {\n",
       "        vertical-align: middle;\n",
       "    }\n",
       "\n",
       "    .dataframe tbody tr th {\n",
       "        vertical-align: top;\n",
       "    }\n",
       "\n",
       "    .dataframe thead th {\n",
       "        text-align: right;\n",
       "    }\n",
       "</style>\n",
       "<table border=\"1\" class=\"dataframe\">\n",
       "  <thead>\n",
       "    <tr style=\"text-align: right;\">\n",
       "      <th></th>\n",
       "      <th>Cena</th>\n",
       "      <th>Název knihy</th>\n",
       "      <th>Dostupnost</th>\n",
       "      <th>Žánr</th>\n",
       "      <th>Počet stran</th>\n",
       "      <th>Datum vydání</th>\n",
       "      <th>Autor</th>\n",
       "    </tr>\n",
       "  </thead>\n",
       "  <tbody>\n",
       "    <tr>\n",
       "      <th>0</th>\n",
       "      <td>999 Kč</td>\n",
       "      <td>Harry Potter a Kámen mudrců - MinaLima</td>\n",
       "      <td>V prodeji</td>\n",
       "      <td>dobrodružství pro děti, fantasy pro děti</td>\n",
       "      <td>368</td>\n",
       "      <td>04.11.2024</td>\n",
       "      <td>J. K. Rowlingová</td>\n",
       "    </tr>\n",
       "    <tr>\n",
       "      <th>1</th>\n",
       "      <td>449 Kč</td>\n",
       "      <td>Harry Potter: Vánoce v Bradavicích</td>\n",
       "      <td>V prodeji</td>\n",
       "      <td>obrázková kniha, fantasy pro děti</td>\n",
       "      <td>48</td>\n",
       "      <td>21.10.2024</td>\n",
       "      <td>J. K. Rowlingová</td>\n",
       "    </tr>\n",
       "    <tr>\n",
       "      <th>2</th>\n",
       "      <td>299 Kč</td>\n",
       "      <td>Vánoce v Šípkové ulici</td>\n",
       "      <td>V prodeji</td>\n",
       "      <td>humor pro děti, pohádka, příběhy dětí</td>\n",
       "      <td>56</td>\n",
       "      <td>21.10.2024</td>\n",
       "      <td>Alena Mornštajnová</td>\n",
       "    </tr>\n",
       "    <tr>\n",
       "      <th>3</th>\n",
       "      <td>999 Kč</td>\n",
       "      <td>Rychlé šípy: Původní kresby a scénáře Jaroslav...</td>\n",
       "      <td>V prodeji</td>\n",
       "      <td>dobrodružství pro děti, humor pro děti, komiks</td>\n",
       "      <td>240</td>\n",
       "      <td>02.12.2024</td>\n",
       "      <td>Pavel Kořínek, Jaroslav Foglar</td>\n",
       "    </tr>\n",
       "    <tr>\n",
       "      <th>4</th>\n",
       "      <td>499 Kč</td>\n",
       "      <td>Bajky barda Beedleho - ilustrované vydání</td>\n",
       "      <td>V prodeji</td>\n",
       "      <td>fantasy pro děti</td>\n",
       "      <td>160</td>\n",
       "      <td>08.10.2018</td>\n",
       "      <td>J. K. Rowlingová</td>\n",
       "    </tr>\n",
       "  </tbody>\n",
       "</table>\n",
       "</div>"
      ],
      "text/plain": [
       "     Cena                                        Název knihy Dostupnost  \\\n",
       "0  999 Kč             Harry Potter a Kámen mudrců - MinaLima  V prodeji   \n",
       "1  449 Kč                 Harry Potter: Vánoce v Bradavicích  V prodeji   \n",
       "2  299 Kč                             Vánoce v Šípkové ulici  V prodeji   \n",
       "3  999 Kč  Rychlé šípy: Původní kresby a scénáře Jaroslav...  V prodeji   \n",
       "4  499 Kč          Bajky barda Beedleho - ilustrované vydání  V prodeji   \n",
       "\n",
       "                                             Žánr Počet stran Datum vydání  \\\n",
       "0        dobrodružství pro děti, fantasy pro děti         368   04.11.2024   \n",
       "1               obrázková kniha, fantasy pro děti          48   21.10.2024   \n",
       "2           humor pro děti, pohádka, příběhy dětí          56   21.10.2024   \n",
       "3  dobrodružství pro děti, humor pro děti, komiks         240   02.12.2024   \n",
       "4                                fantasy pro děti         160   08.10.2018   \n",
       "\n",
       "                            Autor  \n",
       "0                J. K. Rowlingová  \n",
       "1                J. K. Rowlingová  \n",
       "2              Alena Mornštajnová  \n",
       "3  Pavel Kořínek, Jaroslav Foglar  \n",
       "4                J. K. Rowlingová  "
      ]
     },
     "execution_count": 186,
     "metadata": {},
     "output_type": "execute_result"
    }
   ],
   "source": [
    "df.head()"
   ]
  },
  {
   "cell_type": "code",
   "execution_count": null,
   "metadata": {},
   "outputs": [],
   "source": [
    "df.info()"
   ]
  },
  {
   "cell_type": "markdown",
   "metadata": {},
   "source": [
    "#### Získat správné datové typy"
   ]
  },
  {
   "cell_type": "markdown",
   "metadata": {},
   "source": [
    "Pomocí metody rozdělit Cenu do 2 sloupců - Cena a Měna"
   ]
  },
  {
   "cell_type": "code",
   "execution_count": null,
   "metadata": {},
   "outputs": [],
   "source": [
    "df['Měna'] = df['Cena'].str.split().str[1]\n",
    "df['Cena'] = df['Cena'].str.split().str[0].astype(float)"
   ]
  },
  {
   "cell_type": "code",
   "execution_count": null,
   "metadata": {},
   "outputs": [],
   "source": [
    "df.info()"
   ]
  },
  {
   "cell_type": "markdown",
   "metadata": {},
   "source": [
    "Přetypovat počet stran na celé číslo"
   ]
  },
  {
   "cell_type": "code",
   "execution_count": null,
   "metadata": {},
   "outputs": [],
   "source": [
    "df['Počet stran'] = df['Počet stran'].astype(int)"
   ]
  },
  {
   "cell_type": "markdown",
   "metadata": {},
   "source": [
    "Přetypovat Datum vydání na datetime"
   ]
  },
  {
   "cell_type": "code",
   "execution_count": null,
   "metadata": {},
   "outputs": [],
   "source": [
    "df['Datum vydání'] = pd.to_datetime(df['Datum vydání'], format='mixed', errors='coerce') # %d.%m.%Y"
   ]
  },
  {
   "cell_type": "markdown",
   "metadata": {},
   "source": [
    "Pomocí metody replace odmazat měnu a přetypovat na float"
   ]
  },
  {
   "cell_type": "code",
   "execution_count": null,
   "metadata": {},
   "outputs": [],
   "source": [
    "df['Cena'] = (df['Cena']\n",
    "              .str.replace(' Kč', '')\n",
    "              .str.strip()\n",
    "              .astype(float))"
   ]
  },
  {
   "cell_type": "code",
   "execution_count": null,
   "metadata": {},
   "outputs": [
    {
     "data": {
      "text/plain": [
       "2"
      ]
     },
     "execution_count": 211,
     "metadata": {},
     "output_type": "execute_result"
    }
   ],
   "source": [
    "text = 'Pavel Kořínek, Jaroslav Foglar'\n",
    "list_autoru = text.split(',')\n",
    "len(list_autoru)"
   ]
  },
  {
   "cell_type": "markdown",
   "metadata": {},
   "source": [
    "Do nového sloupce dostat informaci o počtu autorů daného díla"
   ]
  },
  {
   "cell_type": "code",
   "execution_count": null,
   "metadata": {},
   "outputs": [],
   "source": [
    "df['Počet autorů'] = df['Autor'].str.split(',').str.len()\n",
    "#df['Autor'].apply(len)"
   ]
  },
  {
   "cell_type": "code",
   "execution_count": null,
   "metadata": {},
   "outputs": [
    {
     "data": {
      "text/html": [
       "<div>\n",
       "<style scoped>\n",
       "    .dataframe tbody tr th:only-of-type {\n",
       "        vertical-align: middle;\n",
       "    }\n",
       "\n",
       "    .dataframe tbody tr th {\n",
       "        vertical-align: top;\n",
       "    }\n",
       "\n",
       "    .dataframe thead th {\n",
       "        text-align: right;\n",
       "    }\n",
       "</style>\n",
       "<table border=\"1\" class=\"dataframe\">\n",
       "  <thead>\n",
       "    <tr style=\"text-align: right;\">\n",
       "      <th></th>\n",
       "      <th>Cena</th>\n",
       "      <th>Název knihy</th>\n",
       "      <th>Dostupnost</th>\n",
       "      <th>Žánr</th>\n",
       "      <th>Počet stran</th>\n",
       "      <th>Datum vydání</th>\n",
       "      <th>Autor</th>\n",
       "      <th>Měna</th>\n",
       "      <th>Počet autorů</th>\n",
       "    </tr>\n",
       "  </thead>\n",
       "  <tbody>\n",
       "    <tr>\n",
       "      <th>0</th>\n",
       "      <td>999.0</td>\n",
       "      <td>Harry Potter a Kámen mudrců - MinaLima</td>\n",
       "      <td>V prodeji</td>\n",
       "      <td>dobrodružství pro děti, fantasy pro děti</td>\n",
       "      <td>368</td>\n",
       "      <td>2024-04-11</td>\n",
       "      <td>J. K. Rowlingová</td>\n",
       "      <td>Kč</td>\n",
       "      <td>1</td>\n",
       "    </tr>\n",
       "    <tr>\n",
       "      <th>1</th>\n",
       "      <td>449.0</td>\n",
       "      <td>Harry Potter: Vánoce v Bradavicích</td>\n",
       "      <td>V prodeji</td>\n",
       "      <td>obrázková kniha, fantasy pro děti</td>\n",
       "      <td>48</td>\n",
       "      <td>2024-10-21</td>\n",
       "      <td>J. K. Rowlingová</td>\n",
       "      <td>Kč</td>\n",
       "      <td>1</td>\n",
       "    </tr>\n",
       "    <tr>\n",
       "      <th>2</th>\n",
       "      <td>299.0</td>\n",
       "      <td>Vánoce v Šípkové ulici</td>\n",
       "      <td>V prodeji</td>\n",
       "      <td>humor pro děti, pohádka, příběhy dětí</td>\n",
       "      <td>56</td>\n",
       "      <td>2024-10-21</td>\n",
       "      <td>Alena Mornštajnová</td>\n",
       "      <td>Kč</td>\n",
       "      <td>1</td>\n",
       "    </tr>\n",
       "    <tr>\n",
       "      <th>3</th>\n",
       "      <td>999.0</td>\n",
       "      <td>Rychlé šípy: Původní kresby a scénáře Jaroslav...</td>\n",
       "      <td>V prodeji</td>\n",
       "      <td>dobrodružství pro děti, humor pro děti, komiks</td>\n",
       "      <td>240</td>\n",
       "      <td>2024-02-12</td>\n",
       "      <td>Pavel Kořínek, Jaroslav Foglar</td>\n",
       "      <td>Kč</td>\n",
       "      <td>2</td>\n",
       "    </tr>\n",
       "    <tr>\n",
       "      <th>4</th>\n",
       "      <td>499.0</td>\n",
       "      <td>Bajky barda Beedleho - ilustrované vydání</td>\n",
       "      <td>V prodeji</td>\n",
       "      <td>fantasy pro děti</td>\n",
       "      <td>160</td>\n",
       "      <td>2018-08-10</td>\n",
       "      <td>J. K. Rowlingová</td>\n",
       "      <td>Kč</td>\n",
       "      <td>1</td>\n",
       "    </tr>\n",
       "  </tbody>\n",
       "</table>\n",
       "</div>"
      ],
      "text/plain": [
       "    Cena                                        Název knihy Dostupnost  \\\n",
       "0  999.0             Harry Potter a Kámen mudrců - MinaLima  V prodeji   \n",
       "1  449.0                 Harry Potter: Vánoce v Bradavicích  V prodeji   \n",
       "2  299.0                             Vánoce v Šípkové ulici  V prodeji   \n",
       "3  999.0  Rychlé šípy: Původní kresby a scénáře Jaroslav...  V prodeji   \n",
       "4  499.0          Bajky barda Beedleho - ilustrované vydání  V prodeji   \n",
       "\n",
       "                                             Žánr  Počet stran Datum vydání  \\\n",
       "0        dobrodružství pro děti, fantasy pro děti          368   2024-04-11   \n",
       "1               obrázková kniha, fantasy pro děti           48   2024-10-21   \n",
       "2           humor pro děti, pohádka, příběhy dětí           56   2024-10-21   \n",
       "3  dobrodružství pro děti, humor pro děti, komiks          240   2024-02-12   \n",
       "4                                fantasy pro děti          160   2018-08-10   \n",
       "\n",
       "                            Autor Měna  Počet autorů  \n",
       "0                J. K. Rowlingová   Kč             1  \n",
       "1                J. K. Rowlingová   Kč             1  \n",
       "2              Alena Mornštajnová   Kč             1  \n",
       "3  Pavel Kořínek, Jaroslav Foglar   Kč             2  \n",
       "4                J. K. Rowlingová   Kč             1  "
      ]
     },
     "execution_count": 222,
     "metadata": {},
     "output_type": "execute_result"
    }
   ],
   "source": [
    "df.head()"
   ]
  },
  {
   "cell_type": "markdown",
   "metadata": {},
   "source": [
    "Load"
   ]
  },
  {
   "cell_type": "code",
   "execution_count": null,
   "metadata": {},
   "outputs": [],
   "source": [
    "df.to_csv('data_knihy_ETL.csv')"
   ]
  },
  {
   "cell_type": "markdown",
   "metadata": {},
   "source": [
    "Fáze datové analýzy"
   ]
  },
  {
   "cell_type": "code",
   "execution_count": 348,
   "metadata": {},
   "outputs": [],
   "source": [
    "import pandas as pd\n",
    "df = pd.read_csv('data_knihy_ETL.csv')"
   ]
  },
  {
   "cell_type": "markdown",
   "metadata": {},
   "source": [
    "Sada příkladů pro samostatnou práci"
   ]
  },
  {
   "cell_type": "code",
   "execution_count": 353,
   "metadata": {},
   "outputs": [
    {
     "name": "stdout",
     "output_type": "stream",
     "text": [
      "Průměrná cena knih je: 393.0 Kč\n"
     ]
    }
   ],
   "source": [
    "# 1. Zjistit průměrnou cenu knih\n",
    "prumerna_cena = df['Cena'].mean()\n",
    "print(f'Průměrná cena knih je: {prumerna_cena} Kč')"
   ]
  },
  {
   "cell_type": "code",
   "execution_count": 349,
   "metadata": {},
   "outputs": [
    {
     "data": {
      "text/html": [
       "<div>\n",
       "<style scoped>\n",
       "    .dataframe tbody tr th:only-of-type {\n",
       "        vertical-align: middle;\n",
       "    }\n",
       "\n",
       "    .dataframe tbody tr th {\n",
       "        vertical-align: top;\n",
       "    }\n",
       "\n",
       "    .dataframe thead th {\n",
       "        text-align: right;\n",
       "    }\n",
       "</style>\n",
       "<table border=\"1\" class=\"dataframe\">\n",
       "  <thead>\n",
       "    <tr style=\"text-align: right;\">\n",
       "      <th></th>\n",
       "      <th>Rok vydání</th>\n",
       "      <th>Počet knih</th>\n",
       "    </tr>\n",
       "  </thead>\n",
       "  <tbody>\n",
       "    <tr>\n",
       "      <th>0</th>\n",
       "      <td>2023.0</td>\n",
       "      <td>8</td>\n",
       "    </tr>\n",
       "  </tbody>\n",
       "</table>\n",
       "</div>"
      ],
      "text/plain": [
       "   Rok vydání  Počet knih\n",
       "0      2023.0           8"
      ]
     },
     "execution_count": 349,
     "metadata": {},
     "output_type": "execute_result"
    }
   ],
   "source": [
    "# 1. Zjistit průměrnou cenu knih\n",
    "prumerna_cena = df['Cena'].mean()\n",
    "\n",
    "# 2. Zjistit počet dostupných a nedostupných knih\n",
    "df['Dostupnost'].value_counts()\n",
    "#df.groupby('Dostupnost')['Název knihy'].count()\n",
    "\n",
    "# 3. Najít knihu s nejmenším počtem stran\n",
    "min_pocet_stran = df['Počet stran'].min()\n",
    "df.loc[ df['Počet stran'] == min_pocet_stran ]\n",
    "\n",
    "# 4. Najít knihu s největším počtem autorů\n",
    "df.loc[ df['Počet autorů'] == df['Počet autorů'].max() ]\n",
    "df.nlargest(columns='Počet autorů', n=1)\n",
    "df.sort_values(by='Počet autorů', ascending=False).head(1)\n",
    "\n",
    "# 5. Zjistit, kolik každý autor/kombinace autorů vydal knih\n",
    "df['Autor'].value_counts().reset_index(name='Počet knih')\n",
    "\n",
    "# 6. Vytvořit nový sloupec Rok vydání \n",
    "df['Datum vydání'] = pd.to_datetime(df['Datum vydání'], format='mixed', errors='coerce')\n",
    "df['Rok vydání'] = df['Datum vydání'].dt.year\n",
    "\n",
    "# 7. Zjistit, kolik knih bylo v každém roce vydáno\n",
    "pocet_knih_roky = df['Rok vydání'].value_counts().reset_index(name='Počet knih')\n",
    "\n",
    "# 8. Najít rok, ve kterém se vydalo nejvíce knih\n",
    "pocet_knih_roky.nlargest(n=1, columns='Počet knih')\n",
    "pocet_knih_roky.loc[ pocet_knih_roky['Počet knih'] == pocet_knih_roky['Počet knih'].max() ]"
   ]
  },
  {
   "cell_type": "code",
   "execution_count": 338,
   "metadata": {},
   "outputs": [],
   "source": [
    "radek_ke_smazani = df.loc[ df['Rok vydání'].isnull() ].index\n",
    "df.drop(index=radek_ke_smazani, inplace=True)"
   ]
  },
  {
   "cell_type": "code",
   "execution_count": 339,
   "metadata": {},
   "outputs": [],
   "source": [
    "df['Rok vydání'] = df['Rok vydání'].astype(int)"
   ]
  },
  {
   "cell_type": "markdown",
   "metadata": {},
   "source": [
    "`.to_numeric()` umožňuje přeskakovat hodnoty, které nelze přetypovat díky parametru `errors`"
   ]
  },
  {
   "cell_type": "code",
   "execution_count": 340,
   "metadata": {},
   "outputs": [],
   "source": [
    "df['Rok vydání'] = pd.to_numeric(df['Rok vydání'], errors='coerce', downcast='integer').astype('Int64')"
   ]
  },
  {
   "cell_type": "code",
   "execution_count": 341,
   "metadata": {},
   "outputs": [
    {
     "data": {
      "text/html": [
       "<div>\n",
       "<style scoped>\n",
       "    .dataframe tbody tr th:only-of-type {\n",
       "        vertical-align: middle;\n",
       "    }\n",
       "\n",
       "    .dataframe tbody tr th {\n",
       "        vertical-align: top;\n",
       "    }\n",
       "\n",
       "    .dataframe thead th {\n",
       "        text-align: right;\n",
       "    }\n",
       "</style>\n",
       "<table border=\"1\" class=\"dataframe\">\n",
       "  <thead>\n",
       "    <tr style=\"text-align: right;\">\n",
       "      <th></th>\n",
       "      <th>Unnamed: 0</th>\n",
       "      <th>Cena</th>\n",
       "      <th>Název knihy</th>\n",
       "      <th>Dostupnost</th>\n",
       "      <th>Žánr</th>\n",
       "      <th>Počet stran</th>\n",
       "      <th>Datum vydání</th>\n",
       "      <th>Autor</th>\n",
       "      <th>Měna</th>\n",
       "      <th>Počet autorů</th>\n",
       "      <th>Rok vydání</th>\n",
       "    </tr>\n",
       "  </thead>\n",
       "  <tbody>\n",
       "    <tr>\n",
       "      <th>0</th>\n",
       "      <td>0</td>\n",
       "      <td>999.0</td>\n",
       "      <td>Harry Potter a Kámen mudrců - MinaLima</td>\n",
       "      <td>V prodeji</td>\n",
       "      <td>dobrodružství pro děti, fantasy pro děti</td>\n",
       "      <td>368</td>\n",
       "      <td>2024-04-11</td>\n",
       "      <td>J. K. Rowlingová</td>\n",
       "      <td>Kč</td>\n",
       "      <td>1</td>\n",
       "      <td>2024</td>\n",
       "    </tr>\n",
       "    <tr>\n",
       "      <th>1</th>\n",
       "      <td>1</td>\n",
       "      <td>449.0</td>\n",
       "      <td>Harry Potter: Vánoce v Bradavicích</td>\n",
       "      <td>V prodeji</td>\n",
       "      <td>obrázková kniha, fantasy pro děti</td>\n",
       "      <td>48</td>\n",
       "      <td>2024-10-21</td>\n",
       "      <td>J. K. Rowlingová</td>\n",
       "      <td>Kč</td>\n",
       "      <td>1</td>\n",
       "      <td>2024</td>\n",
       "    </tr>\n",
       "    <tr>\n",
       "      <th>2</th>\n",
       "      <td>2</td>\n",
       "      <td>299.0</td>\n",
       "      <td>Vánoce v Šípkové ulici</td>\n",
       "      <td>V prodeji</td>\n",
       "      <td>humor pro děti, pohádka, příběhy dětí</td>\n",
       "      <td>56</td>\n",
       "      <td>2024-10-21</td>\n",
       "      <td>Alena Mornštajnová</td>\n",
       "      <td>Kč</td>\n",
       "      <td>1</td>\n",
       "      <td>2024</td>\n",
       "    </tr>\n",
       "    <tr>\n",
       "      <th>3</th>\n",
       "      <td>3</td>\n",
       "      <td>999.0</td>\n",
       "      <td>Rychlé šípy: Původní kresby a scénáře Jaroslav...</td>\n",
       "      <td>V prodeji</td>\n",
       "      <td>dobrodružství pro děti, humor pro děti, komiks</td>\n",
       "      <td>240</td>\n",
       "      <td>2024-02-12</td>\n",
       "      <td>Pavel Kořínek, Jaroslav Foglar</td>\n",
       "      <td>Kč</td>\n",
       "      <td>2</td>\n",
       "      <td>2024</td>\n",
       "    </tr>\n",
       "    <tr>\n",
       "      <th>4</th>\n",
       "      <td>4</td>\n",
       "      <td>499.0</td>\n",
       "      <td>Bajky barda Beedleho - ilustrované vydání</td>\n",
       "      <td>V prodeji</td>\n",
       "      <td>fantasy pro děti</td>\n",
       "      <td>160</td>\n",
       "      <td>2018-08-10</td>\n",
       "      <td>J. K. Rowlingová</td>\n",
       "      <td>Kč</td>\n",
       "      <td>1</td>\n",
       "      <td>2018</td>\n",
       "    </tr>\n",
       "  </tbody>\n",
       "</table>\n",
       "</div>"
      ],
      "text/plain": [
       "   Unnamed: 0   Cena                                        Název knihy  \\\n",
       "0           0  999.0             Harry Potter a Kámen mudrců - MinaLima   \n",
       "1           1  449.0                 Harry Potter: Vánoce v Bradavicích   \n",
       "2           2  299.0                             Vánoce v Šípkové ulici   \n",
       "3           3  999.0  Rychlé šípy: Původní kresby a scénáře Jaroslav...   \n",
       "4           4  499.0          Bajky barda Beedleho - ilustrované vydání   \n",
       "\n",
       "  Dostupnost                                            Žánr  Počet stran  \\\n",
       "0  V prodeji        dobrodružství pro děti, fantasy pro děti          368   \n",
       "1  V prodeji               obrázková kniha, fantasy pro děti           48   \n",
       "2  V prodeji           humor pro děti, pohádka, příběhy dětí           56   \n",
       "3  V prodeji  dobrodružství pro děti, humor pro děti, komiks          240   \n",
       "4  V prodeji                                fantasy pro děti          160   \n",
       "\n",
       "  Datum vydání                           Autor Měna  Počet autorů  Rok vydání  \n",
       "0   2024-04-11                J. K. Rowlingová   Kč             1        2024  \n",
       "1   2024-10-21                J. K. Rowlingová   Kč             1        2024  \n",
       "2   2024-10-21              Alena Mornštajnová   Kč             1        2024  \n",
       "3   2024-02-12  Pavel Kořínek, Jaroslav Foglar   Kč             2        2024  \n",
       "4   2018-08-10                J. K. Rowlingová   Kč             1        2018  "
      ]
     },
     "execution_count": 341,
     "metadata": {},
     "output_type": "execute_result"
    }
   ],
   "source": [
    "df.head()"
   ]
  },
  {
   "cell_type": "code",
   "execution_count": 345,
   "metadata": {},
   "outputs": [],
   "source": [
    "df = df[['Autor', 'Název knihy', 'Dostupnost', 'Žánr', 'Datum vydání', 'Cena', 'Měna', 'Počet stran', 'Počet autorů', 'Rok vydání']]\n",
    "df.to_excel('final_data.xlsx')"
   ]
  },
  {
   "cell_type": "markdown",
   "metadata": {},
   "source": [
    "COVID dataset"
   ]
  },
  {
   "cell_type": "code",
   "execution_count": null,
   "metadata": {},
   "outputs": [],
   "source": [
    "import pandas as pd\n",
    "df = pd.read_csv('testy-pcr-antigenni.csv')\n",
    "df.head()"
   ]
  },
  {
   "cell_type": "code",
   "execution_count": 358,
   "metadata": {},
   "outputs": [
    {
     "name": "stdout",
     "output_type": "stream",
     "text": [
      "<class 'pandas.core.frame.DataFrame'>\n",
      "RangeIndex: 1699 entries, 0 to 1698\n",
      "Data columns (total 17 columns):\n",
      " #   Column                                      Non-Null Count  Dtype  \n",
      "---  ------                                      --------------  -----  \n",
      " 0   id                                          1699 non-null   object \n",
      " 1   datum                                       1699 non-null   object \n",
      " 2   pocet_PCR_testy                             1699 non-null   int64  \n",
      " 3   pocet_AG_testy                              1699 non-null   int64  \n",
      " 4   typologie_test_indik_diagnosticka           1699 non-null   int64  \n",
      " 5   typologie_test_indik_epidemiologicka        1699 non-null   int64  \n",
      " 6   typologie_test_indik_preventivni            1699 non-null   int64  \n",
      " 7   typologie_test_indik_ostatni                1699 non-null   int64  \n",
      " 8   incidence_pozitivni                         1687 non-null   float64\n",
      " 9   pozit_typologie_test_indik_diagnosticka     1687 non-null   float64\n",
      " 10  pozit_typologie_test_indik_epidemiologicka  1687 non-null   float64\n",
      " 11  pozit_typologie_test_indik_preventivni      1687 non-null   float64\n",
      " 12  pozit_typologie_test_indik_ostatni          1687 non-null   float64\n",
      " 13  PCR_pozit_sympt                             1687 non-null   float64\n",
      " 14  PCR_pozit_asymp                             1687 non-null   float64\n",
      " 15  AG_pozit_symp                               1687 non-null   float64\n",
      " 16  AG_pozit_asymp_PCR_conf                     1687 non-null   float64\n",
      "dtypes: float64(9), int64(6), object(2)\n",
      "memory usage: 225.8+ KB\n"
     ]
    }
   ],
   "source": [
    "df.info()"
   ]
  },
  {
   "cell_type": "code",
   "execution_count": null,
   "metadata": {},
   "outputs": [],
   "source": [
    "df.head()"
   ]
  },
  {
   "cell_type": "code",
   "execution_count": 361,
   "metadata": {},
   "outputs": [
    {
     "data": {
      "text/html": [
       "<div>\n",
       "<style scoped>\n",
       "    .dataframe tbody tr th:only-of-type {\n",
       "        vertical-align: middle;\n",
       "    }\n",
       "\n",
       "    .dataframe tbody tr th {\n",
       "        vertical-align: top;\n",
       "    }\n",
       "\n",
       "    .dataframe thead th {\n",
       "        text-align: right;\n",
       "    }\n",
       "</style>\n",
       "<table border=\"1\" class=\"dataframe\">\n",
       "  <thead>\n",
       "    <tr style=\"text-align: right;\">\n",
       "      <th></th>\n",
       "      <th>id</th>\n",
       "      <th>datum</th>\n",
       "      <th>pocet_PCR_testy</th>\n",
       "      <th>pocet_AG_testy</th>\n",
       "      <th>typologie_test_indik_diagnosticka</th>\n",
       "      <th>typologie_test_indik_epidemiologicka</th>\n",
       "      <th>typologie_test_indik_preventivni</th>\n",
       "      <th>typologie_test_indik_ostatni</th>\n",
       "      <th>incidence_pozitivni</th>\n",
       "      <th>pozit_typologie_test_indik_diagnosticka</th>\n",
       "      <th>pozit_typologie_test_indik_epidemiologicka</th>\n",
       "      <th>pozit_typologie_test_indik_preventivni</th>\n",
       "      <th>pozit_typologie_test_indik_ostatni</th>\n",
       "      <th>PCR_pozit_sympt</th>\n",
       "      <th>PCR_pozit_asymp</th>\n",
       "      <th>AG_pozit_symp</th>\n",
       "      <th>AG_pozit_asymp_PCR_conf</th>\n",
       "    </tr>\n",
       "  </thead>\n",
       "  <tbody>\n",
       "    <tr>\n",
       "      <th>0</th>\n",
       "      <td>c9b46ae9-99b5-4ef9-8c55-b5c7888e25ae</td>\n",
       "      <td>2020-06-01</td>\n",
       "      <td>6528</td>\n",
       "      <td>0</td>\n",
       "      <td>7</td>\n",
       "      <td>1138</td>\n",
       "      <td>3</td>\n",
       "      <td>5380</td>\n",
       "      <td>34.0</td>\n",
       "      <td>0.0</td>\n",
       "      <td>3.0</td>\n",
       "      <td>0.0</td>\n",
       "      <td>31.0</td>\n",
       "      <td>0.0</td>\n",
       "      <td>5.0</td>\n",
       "      <td>0.0</td>\n",
       "      <td>0.0</td>\n",
       "    </tr>\n",
       "    <tr>\n",
       "      <th>1</th>\n",
       "      <td>3653691e-1486-4b1f-91e3-99810e21e039</td>\n",
       "      <td>2020-06-02</td>\n",
       "      <td>5550</td>\n",
       "      <td>0</td>\n",
       "      <td>9</td>\n",
       "      <td>932</td>\n",
       "      <td>15</td>\n",
       "      <td>4594</td>\n",
       "      <td>66.0</td>\n",
       "      <td>0.0</td>\n",
       "      <td>12.0</td>\n",
       "      <td>0.0</td>\n",
       "      <td>54.0</td>\n",
       "      <td>0.0</td>\n",
       "      <td>40.0</td>\n",
       "      <td>0.0</td>\n",
       "      <td>0.0</td>\n",
       "    </tr>\n",
       "  </tbody>\n",
       "</table>\n",
       "</div>"
      ],
      "text/plain": [
       "                                     id      datum  pocet_PCR_testy  \\\n",
       "0  c9b46ae9-99b5-4ef9-8c55-b5c7888e25ae 2020-06-01             6528   \n",
       "1  3653691e-1486-4b1f-91e3-99810e21e039 2020-06-02             5550   \n",
       "\n",
       "   pocet_AG_testy  typologie_test_indik_diagnosticka  \\\n",
       "0               0                                  7   \n",
       "1               0                                  9   \n",
       "\n",
       "   typologie_test_indik_epidemiologicka  typologie_test_indik_preventivni  \\\n",
       "0                                  1138                                 3   \n",
       "1                                   932                                15   \n",
       "\n",
       "   typologie_test_indik_ostatni  incidence_pozitivni  \\\n",
       "0                          5380                 34.0   \n",
       "1                          4594                 66.0   \n",
       "\n",
       "   pozit_typologie_test_indik_diagnosticka  \\\n",
       "0                                      0.0   \n",
       "1                                      0.0   \n",
       "\n",
       "   pozit_typologie_test_indik_epidemiologicka  \\\n",
       "0                                         3.0   \n",
       "1                                        12.0   \n",
       "\n",
       "   pozit_typologie_test_indik_preventivni  pozit_typologie_test_indik_ostatni  \\\n",
       "0                                     0.0                                31.0   \n",
       "1                                     0.0                                54.0   \n",
       "\n",
       "   PCR_pozit_sympt  PCR_pozit_asymp  AG_pozit_symp  AG_pozit_asymp_PCR_conf  \n",
       "0              0.0              5.0            0.0                      0.0  \n",
       "1              0.0             40.0            0.0                      0.0  "
      ]
     },
     "execution_count": 361,
     "metadata": {},
     "output_type": "execute_result"
    }
   ],
   "source": [
    "## Přetypovat sloupec datum na datetime\n",
    "df['datum'] = pd.to_datetime(df['datum'])\n",
    "df.head(2)"
   ]
  },
  {
   "cell_type": "code",
   "execution_count": null,
   "metadata": {},
   "outputs": [
    {
     "name": "stdout",
     "output_type": "stream",
     "text": [
      "Průměrný počet PCR testů: 12860.25/den\n",
      "Mediánový počet PCR testů: 1844.0/den\n"
     ]
    }
   ],
   "source": [
    "# Průměrný počet PCR testů\n",
    "prumerny_pocet_pcr = df['pocet_PCR_testy'].mean()\n",
    "print(f'Průměrný počet PCR testů: {prumerny_pocet_pcr:.2f}/den')\n",
    "# Medián počtu PCR testů\n",
    "median_pcr = df['pocet_PCR_testy'].median()\n",
    "print(f'Mediánový počet PCR testů: {median_pcr}/den')"
   ]
  },
  {
   "cell_type": "code",
   "execution_count": 372,
   "metadata": {},
   "outputs": [
    {
     "data": {
      "text/html": [
       "<div>\n",
       "<style scoped>\n",
       "    .dataframe tbody tr th:only-of-type {\n",
       "        vertical-align: middle;\n",
       "    }\n",
       "\n",
       "    .dataframe tbody tr th {\n",
       "        vertical-align: top;\n",
       "    }\n",
       "\n",
       "    .dataframe thead th {\n",
       "        text-align: right;\n",
       "    }\n",
       "</style>\n",
       "<table border=\"1\" class=\"dataframe\">\n",
       "  <thead>\n",
       "    <tr style=\"text-align: right;\">\n",
       "      <th></th>\n",
       "      <th>Rok</th>\n",
       "      <th>Celkový počet PCR testů</th>\n",
       "    </tr>\n",
       "  </thead>\n",
       "  <tbody>\n",
       "    <tr>\n",
       "      <th>0</th>\n",
       "      <td>2020</td>\n",
       "      <td>3366548</td>\n",
       "    </tr>\n",
       "    <tr>\n",
       "      <th>1</th>\n",
       "      <td>2021</td>\n",
       "      <td>11964117</td>\n",
       "    </tr>\n",
       "    <tr>\n",
       "      <th>2</th>\n",
       "      <td>2022</td>\n",
       "      <td>6265110</td>\n",
       "    </tr>\n",
       "    <tr>\n",
       "      <th>3</th>\n",
       "      <td>2023</td>\n",
       "      <td>157743</td>\n",
       "    </tr>\n",
       "    <tr>\n",
       "      <th>4</th>\n",
       "      <td>2024</td>\n",
       "      <td>88727</td>\n",
       "    </tr>\n",
       "    <tr>\n",
       "      <th>5</th>\n",
       "      <td>2025</td>\n",
       "      <td>7321</td>\n",
       "    </tr>\n",
       "  </tbody>\n",
       "</table>\n",
       "</div>"
      ],
      "text/plain": [
       "    Rok  Celkový počet PCR testů\n",
       "0  2020                  3366548\n",
       "1  2021                 11964117\n",
       "2  2022                  6265110\n",
       "3  2023                   157743\n",
       "4  2024                    88727\n",
       "5  2025                     7321"
      ]
     },
     "execution_count": 372,
     "metadata": {},
     "output_type": "execute_result"
    }
   ],
   "source": [
    "# Nový sloupec Rok\n",
    "df['Rok'] = df['datum'].dt.year\n",
    "\n",
    "# Celkový počet PCR testů v každém roce -> seskupovat data\n",
    "seskupena_data_rok = df.groupby('Rok')['pocet_PCR_testy'].sum().reset_index(name='Celkový počet PCR testů')\n",
    "seskupena_data_rok"
   ]
  },
  {
   "cell_type": "code",
   "execution_count": 377,
   "metadata": {},
   "outputs": [
    {
     "data": {
      "image/png": "[encoded data removed]",
      "text/plain": [
       "<Figure size 1000x600 with 1 Axes>"
      ]
     },
     "metadata": {},
     "output_type": "display_data"
    }
   ],
   "source": [
    "# Sloupcový graf\n",
    "from matplotlib import pyplot as plt\n",
    "#import matplotlib.pyplot as plt\n",
    "\n",
    "plt.figure(figsize=(10,6))\n",
    "\n",
    "plt.bar(seskupena_data_rok['Rok'], seskupena_data_rok['Celkový počet PCR testů'])\n",
    "plt.title('Počet PCR testů v letech')\n",
    "plt.xlabel('Rok')\n",
    "plt.ylabel('Počet')\n",
    "\n",
    "plt.show()"
   ]
  },
  {
   "cell_type": "code",
   "execution_count": null,
   "metadata": {},
   "outputs": [],
   "source": []
  }
 ],
 "metadata": {
  "kernelspec": {
   "display_name": "base",
   "language": "python",
   "name": "python3"
  },
  "language_info": {
   "codemirror_mode": {
    "name": "ipython",
    "version": 3
   },
   "file_extension": ".py",
   "mimetype": "text/x-python",
   "name": "python",
   "nbconvert_exporter": "python",
   "pygments_lexer": "ipython3",
   "version": "3.11.7"
  }
 },
 "nbformat": 4,
 "nbformat_minor": 2
}
