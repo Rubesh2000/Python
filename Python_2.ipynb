{
 "cells": [
  {
   "cell_type": "code",
   "execution_count": 1,
   "id": "1fee4e2d9fad57fd",
   "metadata": {
    "ExecuteTime": {
     "end_time": "2024-11-17T08:23:14.862593Z",
     "start_time": "2024-11-17T08:23:14.857122Z"
    }
   },
   "outputs": [
    {
     "name": "stdout",
     "output_type": "stream",
     "text": [
      "[1, 2, 3, 4, 'Pes']\n"
     ]
    }
   ],
   "source": [
    "muj_list = [1, 2, 3, 4, \"Pes\"]\n",
    "print(muj_list)"
   ]
  },
  {
   "cell_type": "code",
   "execution_count": 2,
   "id": "b6a9c0654a19b863",
   "metadata": {
    "ExecuteTime": {
     "end_time": "2024-11-17T08:23:50.383657Z",
     "start_time": "2024-11-17T08:23:50.376158Z"
    }
   },
   "outputs": [
    {
     "data": {
      "text/plain": [
       "5"
      ]
     },
     "execution_count": 2,
     "metadata": {},
     "output_type": "execute_result"
    }
   ],
   "source": [
    "# Zjistit počet prvků v poli\n",
    "len(muj_list)"
   ]
  },
  {
   "cell_type": "code",
   "execution_count": 5,
   "id": "81534ff4d20b277c",
   "metadata": {
    "ExecuteTime": {
     "end_time": "2024-11-17T08:26:12.089095Z",
     "start_time": "2024-11-17T08:26:12.084531Z"
    }
   },
   "outputs": [
    {
     "data": {
      "text/plain": [
       "[1, 2, 3, 4, 'Pes']"
      ]
     },
     "execution_count": 5,
     "metadata": {},
     "output_type": "execute_result"
    }
   ],
   "source": [
    "# Slicing\n",
    "muj_list[:]"
   ]
  },
  {
   "cell_type": "code",
   "execution_count": 8,
   "id": "8c20d9926c0d2f3a",
   "metadata": {
    "ExecuteTime": {
     "end_time": "2024-11-17T08:30:45.663470Z",
     "start_time": "2024-11-17T08:30:45.655941Z"
    }
   },
   "outputs": [
    {
     "data": {
      "text/plain": [
       "[]"
      ]
     },
     "execution_count": 8,
     "metadata": {},
     "output_type": "execute_result"
    }
   ],
   "source": [
    "#muj_list[::-1]\n",
    "muj_list[-1:-4]"
   ]
  },
  {
   "cell_type": "code",
   "execution_count": 9,
   "id": "3b260daf1d7fa816",
   "metadata": {
    "ExecuteTime": {
     "end_time": "2024-11-17T08:33:25.955499Z",
     "start_time": "2024-11-17T08:33:25.940548Z"
    }
   },
   "outputs": [
    {
     "data": {
      "text/plain": [
       "[3, 'Pes']"
      ]
     },
     "execution_count": 9,
     "metadata": {},
     "output_type": "execute_result"
    }
   ],
   "source": [
    "# [start_index:end_index:step] , [start_index:end_index]\n",
    "muj_list[2::2]"
   ]
  },
  {
   "cell_type": "code",
   "execution_count": 14,
   "id": "6dff7c68d090c198",
   "metadata": {
    "ExecuteTime": {
     "end_time": "2024-11-17T08:45:22.078813Z",
     "start_time": "2024-11-17T08:45:22.054471Z"
    }
   },
   "outputs": [],
   "source": [
    "muj_tuple_uprava = (1, 2, 3, 4, [5, 6])"
   ]
  },
  {
   "cell_type": "code",
   "execution_count": 15,
   "id": "6264325a296e15e0",
   "metadata": {
    "ExecuteTime": {
     "end_time": "2024-11-17T08:45:22.946036Z",
     "start_time": "2024-11-17T08:45:22.942410Z"
    }
   },
   "outputs": [
    {
     "data": {
      "text/plain": [
       "tuple"
      ]
     },
     "execution_count": 15,
     "metadata": {},
     "output_type": "execute_result"
    }
   ],
   "source": [
    "type(muj_tuple_uprava)"
   ]
  },
  {
   "cell_type": "code",
   "execution_count": 25,
   "id": "2f41788c7b1199b2",
   "metadata": {
    "ExecuteTime": {
     "end_time": "2024-11-17T08:48:20.046972Z",
     "start_time": "2024-11-17T08:48:20.043184Z"
    }
   },
   "outputs": [
    {
     "data": {
      "text/plain": [
       "[10, 6]"
      ]
     },
     "execution_count": 25,
     "metadata": {},
     "output_type": "execute_result"
    }
   ],
   "source": [
    "muj_tuple_uprava[4]"
   ]
  },
  {
   "cell_type": "code",
   "execution_count": 28,
   "id": "d8eb745c3221764a",
   "metadata": {
    "ExecuteTime": {
     "end_time": "2024-11-17T08:49:47.866703Z",
     "start_time": "2024-11-17T08:49:47.863114Z"
    }
   },
   "outputs": [],
   "source": [
    "# Přetypování na datový typ list (funkce list())\n",
    "muj_tuple_uprava = list(muj_tuple_uprava)"
   ]
  },
  {
   "cell_type": "code",
   "execution_count": 29,
   "id": "506ef49def9f159b",
   "metadata": {
    "ExecuteTime": {
     "end_time": "2024-11-17T08:50:02.385357Z",
     "start_time": "2024-11-17T08:50:02.376791Z"
    }
   },
   "outputs": [
    {
     "name": "stdout",
     "output_type": "stream",
     "text": [
      "[1, 2, 3, 4, [10, 6], 10]\n"
     ]
    }
   ],
   "source": [
    "muj_tuple_uprava.append(10)\n",
    "print(muj_tuple_uprava)"
   ]
  },
  {
   "cell_type": "code",
   "execution_count": 30,
   "id": "124fbf51ba1c8736",
   "metadata": {
    "ExecuteTime": {
     "end_time": "2024-11-17T08:50:19.842212Z",
     "start_time": "2024-11-17T08:50:19.837870Z"
    }
   },
   "outputs": [
    {
     "name": "stdout",
     "output_type": "stream",
     "text": [
      "(1, 2, 3, 4, [10, 6], 10)\n"
     ]
    }
   ],
   "source": [
    "# Přetypování zpět na datový typ tuple() (funkce tuple())\n",
    "muj_tuple_uprava = tuple(muj_tuple_uprava)\n",
    "print(muj_tuple_uprava)"
   ]
  },
  {
   "cell_type": "markdown",
   "id": "e7171a59ccd3cbb6",
   "metadata": {},
   "source": [
    "Přetypování číslo -> text , text->číslo"
   ]
  },
  {
   "cell_type": "code",
   "execution_count": 34,
   "id": "d12dc5f2c41c4e9",
   "metadata": {
    "ExecuteTime": {
     "end_time": "2024-11-17T08:53:26.365427Z",
     "start_time": "2024-11-17T08:53:26.360583Z"
    }
   },
   "outputs": [
    {
     "data": {
      "text/plain": [
       "str"
      ]
     },
     "execution_count": 34,
     "metadata": {},
     "output_type": "execute_result"
    }
   ],
   "source": [
    "cislo = 5\n",
    "cislo_text = str(5)\n",
    "type(cislo_text)"
   ]
  },
  {
   "cell_type": "code",
   "execution_count": 36,
   "id": "b37882eef0f82012",
   "metadata": {
    "ExecuteTime": {
     "end_time": "2024-11-17T08:54:04.296274Z",
     "start_time": "2024-11-17T08:54:04.293331Z"
    }
   },
   "outputs": [
    {
     "name": "stdout",
     "output_type": "stream",
     "text": [
      "5\n"
     ]
    },
    {
     "data": {
      "text/plain": [
       "int"
      ]
     },
     "execution_count": 36,
     "metadata": {},
     "output_type": "execute_result"
    }
   ],
   "source": [
    "cislo_text = '5'\n",
    "cislo = int(cislo_text)\n",
    "print(cislo)\n",
    "type(cislo)"
   ]
  },
  {
   "cell_type": "code",
   "execution_count": 49,
   "id": "151a1887868457f3",
   "metadata": {
    "ExecuteTime": {
     "end_time": "2024-11-17T09:40:15.963395Z",
     "start_time": "2024-11-17T09:40:15.956967Z"
    }
   },
   "outputs": [],
   "source": [
    "book = {\n",
    "  \"title\": \"Iliad\",\n",
    "  \"no_of_pages\": 200,\n",
    "  \"characters\": [\"Odysseus\",\n",
    "          \"Patroclus\",\n",
    "          \"Ajax\",\n",
    "          \"Hector\"]\n",
    "}"
   ]
  },
  {
   "cell_type": "code",
   "execution_count": 55,
   "id": "1136bbd6b37870b4",
   "metadata": {
    "ExecuteTime": {
     "end_time": "2024-11-17T09:44:33.463865Z",
     "start_time": "2024-11-17T09:44:33.457254Z"
    }
   },
   "outputs": [
    {
     "name": "stdout",
     "output_type": "stream",
     "text": [
      "{'title': 'Iliad', 'no_of_pages': 200, 'characters': ['Odysseus', 'Patroclus', 'Ajax', 'Hector'], 'reziser': ['J.K. Rowlingová']}\n"
     ]
    }
   ],
   "source": [
    "#book[\"reziser\"]\n",
    "# 2. způsob\n",
    "book.get('title', 'Toto slovo neexistuje') # .get(klic, text pokud se klic nenajde)\n",
    "\n",
    "book['reziser'] = ['J.K. Rowlingová']\n",
    "#book['reziser'].append('')"
   ]
  },
  {
   "cell_type": "code",
   "execution_count": 48,
   "id": "fd0489838416c4e6",
   "metadata": {
    "ExecuteTime": {
     "end_time": "2024-11-17T09:03:58.361114Z",
     "start_time": "2024-11-17T09:03:51.747379Z"
    }
   },
   "outputs": [
    {
     "name": "stdout",
     "output_type": "stream",
     "text": [
      "<class 'str'>\n",
      "Zadal blbost, přetypování neprovádím.\n"
     ]
    }
   ],
   "source": [
    "# Uživatelský vstup\n",
    "uzivatelsky_vstup = input('Napiš číslo od 1 do 10: ')\n",
    "print(type(uzivatelsky_vstup))\n",
    "\n",
    "if uzivatelsky_vstup.isdigit():\n",
    "    print('Správně zadal číslo, provádím přetypování.')\n",
    "    cislo = int(uzivatelsky_vstup)\n",
    "    print('Úspěšně přetypováno')\n",
    "else:\n",
    "    print('Zadal blbost, přetypování neprovádím.')"
   ]
  },
  {
   "cell_type": "code",
   "execution_count": 41,
   "id": "66b6fb136f06e615",
   "metadata": {
    "ExecuteTime": {
     "end_time": "2024-11-17T08:56:57.432382Z",
     "start_time": "2024-11-17T08:56:57.427428Z"
    }
   },
   "outputs": [],
   "source": [
    "if cislo_text.isdigit():\n",
    "    cislo = int(cislo_text)\n",
    "else:\n",
    "    print('Text neobsahuje pouze čísla')"
   ]
  },
  {
   "cell_type": "code",
   "execution_count": 40,
   "id": "fa91dc4ff00a1c74",
   "metadata": {
    "ExecuteTime": {
     "end_time": "2024-11-17T08:56:36.352472Z",
     "start_time": "2024-11-17T08:56:36.303740Z"
    }
   },
   "outputs": [
    {
     "ename": "ValueError",
     "evalue": "invalid literal for int() with base 10: 'Text'",
     "output_type": "error",
     "traceback": [
      "\u001b[0;31m---------------------------------------------------------------------------\u001b[0m",
      "\u001b[0;31mValueError\u001b[0m                                Traceback (most recent call last)",
      "Cell \u001b[0;32mIn[40], line 1\u001b[0m\n\u001b[0;32m----> 1\u001b[0m \u001b[38;5;28mint\u001b[39m(\u001b[38;5;124m'\u001b[39m\u001b[38;5;124mText\u001b[39m\u001b[38;5;124m'\u001b[39m)\n",
      "\u001b[0;31mValueError\u001b[0m: invalid literal for int() with base 10: 'Text'"
     ]
    }
   ],
   "source": [
    "int('Text')"
   ]
  },
  {
   "cell_type": "markdown",
   "id": "c983b98d26ada2d5",
   "metadata": {},
   "source": [
    "Keyword `in`"
   ]
  },
  {
   "cell_type": "code",
   "execution_count": 57,
   "id": "7c372aac",
   "metadata": {
    "ExecuteTime": {
     "end_time": "2024-11-17T09:52:59.122593Z",
     "start_time": "2024-11-17T09:52:59.117329Z"
    }
   },
   "outputs": [
    {
     "name": "stdout",
     "output_type": "stream",
     "text": [
      "Pes tam opravdu je\n"
     ]
    }
   ],
   "source": [
    "animals = [\"cat\", \"dog\", \"mouse\", \"pes\"]\n",
    "\n",
    "if (\"pes\" in animals):\n",
    "    print(\"Pes tam opravdu je\")\n",
    "else:\n",
    "    print('Pes tam neni.')"
   ]
  },
  {
   "cell_type": "code",
   "execution_count": 59,
   "id": "65d9e7ae83ab6600",
   "metadata": {
    "ExecuteTime": {
     "end_time": "2024-11-17T09:56:28.041299Z",
     "start_time": "2024-11-17T09:56:28.037064Z"
    }
   },
   "outputs": [
    {
     "name": "stdout",
     "output_type": "stream",
     "text": [
      "Opravdu je tam pondělí\n"
     ]
    }
   ],
   "source": [
    "den = \"Dneska je pondělí\"\n",
    "\n",
    "if(\"pondělí\" in den):\n",
    "    print('Opravdu je tam pondělí')\n",
    "else:\n",
    "    print(\"Pondělí v textu není\")"
   ]
  },
  {
   "cell_type": "markdown",
   "id": "dc234e9b7e49f9aa",
   "metadata": {},
   "source": [
    "Metoda `join()`"
   ]
  },
  {
   "cell_type": "code",
   "execution_count": 62,
   "id": "d8b65ee1",
   "metadata": {
    "ExecuteTime": {
     "end_time": "2024-11-17T09:58:22.523896Z",
     "start_time": "2024-11-17T09:58:22.521093Z"
    }
   },
   "outputs": [
    {
     "name": "stdout",
     "output_type": "stream",
     "text": [
      "k.u.r.z\n"
     ]
    }
   ],
   "source": [
    "pismena = ['k', 'u', 'r', 'z']\n",
    "# Spojuji prvky z listu (parametr v metodě join). Oddělovač je tečka - může být různý (mezera, čárka, atp.)\n",
    "spojeno = \".\".join(pismena)\n",
    "print(spojeno)"
   ]
  },
  {
   "cell_type": "code",
   "execution_count": 70,
   "id": "4f7af3931180583a",
   "metadata": {
    "ExecuteTime": {
     "end_time": "2024-11-17T10:07:43.291262Z",
     "start_time": "2024-11-17T10:07:43.282803Z"
    }
   },
   "outputs": [
    {
     "name": "stdout",
     "output_type": "stream",
     "text": [
      "Dominik Šmída\n",
      "dominik šmída\n"
     ]
    }
   ],
   "source": [
    "zamestnanec = ['Dominik', 'Šmída']\n",
    "# Spojení prvků z pole do jednoho stringu (oddělovač je tečka)\n",
    "spojeno = ' '.join(zamestnanec)\n",
    "\n",
    "# Již spojený string převedu na malé písmena\n",
    "spojeno_finish = spojeno.lower()\n",
    "\n",
    "print(spojeno)\n",
    "print(spojeno_finish)"
   ]
  },
  {
   "cell_type": "markdown",
   "id": "554360229edcbb09",
   "metadata": {},
   "source": [
    "Metoda `.split()`"
   ]
  },
  {
   "cell_type": "code",
   "execution_count": 78,
   "id": "325ee1c99289a64e",
   "metadata": {
    "ExecuteTime": {
     "end_time": "2024-11-17T10:23:06.057571Z",
     "start_time": "2024-11-17T10:23:06.044738Z"
    }
   },
   "outputs": [
    {
     "name": "stdout",
     "output_type": "stream",
     "text": [
      "['Dominik', 'Šmída']\n",
      "Dominik\n",
      "List křestních jmen: ['Dominik']\n"
     ]
    }
   ],
   "source": [
    "# Metoda split umožňuje z textu získat N prvků (vrací list) podle určitého znaku (např. mezera)\n",
    "# Pokud chci jména ukládat, vytvořím si list a budu do něj tyto prvky přidávat\n",
    "jmeno = 'Dominik Šmída'\n",
    "krestni_jmena = [] # Vytvoření / inicializace nového listu\n",
    "\n",
    "# 1. způsob\n",
    "#jmeno = jmeno.split(' ')[0]\n",
    "\n",
    "# 2. způsob\n",
    "list_slov = jmeno.split(' ')\n",
    "print(list_slov)\n",
    "jmeno = list_slov[0]\n",
    "print(jmeno)\n",
    "\n",
    "krestni_jmena.append(jmeno)\n",
    "\n",
    "print(f'List křestních jmen: {krestni_jmena}')"
   ]
  },
  {
   "cell_type": "code",
   "execution_count": null,
   "id": "eca5f8ba",
   "metadata": {},
   "outputs": [],
   "source": [
    "jmeno = 'Dominik Šmída'\n",
    "krestni_jmena = []\n",
    "\n",
    "rozdelene_jmeno = jmeno.split(' ')\n",
    "#print(rozdelene_jmeno)\n",
    "\n",
    "krestni_jmeno = rozdelene_jmeno[0]\n",
    "krestni_jmena.append(krestni_jmeno)\n",
    "\n",
    "print(krestni_jmena)\n",
    "\n",
    "#prijmeni = rozdelene_jmeno[1]\n",
    "#print(f'Prijmeni je: {prijmeni}')"
   ]
  },
  {
   "cell_type": "markdown",
   "id": "47cec489",
   "metadata": {},
   "source": [
    "### **For cyklus v Pythonu**\n",
    "Cyklus for v Pythonu se používá k opakovanému provádění bloku kódu pro každý prvek v posloupnosti (např. seznam, tuple, řetězec) nebo jakémukoli jinému objektu, který je iterovatelný."
   ]
  },
  {
   "cell_type": "code",
   "execution_count": 89,
   "id": "ca3b4d05dac54050",
   "metadata": {
    "ExecuteTime": {
     "end_time": "2024-11-17T11:04:27.352506Z",
     "start_time": "2024-11-17T11:04:27.342392Z"
    }
   },
   "outputs": [
    {
     "name": "stdout",
     "output_type": "stream",
     "text": [
      "List křestních jmen: ['Dominik', 'Alfons', 'Albert']\n",
      "List příjmení: ['Šmída', 'Kvído', 'Řeřicha']\n"
     ]
    }
   ],
   "source": [
    "# Získat pouze jméno pro každého zaměstnance a to uložit do listu krestni_jmena\n",
    "zamestnanci = [\"Dominik Šmída\", \"Alfons Kvído\", \"Albert Řeřicha\"]\n",
    "krestni_jmena = [] # Vytvářím nový list\n",
    "prijmeni_zamestnancu = [] # Vytvářím nový list\n",
    "\n",
    "for zamestnanec in zamestnanci:\n",
    "    # Zpracovávám křestní jméno\n",
    "    jmeno = zamestnanec.split(' ')[0]\n",
    "    krestni_jmena.append(jmeno)\n",
    "    \n",
    "    # Zpracovávám příjmení\n",
    "    prijmeni = zamestnanec.split(' ')[1]\n",
    "    prijmeni_zamestnancu.append(prijmeni)\n",
    "    \n",
    "print(f'List křestních jmen: {krestni_jmena}')\n",
    "print(f'List příjmení: {prijmeni_zamestnancu}')"
   ]
  },
  {
   "cell_type": "markdown",
   "id": "5840f9c421a8782b",
   "metadata": {},
   "source": [
    "### Vytvořit list prijmeni_zamestnancu a v kazde iteraci ziskat prijmeni a ulozit jej do tohoto listu. Na konci vypsat list prijmeni"
   ]
  },
  {
   "cell_type": "code",
   "execution_count": 79,
   "id": "87b6e51e",
   "metadata": {
    "ExecuteTime": {
     "end_time": "2024-11-17T10:39:39.700705Z",
     "start_time": "2024-11-17T10:39:39.686862Z"
    }
   },
   "outputs": [
    {
     "name": "stdout",
     "output_type": "stream",
     "text": [
      "Slovo\n",
      "Pes\n"
     ]
    }
   ],
   "source": [
    "posloupnost = [\"Slovo\", \"Pes\"]\n",
    "for promenna in posloupnost:\n",
    "    # kód, který se má provést pro každý prvek`\n",
    "    print(promenna)"
   ]
  },
  {
   "cell_type": "markdown",
   "id": "0acee377",
   "metadata": {},
   "source": [
    "`promenna`: Dočasná proměnná, která postupně nabývá hodnot každého prvku z posloupnosti - může mít jakýkoliv název\n",
    "\n",
    "`posloupnost`: Posloupnost prvků, kterou `for` cyklus prochází.\n"
   ]
  },
  {
   "cell_type": "markdown",
   "id": "755af444",
   "metadata": {},
   "source": [
    "#### Iterace přes seznam\n",
    "Předpokládejme, že máme seznam čísel a chceme vypsat každé číslo v tomto seznamu."
   ]
  },
  {
   "cell_type": "code",
   "execution_count": 90,
   "id": "c953c03c",
   "metadata": {
    "ExecuteTime": {
     "end_time": "2024-11-17T12:12:52.771726Z",
     "start_time": "2024-11-17T12:12:52.765435Z"
    }
   },
   "outputs": [
    {
     "name": "stdout",
     "output_type": "stream",
     "text": [
      "1\n",
      "2\n",
      "3\n",
      "4\n",
      "5\n"
     ]
    }
   ],
   "source": [
    "cisla = [1, 2, 3, 4, 5]\n",
    "\n",
    "for cislo in cisla:\n",
    "    print(cislo)"
   ]
  },
  {
   "cell_type": "markdown",
   "id": "76a91fbf",
   "metadata": {},
   "source": [
    "#### Iterace přes řetězec\n",
    "Můžeme také iterovat přes znaky v řetězci:"
   ]
  },
  {
   "cell_type": "code",
   "execution_count": 91,
   "id": "c9a66b15",
   "metadata": {
    "ExecuteTime": {
     "end_time": "2024-11-17T12:13:22.834513Z",
     "start_time": "2024-11-17T12:13:22.827582Z"
    }
   },
   "outputs": [
    {
     "name": "stdout",
     "output_type": "stream",
     "text": [
      "a\n",
      "h\n",
      "o\n",
      "j\n"
     ]
    }
   ],
   "source": [
    "for znak in \"ahoj\":\n",
    "    print(znak)"
   ]
  },
  {
   "cell_type": "markdown",
   "id": "c677ba7065976681",
   "metadata": {},
   "source": [
    "Vnořený for cyklus"
   ]
  },
  {
   "cell_type": "code",
   "execution_count": 93,
   "id": "780aa3a9a8b70a94",
   "metadata": {
    "ExecuteTime": {
     "end_time": "2024-11-17T12:18:28.661670Z",
     "start_time": "2024-11-17T12:18:28.656550Z"
    }
   },
   "outputs": [
    {
     "name": "stdout",
     "output_type": "stream",
     "text": [
      "iPhone\n",
      "i\n",
      "P\n",
      "h\n",
      "o\n",
      "n\n",
      "e\n",
      "Samsung\n",
      "S\n",
      "a\n",
      "m\n",
      "s\n",
      "u\n",
      "n\n",
      "g\n"
     ]
    }
   ],
   "source": [
    "# List ,který budu procházet \n",
    "telefony = [\"iPhone\", \"Samsung\"]\n",
    "\n",
    "# Procházím jednotlivé prvky v listu telefony\n",
    "for telefon in telefony:\n",
    "    print(telefon)\n",
    "    # Procházím jednotlivé znaky v daném prvku (iPhone, Samsung)\n",
    "    for znak in telefon:\n",
    "        print(znak)"
   ]
  },
  {
   "cell_type": "code",
   "execution_count": 102,
   "id": "8cdb915bc2b5208c",
   "metadata": {
    "ExecuteTime": {
     "end_time": "2024-11-17T12:42:42.584883Z",
     "start_time": "2024-11-17T12:42:42.570091Z"
    }
   },
   "outputs": [
    {
     "name": "stdout",
     "output_type": "stream",
     "text": [
      "iPhone 18\n",
      "Ve slově iPhone 18 se vyskytuje znak 1\n",
      "Ve slově iPhone 18 se vyskytuje číslo\n",
      "iPhone 10\n",
      "Ve slově iPhone 10 se vyskytuje znak 1\n",
      "Ve slově iPhone 10 se vyskytuje číslo\n",
      "iPhone 11\n",
      "Ve slově iPhone 11 se vyskytuje znak 1\n",
      "Ve slově iPhone 11 se vyskytuje číslo\n",
      "iPhone 12\n",
      "Ve slově iPhone 12 se vyskytuje znak 1\n",
      "Ve slově iPhone 12 se vyskytuje číslo\n"
     ]
    }
   ],
   "source": [
    "# List ,který budu procházet \n",
    "# Zjistit, zda-li se vyskytuje číslo 1 ve slovu\n",
    "telefony = [\"iPhone 18\", \"iPhone 10\", \"iPhone 11\", \"iPhone 12\"] # break\n",
    "\n",
    "for telefon in telefony:\n",
    "    print(telefon)\n",
    "    # Vnořený cyklus pro procházení znaků\n",
    "    for znak in telefon:\n",
    "        # print(znak)\n",
    "        if znak == \"1\": # if znak.isdigit():\n",
    "            print(f'Ve slově {telefon} se vyskytuje znak 1')\n",
    "        if znak.isdigit():\n",
    "            print(f'Ve slově {telefon} se vyskytuje číslo')\n",
    "            break # Break zde používáme, aby se ukončil vnořený cyklus, pokud se nalezne číslo\n",
    "    #break  - Pokud chceme vypsat pouze první prvek, použijeme na konci break  "
   ]
  },
  {
   "cell_type": "code",
   "execution_count": 110,
   "id": "f7cf1b028ade4730",
   "metadata": {
    "ExecuteTime": {
     "end_time": "2024-11-17T12:53:13.973482Z",
     "start_time": "2024-11-17T12:53:13.969317Z"
    }
   },
   "outputs": [
    {
     "name": "stdout",
     "output_type": "stream",
     "text": [
      "1. iterace: Pes\n",
      "2. iterace: Kočka\n",
      "3. iterace: Kůň\n"
     ]
    }
   ],
   "source": [
    "sekvence = [\"Pes\", \"Kočka\", \"Kůň\"]\n",
    "# Enumerate - funkce pro očíslování každé iterace\n",
    "for index, cislo in enumerate(sekvence, start=1): \n",
    "    print(f'{index}. iterace: {cislo}')"
   ]
  },
  {
   "cell_type": "code",
   "execution_count": null,
   "id": "cd18181d",
   "metadata": {},
   "outputs": [],
   "source": [
    "slova = [\"ano\", \"ne\", \"123ne\"]\n",
    "\n",
    "for index, slovo in enumerate(slova): # 1. iterace = [\"ano\"]\n",
    "    print(index, slovo)\n",
    "    for pismeno in slovo: # 1. iterace = \"a\"\n",
    "        print(pismeno)\n",
    "    if (index == 1):\n",
    "        break"
   ]
  },
  {
   "cell_type": "code",
   "execution_count": null,
   "id": "47a0b769",
   "metadata": {},
   "outputs": [],
   "source": [
    "delka_listu = len(slova)-1\n",
    "\n",
    "for i in range(delka_listu): \n",
    "    print(i)"
   ]
  },
  {
   "cell_type": "code",
   "execution_count": null,
   "id": "ad8002b9",
   "metadata": {},
   "outputs": [],
   "source": []
  },
  {
   "cell_type": "markdown",
   "id": "1448512b",
   "metadata": {},
   "source": [
    "#### Funkce `range()`"
   ]
  },
  {
   "cell_type": "code",
   "execution_count": 123,
   "id": "a54a842386c6a8a3",
   "metadata": {
    "ExecuteTime": {
     "end_time": "2024-11-17T13:04:04.203544Z",
     "start_time": "2024-11-17T13:04:04.190237Z"
    }
   },
   "outputs": [
    {
     "name": "stdout",
     "output_type": "stream",
     "text": [
      "[1, 2, 3, 4, 5, 6, 7, 8, 9, 10, 11, 12, 13, 14, 15, 16, 17, 18, 19, 20, 21, 22, 23, 24, 25, 26, 27, 28, 29, 30, 31, 32, 33, 34, 35, 36, 37, 38, 39, 40, 41, 42, 43, 44, 45, 46, 47, 48, 49, 50, 51, 52, 53, 54, 55, 56, 57, 58, 59, 60, 61, 62, 63, 64, 65, 66, 67, 68, 69, 70, 71, 72, 73, 74, 75, 76, 77, 78, 79, 80, 81, 82, 83, 84, 85, 86, 87, 88, 89, 90, 91, 92, 93, 94, 95, 96, 97, 98, 99]\n"
     ]
    }
   ],
   "source": [
    "from pprint import pprint\n",
    "sekvence = list(range(1, 100)) # <10, 20)\n",
    "print(sekvence)"
   ]
  },
  {
   "cell_type": "code",
   "execution_count": 120,
   "id": "b353f64ed85daf9c",
   "metadata": {
    "ExecuteTime": {
     "end_time": "2024-11-17T13:01:10.604400Z",
     "start_time": "2024-11-17T13:01:10.597864Z"
    }
   },
   "outputs": [
    {
     "name": "stdout",
     "output_type": "stream",
     "text": [
      "10\n",
      "11\n",
      "12\n",
      "13\n",
      "14\n",
      "15\n",
      "16\n",
      "17\n",
      "18\n",
      "19\n"
     ]
    }
   ],
   "source": [
    "for cislo in range(10, 20):\n",
    "    print(cislo)"
   ]
  },
  {
   "cell_type": "markdown",
   "id": "ff6ecd46",
   "metadata": {},
   "source": [
    "Funkce `range()` generuje posloupnost čísel, kterou můžeme použít v for cyklu. Pokud například chceme vypsat čísla od 0 do 4, můžeme použít:"
   ]
  },
  {
   "cell_type": "code",
   "execution_count": null,
   "id": "1910e2f4",
   "metadata": {},
   "outputs": [],
   "source": [
    "for i in range(10, 21, 5): # <0,5)  range(pocatecni_cislo, konecne_cislo, preskok)\n",
    "    print(i)"
   ]
  },
  {
   "cell_type": "markdown",
   "id": "a906dc61",
   "metadata": {},
   "source": [
    "#### **Vnořený `for` cyklus**\n",
    "\n",
    "Vnořený `for` cyklus v Pythonu je konstrukce, kdy jeden for cyklus je umístěn uvnitř těla jiného for cyklu. Tato struktura umožňuje iterovat přes složitější datové struktury, jako jsou seznamy seznamů, matice nebo jiné vícerozměrné kolekce."
   ]
  },
  {
   "cell_type": "code",
   "execution_count": 124,
   "id": "92b36d41",
   "metadata": {
    "ExecuteTime": {
     "end_time": "2024-11-17T13:04:45.155856Z",
     "start_time": "2024-11-17T13:04:45.151859Z"
    }
   },
   "outputs": [
    {
     "name": "stdout",
     "output_type": "stream",
     "text": [
      "i = 0, j = 0\n",
      "i = 0, j = 1\n",
      "i = 0, j = 2\n",
      "i = 0, j = 3\n",
      "i = 0, j = 4\n",
      "i = 1, j = 0\n",
      "i = 1, j = 1\n",
      "i = 1, j = 2\n",
      "i = 1, j = 3\n",
      "i = 1, j = 4\n",
      "i = 2, j = 0\n",
      "i = 2, j = 1\n",
      "i = 2, j = 2\n",
      "i = 2, j = 3\n",
      "i = 2, j = 4\n"
     ]
    }
   ],
   "source": [
    "for i in range(0, 3):  # Vnější cyklus [0, 1, 2]\n",
    "    for j in range(0, 5):  # Vnořený cyklus [0, 1, 2, 3, 4]\n",
    "        print(f\"i = {i}, j = {j}\")"
   ]
  },
  {
   "cell_type": "markdown",
   "id": "abaf5cbc",
   "metadata": {},
   "source": [
    "Například, pokud chceme procházet znaky v každém elementu, který je obsažen v seznamu:"
   ]
  },
  {
   "cell_type": "code",
   "execution_count": null,
   "id": "6aaddc67",
   "metadata": {},
   "outputs": [],
   "source": [
    "texty = [\"První text\", \"Druhý text\"]\n",
    "\n",
    "for text in texty: # Pomocí tohoto for cyklu se dostávám na každý prvek v seznamu texty\n",
    "    for pismeno in text: # Pomocí tohoto vnořeného for cyklu se dostávám na každý znak v konkrétním prvku seznamu\n",
    "        print(f'Element: {text}, pismeno: {pismeno}') # Výstupem je vypsání všech znaků separátně"
   ]
  },
  {
   "cell_type": "markdown",
   "id": "e508fb76",
   "metadata": {},
   "source": [
    "### Příklad: Do proměnné jmeno uložit vaše jméno a pomocí for cyklu vypsat každý znak ve vašem jméně"
   ]
  },
  {
   "cell_type": "code",
   "execution_count": 125,
   "id": "4b43c78caf7b9247",
   "metadata": {
    "ExecuteTime": {
     "end_time": "2024-11-17T13:19:21.677629Z",
     "start_time": "2024-11-17T13:19:21.671569Z"
    }
   },
   "outputs": [
    {
     "name": "stdout",
     "output_type": "stream",
     "text": [
      "D\n",
      "o\n",
      "m\n",
      "i\n",
      "n\n",
      "i\n",
      "k\n"
     ]
    }
   ],
   "source": [
    "jmeno = \"Dominik\"\n",
    "\n",
    "for znak in jmeno:\n",
    "    print(znak)"
   ]
  },
  {
   "cell_type": "markdown",
   "id": "e4a6c0f0",
   "metadata": {},
   "source": [
    "### Příklad: Vytvořte list se dvěma jmény a pro každé jméno vypište všechny jeho znaky"
   ]
  },
  {
   "cell_type": "code",
   "execution_count": 130,
   "id": "84cbf0767bb08215",
   "metadata": {
    "ExecuteTime": {
     "end_time": "2024-11-17T13:24:59.299574Z",
     "start_time": "2024-11-17T13:24:59.288360Z"
    }
   },
   "outputs": [
    {
     "name": "stdout",
     "output_type": "stream",
     "text": [
      "D\n",
      "o\n",
      "m\n",
      "i\n",
      "n\n",
      "i\n",
      "k\n",
      "---\n",
      "A\n",
      "l\n",
      "ž\n",
      "b\n",
      "e\n",
      "t\n",
      "a\n",
      "---\n"
     ]
    }
   ],
   "source": [
    "jmena = ['Dominik', 'Alžbeta', 'Ondřej']\n",
    "\n",
    "# Zajistit, abychom se dostaly na každý prvek zvlášť\n",
    "for jmeno in jmena[0:2]:\n",
    "    for znak in jmeno:\n",
    "        print(znak)\n",
    "    print('---')"
   ]
  },
  {
   "cell_type": "code",
   "execution_count": 131,
   "id": "f2fc619e205942e6",
   "metadata": {
    "ExecuteTime": {
     "end_time": "2024-11-17T13:29:27.992054Z",
     "start_time": "2024-11-17T13:29:27.987187Z"
    }
   },
   "outputs": [
    {
     "name": "stdout",
     "output_type": "stream",
     "text": [
      "D\n",
      "o\n",
      "m\n",
      "i\n",
      "n\n",
      "i\n",
      "k\n",
      "---\n",
      "A\n",
      "l\n",
      "ž\n",
      "b\n",
      "e\n",
      "t\n",
      "a\n",
      "---\n"
     ]
    }
   ],
   "source": [
    "jmena = ['Dominik', 'Alžbeta', 'Ondřej']\n",
    "\n",
    "# Zajistit, abychom se dostaly na každý prvek zvlášť\n",
    "for index, jmeno in enumerate(jmena, start=1):\n",
    "    if index == 3:\n",
    "        break\n",
    "    for znak in jmeno:\n",
    "        print(znak)\n",
    "    print('---')\n",
    "    "
   ]
  },
  {
   "cell_type": "code",
   "execution_count": null,
   "id": "15af19b5",
   "metadata": {},
   "outputs": [],
   "source": [
    "print('--------')"
   ]
  },
  {
   "cell_type": "markdown",
   "id": "c694585c7d973ae",
   "metadata": {},
   "source": [
    "### Práce s uživatelským vstupem"
   ]
  },
  {
   "cell_type": "code",
   "execution_count": null,
   "id": "a8d0fd3a",
   "metadata": {},
   "outputs": [],
   "source": [
    "uzivatelsky_vstup = input('Zadej číslo od 0 do 10: ')"
   ]
  },
  {
   "cell_type": "markdown",
   "id": "f62e82f1",
   "metadata": {},
   "source": [
    "---\n",
    "### Metody stringů pro validaci znaků\n",
    "\n",
    "V Pythonu existuje několik vestavěných metod stringů, které můžete použít k validaci znaků v řetězcích. Tyto metody poskytují jednoduchý způsob, jak zjistit, zda řetězec nebo znaky v řetězci splňují určitá kritéria (např. jsou čísla, písmena atd.). Zde je popis některých z těchto metod:\n",
    "\n",
    "`isdigit()`: Tato metoda vrací True, pokud všechny znaky v řetězci jsou číslice. To znamená, že metoda kontroluje, zda je každý znak číslo od 0 do 9. Příklad použití:"
   ]
  },
  {
   "cell_type": "code",
   "execution_count": 133,
   "id": "3ad7c264",
   "metadata": {
    "ExecuteTime": {
     "end_time": "2024-11-17T13:46:42.979549Z",
     "start_time": "2024-11-17T13:46:42.976913Z"
    }
   },
   "outputs": [
    {
     "name": "stdout",
     "output_type": "stream",
     "text": [
      "True\n",
      "False\n"
     ]
    }
   ],
   "source": [
    "print(\"123\".isdigit())  # Vrátí True\n",
    "print(\"123a\".isdigit())  # Vrátí False, protože 'a' není číslice"
   ]
  },
  {
   "cell_type": "code",
   "execution_count": 147,
   "id": "6097e58dd6658aba",
   "metadata": {
    "ExecuteTime": {
     "end_time": "2024-11-17T13:56:48.460116Z",
     "start_time": "2024-11-17T13:56:48.455552Z"
    }
   },
   "outputs": [
    {
     "name": "stdout",
     "output_type": "stream",
     "text": [
      "\n",
      "Nákup jízdenek\n",
      "Pro nákup jízdenky do Prahy stiskni 1\n",
      "Pro nákup jízdenky do Brna stiskni 2\n",
      "Pro nákup jízdenky do Ostravy stiskni 3\n",
      "\n"
     ]
    }
   ],
   "source": [
    "print(\"\"\"\n",
    "Nákup jízdenek\n",
    "Pro nákup jízdenky do Prahy stiskni 1\n",
    "Pro nákup jízdenky do Brna stiskni 2\n",
    "Pro nákup jízdenky do Ostravy stiskni 3\n",
    "\"\"\")"
   ]
  },
  {
   "cell_type": "code",
   "execution_count": 149,
   "id": "ebf1badc",
   "metadata": {
    "ExecuteTime": {
     "end_time": "2024-11-17T13:57:27.481204Z",
     "start_time": "2024-11-17T13:57:14.299928Z"
    }
   },
   "outputs": [],
   "source": [
    "uzivatelsky_vstup = input(\"Zadej číslo dle směru, kam chceš jet \")"
   ]
  },
  {
   "cell_type": "code",
   "execution_count": 150,
   "id": "9919cca7188abf27",
   "metadata": {
    "ExecuteTime": {
     "end_time": "2024-11-17T13:57:48.483744Z",
     "start_time": "2024-11-17T13:57:48.478508Z"
    }
   },
   "outputs": [
    {
     "name": "stdout",
     "output_type": "stream",
     "text": [
      "2\n"
     ]
    }
   ],
   "source": [
    "print(uzivatelsky_vstup)"
   ]
  },
  {
   "cell_type": "markdown",
   "id": "6e4dbf35",
   "metadata": {},
   "source": [
    "`isnumeric()`: Tato metoda je podobná `isdigit()`, ale je trochu širší. Vrací True, pokud jsou všechny znaky v řetězci numerické, což zahrnuje číslice, číselné znaky (např. římské číslice), a znaky, které mají číselnou hodnotu (např. čínské číslice)."
   ]
  },
  {
   "cell_type": "code",
   "execution_count": 140,
   "id": "27f816bc",
   "metadata": {
    "ExecuteTime": {
     "end_time": "2024-11-17T13:49:25.402158Z",
     "start_time": "2024-11-17T13:49:25.399258Z"
    }
   },
   "outputs": [
    {
     "data": {
      "text/plain": [
       "True"
      ]
     },
     "execution_count": 140,
     "metadata": {},
     "output_type": "execute_result"
    }
   ],
   "source": [
    "\"123.10\".isnumeric()  # Vrátí True\n",
    "\"Ⅳ\".isnumeric()  # Vrátí True pro římskou číslici 4"
   ]
  },
  {
   "cell_type": "code",
   "execution_count": 143,
   "id": "b708d4609635c0ac",
   "metadata": {
    "ExecuteTime": {
     "end_time": "2024-11-17T13:53:17.056022Z",
     "start_time": "2024-11-17T13:53:17.047344Z"
    }
   },
   "outputs": [
    {
     "name": "stdout",
     "output_type": "stream",
     "text": [
      "Nedá se převést na float\n"
     ]
    }
   ],
   "source": [
    "try:\n",
    "    float('Text')\n",
    "    print('Povedlo se')\n",
    "except ValueError:\n",
    "    print('Nedá se převést na float')"
   ]
  },
  {
   "cell_type": "markdown",
   "id": "f09af9fc",
   "metadata": {},
   "source": [
    "`isalpha()`: Tato metoda vrací True, pokud řetězec obsahuje pouze abecední znaky (písmena). Tedy žádné číslice, symboly, nebo mezery."
   ]
  },
  {
   "cell_type": "code",
   "execution_count": 152,
   "id": "f9b968a2",
   "metadata": {
    "ExecuteTime": {
     "end_time": "2024-11-17T14:04:46.248870Z",
     "start_time": "2024-11-17T14:04:46.227336Z"
    }
   },
   "outputs": [
    {
     "name": "stdout",
     "output_type": "stream",
     "text": [
      "True\n",
      "False\n"
     ]
    }
   ],
   "source": [
    "print(\"abc\".isalpha())  # Vrátí True\n",
    "print(\"abc1\".isalpha())  # Vrátí False, obsahuje číslici\n",
    "\n",
    "# isalnum() = isalpha() OR isdigit()"
   ]
  },
  {
   "cell_type": "code",
   "execution_count": null,
   "id": "6cee2af47eac83b5",
   "metadata": {
    "jupyter": {
     "is_executing": true
    }
   },
   "outputs": [],
   "source": [
    "while True:\n",
    "    uzivatelsky_vstup = input('Napis cislo od 1 do 10: ')\n",
    "    if uzivatelsky_vstup.isdigit():\n",
    "        cislo = int(uzivatelsky_vstup)\n",
    "        \n",
    "    break\n",
    "#while uzivatelsky_vstup.isdigit():\n",
    "#    cislo = int(uzivatelsky_vstup)\n",
    "#    if cislo > 10:\n",
    "#        uzivatelsky_vstup = input('Zadej cislo od 1 do 10:')\n",
    "#    else:\n",
    "#       print('Uspesne prevedeno.')\n",
    "#       break"
   ]
  },
  {
   "cell_type": "markdown",
   "id": "115fe14c",
   "metadata": {},
   "source": [
    "`isalnum()`: Tato metoda kombinuje `isalpha()` a `isdigit()`. Vrací True, pokud všechny znaky v řetězci jsou buď písmena nebo číslice."
   ]
  },
  {
   "cell_type": "code",
   "execution_count": null,
   "id": "73b31386",
   "metadata": {},
   "outputs": [],
   "source": [
    "vstup = input(\"Zadej slovo bez čísla: \")\n",
    "print(vstup)\n",
    "if vstup.isalnum():\n",
    "    print(\"Spravne.\")\n",
    "else:\n",
    "    print(\"Text neobsahuje abecední znaky\")"
   ]
  },
  {
   "cell_type": "markdown",
   "id": "e8d1e69a",
   "metadata": {},
   "source": [
    "### Break a Continue příkazy\n",
    "\n",
    "`break` a `continue` jsou dva klíčové příkazy používané v rámci smyček v Pythonu, které umožňují ovlivnit průběh smyčky podle určitých podmínek.\n",
    "\n",
    "Příkaz `break` se používá k ukončení celé smyčky. Když Python narazí na `break` uvnitř smyčky, okamžitě ukončí tuto smyčku a pokračuje v provádění kódu, který následuje po smyčce. \n",
    "\n",
    "`break` je užitečný, například, když hledáte konkrétní položku v seznamu a po jejím nalezení už není třeba smyčku dále provádět."
   ]
  },
  {
   "cell_type": "code",
   "execution_count": 4,
   "id": "ffb4494859f5ab12",
   "metadata": {
    "ExecuteTime": {
     "end_time": "2024-11-17T14:24:32.773301Z",
     "start_time": "2024-11-17T14:24:32.770378Z"
    }
   },
   "outputs": [
    {
     "name": "stdout",
     "output_type": "stream",
     "text": [
      "1\n",
      "2\n",
      "4\n",
      "5\n"
     ]
    }
   ],
   "source": [
    "sekvence = [1, 2, 3, 4, 5]\n",
    "\n",
    "for cislo in sekvence:\n",
    "    if cislo == 3:\n",
    "        continue\n",
    "    print(cislo)"
   ]
  },
  {
   "cell_type": "code",
   "execution_count": null,
   "id": "65908957",
   "metadata": {},
   "outputs": [],
   "source": [
    "for cislo in range(10): # [0, 1, 2, 3, 4, 5, 6, 7, 8, 9, 10]\n",
    "    \n",
    "    if cislo == 5:\n",
    "        print(\"Našel jsem číslo 5, končím!\")\n",
    "        continue  # Ukončí smyčku, když narazí na číslo 5\n",
    "    else:\n",
    "        print(\"Tak nic, jdu dál ...\")\n",
    "    print(cislo)"
   ]
  },
  {
   "cell_type": "markdown",
   "id": "34848473",
   "metadata": {},
   "source": [
    "Příkaz `continue` na rozdíl od `break`, příkaz `continue` neukončí celou smyčku. Místo toho ukončí aktuální iteraci smyčky a okamžitě přejde k další iteraci. `continue` je užitečný, když chcete přeskočit zbytek kódu v smyčce pro aktuální iteraci, ale chcete pokračovat v dalších iteracích."
   ]
  },
  {
   "cell_type": "code",
   "execution_count": null,
   "id": "526c0ee4",
   "metadata": {
    "scrolled": true
   },
   "outputs": [],
   "source": [
    "for cislo in range(10):    \n",
    "    if cislo == 5:\n",
    "        continue  # Přeskočí zbytek kódu ve smyčce pro číslo 5\n",
    "    else:\n",
    "        print(cislo)\n"
   ]
  },
  {
   "cell_type": "code",
   "execution_count": null,
   "id": "b16ad48f",
   "metadata": {},
   "outputs": [],
   "source": [
    "for _ in range(5):\n",
    "    print(_)"
   ]
  },
  {
   "cell_type": "code",
   "execution_count": 14,
   "id": "7df84446b980cf9f",
   "metadata": {
    "ExecuteTime": {
     "end_time": "2024-11-17T14:48:00.652796Z",
     "start_time": "2024-11-17T14:48:00.646006Z"
    }
   },
   "outputs": [
    {
     "name": "stdout",
     "output_type": "stream",
     "text": [
      "{'id': 1, 'jmeno': 'Dominik', 'rok-nastupu': 2018}\n",
      "{'id': 2, 'jmeno': 'Alžběta', 'rok-nastupu': 2020}\n",
      "{'id': 3, 'jmeno': 'Eliška', 'rok-nastupu': 2015}\n",
      "{'id': 4, 'jmeno': 'Dalibor', 'rok-nastupu': 2024}\n",
      "['Dominik', 'Eliška']\n"
     ]
    }
   ],
   "source": [
    "zamestnanci = [\n",
    "    {'id':1, 'jmeno': 'Dominik', 'rok-nastupu': 2018}, \n",
    "    {'id':2, 'jmeno': 'Alžběta', 'rok-nastupu': 2020},\n",
    "    {'id':3, 'jmeno': 'Eliška', 'rok-nastupu': 2015},\n",
    "    {'id':4, 'jmeno': 'Dalibor', 'rok-nastupu': 2024}\n",
    "]\n",
    "nastup_pred_2020 = []\n",
    "# Iteruju přes list slovníků a procházím jednotlivé slovníky/zaměstnance\n",
    "for zamestnanec in zamestnanci:\n",
    "    print(zamestnanec)\n",
    "    rok_nastupu = zamestnanec.get('rok-nastupu')\n",
    "    # Pokud je rok nastupu 2020, pak tuhle iteraci přeskoč\n",
    "    if rok_nastupu >= 2020:\n",
    "        continue\n",
    "    else:\n",
    "        jmeno_zamestnance = zamestnanec['jmeno']\n",
    "        nastup_pred_2020.append(jmeno_zamestnance)\n",
    "        #print(jmeno_zamestnance)\n",
    "\n",
    "print(nastup_pred_2020)\n",
    "    \n",
    "#{'id':[1, 2, 3], 'jmeno': ['Dominik', 'Alžběta', 'Alfons'], 'rok-nastupu': [2024, 2000, 2020]}"
   ]
  },
  {
   "cell_type": "code",
   "execution_count": null,
   "id": "30faf1e069334e57",
   "metadata": {},
   "outputs": [],
   "source": [
    "!pip install pandas"
   ]
  },
  {
   "cell_type": "code",
   "execution_count": 26,
   "id": "149f68c69f5b7b41",
   "metadata": {
    "ExecuteTime": {
     "end_time": "2024-11-17T14:56:52.355602Z",
     "start_time": "2024-11-17T14:56:52.343743Z"
    }
   },
   "outputs": [
    {
     "data": {
      "text/html": [
       "<div>\n",
       "<style scoped>\n",
       "    .dataframe tbody tr th:only-of-type {\n",
       "        vertical-align: middle;\n",
       "    }\n",
       "\n",
       "    .dataframe tbody tr th {\n",
       "        vertical-align: top;\n",
       "    }\n",
       "\n",
       "    .dataframe thead th {\n",
       "        text-align: right;\n",
       "    }\n",
       "</style>\n",
       "<table border=\"1\" class=\"dataframe\">\n",
       "  <thead>\n",
       "    <tr style=\"text-align: right;\">\n",
       "      <th></th>\n",
       "      <th>id</th>\n",
       "      <th>jmeno</th>\n",
       "      <th>rok-nastupu</th>\n",
       "    </tr>\n",
       "  </thead>\n",
       "  <tbody>\n",
       "    <tr>\n",
       "      <th>0</th>\n",
       "      <td>1</td>\n",
       "      <td>Dominik</td>\n",
       "      <td>2018</td>\n",
       "    </tr>\n",
       "    <tr>\n",
       "      <th>2</th>\n",
       "      <td>3</td>\n",
       "      <td>Eliška</td>\n",
       "      <td>2015</td>\n",
       "    </tr>\n",
       "  </tbody>\n",
       "</table>\n",
       "</div>"
      ],
      "text/plain": [
       "   id    jmeno  rok-nastupu\n",
       "0   1  Dominik         2018\n",
       "2   3   Eliška         2015"
      ]
     },
     "execution_count": 26,
     "metadata": {},
     "output_type": "execute_result"
    }
   ],
   "source": [
    "zamestnanci\n",
    "import pandas as pd\n",
    "df = pd.DataFrame(zamestnanci)\n",
    "\n",
    "aktualni_rok = 2024\n",
    "df.head()\n",
    "\n",
    "zamestnanci_dele_jak_5_let = df.loc[(2024 - df['rok-nastupu']) >= 5] # Zamestnanci, kteri jsou ve firme dele jak 5 let - aktualni_rok - rok-nastupu (pobyt ve firme)\n",
    "\n",
    "zamestnanci_dele_jak_5_let"
   ]
  },
  {
   "cell_type": "markdown",
   "id": "a6638676",
   "metadata": {},
   "source": [
    "---\n",
    "#### Úkol\n",
    "\n",
    "Napište kód, který přijme seznam e-mailových adres, projde je a všechny e-mailové adresy, které obsahují číslici, přidá do seznamu `ciselne_adresy`. Dále ošetřete, aby se v seznamu `ciselne_adresy` vyskytovaly pouze **unikátní** e-mailové adresy.\n",
    "\n",
    "Programátorské myšlení postupu:\n",
    "1. inicializovat prázdný seznam `ciselne_adresy`\n",
    "2. přes for loop začít iterovat seznam e-mailových adres\n",
    "3. přes vnořený for loop začít iterovat jednotlivé znaky e-mailové adresy (prochází se každý znak každé e-mailové adresy)\n",
    "4. validace znaku, zda-li je číselný, či ne\n",
    "5. pokud validace nalezne číselný znak, přidávám e-mailovou adresu do seznamu `ciselne_adresy` a ukončuji for loop (hint: přes break příkaz)\n",
    "6. provedu vyčištění seznamu `ciselne_adresy` pouze na unikátní e-mailové adresy (hint: přetypování)"
   ]
  },
  {
   "cell_type": "code",
   "execution_count": 33,
   "id": "aa124f4c7b040f87",
   "metadata": {
    "ExecuteTime": {
     "end_time": "2024-11-17T15:39:22.297862Z",
     "start_time": "2024-11-17T15:39:22.219999Z"
    }
   },
   "outputs": [
    {
     "name": "stdout",
     "output_type": "stream",
     "text": [
      "['69ttporp@example.com', '421ux2qlpw@mail.com', '4k9dzcp77n@sample.net']\n"
     ]
    }
   ],
   "source": [
    "adresy = [\n",
    "    'wgsv4j9v72@demo.org',\n",
    "    'o23r93exa@mail.com',\n",
    "    '69ttporp@example.com',\n",
    "    'ybjrri@sample.net',\n",
    "    '421ux2qlpw@mail.com',\n",
    "    'rpvcel@example.com',\n",
    "    'aac3b@demo.org',\n",
    "    '4k9dzcp77n@sample.net',\n",
    "    'e4ba8k2amj@example.com',\n",
    "    'j2gdoqo8@sample.net'\n",
    "]\n",
    "\n",
    "ciselne_adresy = [] # List, do kterého budeme přidávat emailové adresy s číslem\n",
    "for adresa in adresy:\n",
    "    # print(adresa)\n",
    "    for znak in adresa:\n",
    "        # print(znak)\n",
    "        if znak.isdigit():\n",
    "            ciselne_adresy.append(adresa)\n",
    "            break\n",
    "    \n",
    "print(ciselne_adresy)"
   ]
  },
  {
   "cell_type": "code",
   "execution_count": 44,
   "id": "dfc30bbc181410f4",
   "metadata": {
    "ExecuteTime": {
     "end_time": "2024-11-17T15:46:07.670821Z",
     "start_time": "2024-11-17T15:46:07.663773Z"
    }
   },
   "outputs": [
    {
     "name": "stdout",
     "output_type": "stream",
     "text": [
      "['eva456.machova@example.com', 'petr123.svoboda@example.com', 'martina987.vondrackova@example.com', 'tereza789.nemcova@example.com', 'barbora654.krejci@example.com']\n"
     ]
    }
   ],
   "source": [
    "seznam_mailu = [\"jan.novak@example.com\",\n",
    "\"petr123.svoboda@example.com\",\n",
    "\"lucie.kralova@example.com\",\n",
    "\"eva456.machova@example.com\",\n",
    "\"adam.horak@example.com\",\n",
    "\"tereza789.nemcova@example.com\",\n",
    "\"michael.kolar@example.com\",\n",
    "\"barbora654.krejci@example.com\",\n",
    "\"david.novotny@example.com\",\n",
    "\"martina987.vondrackova@example.com\",\n",
    "\"eva456.machova@example.com\",\n",
    "\"lucie.kralova@example.com\",\n",
    "\"tereza789.nemcova@example.com\"]\n",
    "seznam_mailu = list(set(seznam_mailu))\n",
    "ciselne_adresy = []\n",
    "\n",
    "for mail in seznam_mailu:\n",
    "    for znak in mail:\n",
    "        if znak.isdigit():\n",
    "            ciselne_adresy.append(mail)\n",
    "            break\n",
    "\n",
    "print(ciselne_adresy)"
   ]
  },
  {
   "cell_type": "code",
   "execution_count": 38,
   "id": "c0193db67eb1b925",
   "metadata": {
    "ExecuteTime": {
     "end_time": "2024-11-17T15:43:29.198557Z",
     "start_time": "2024-11-17T15:43:29.194676Z"
    }
   },
   "outputs": [
    {
     "name": "stdout",
     "output_type": "stream",
     "text": [
      "[1, 2, 3]\n"
     ]
    }
   ],
   "source": [
    "x = [1, 2, 2, 3, 3]\n",
    "x = list(set(x))\n",
    "print(x)"
   ]
  },
  {
   "cell_type": "markdown",
   "id": "a9f9403e",
   "metadata": {},
   "source": [
    "### Podmínky\n",
    "\n",
    "\n",
    "Podmínky v Pythonu jsou základním stavebním prvkem, který umožňuje rozhodování v programu na základě splnění určitých kritérií. Pomocí podmínek můžete řídit tok programu tím, že určíte, které části kódu se mají vykonat, když jsou splněny určité podmínky."
   ]
  },
  {
   "cell_type": "markdown",
   "id": "1b4694ee",
   "metadata": {},
   "source": [
    "### If podmínka:\n",
    "Tento příkaz testuje počáteční podmínku. Pokud je tato podmínka pravdivá, provede se blok kódu uvnitř `if`."
   ]
  },
  {
   "cell_type": "code",
   "execution_count": null,
   "id": "546905cf",
   "metadata": {},
   "outputs": [],
   "source": [
    "if podminka:\n",
    "    # Kód, který se vykoná, pokud je podmínka pravdivá"
   ]
  },
  {
   "cell_type": "code",
   "execution_count": null,
   "id": "6c17201a",
   "metadata": {},
   "outputs": [],
   "source": [
    "a = 3\n",
    "\n",
    "if a == 5:\n",
    "    print(\"A = 5\")\n",
    "\n",
    "elif a == 3:\n",
    "    print(\"A = 3\")\n",
    "\n",
    "else:\n",
    "    print(\"A neni 3 ani 5\")"
   ]
  },
  {
   "cell_type": "markdown",
   "id": "4f2ccbc7",
   "metadata": {},
   "source": [
    "### elif:\n",
    "`elif` (zkratka pro \"else if\"): Tento příkaz můžete použít, pokud chcete testovat více podmínek po původním `if`. `elif` se provede pouze tehdy, pokud byla původní `if` podmínka nepravdivá a podmínka uvnitř `elif` je pravdivá."
   ]
  },
  {
   "cell_type": "code",
   "execution_count": null,
   "id": "9f05ca81",
   "metadata": {},
   "outputs": [],
   "source": [
    "if podminka:\n",
    "    # Kód, který se vykoná, pokud je podmínka pravdivá\n",
    "    \n",
    "elif podminka:\n",
    "    # Kód, který se vykoná, pokud je podmínka pravdivá\n",
    "    \n",
    "else:\n",
    "    # Kód, který se vykoná, pokud je podmínka nepravdivá"
   ]
  },
  {
   "cell_type": "markdown",
   "id": "9d027b83",
   "metadata": {},
   "source": [
    "### else:\n",
    "`else`: Tento příkaz slouží jako záložní blok, který se provede, pokud nebyly pravdivé žádné z předchozích podmínek (`if` a všechny `elif`)."
   ]
  },
  {
   "cell_type": "code",
   "execution_count": null,
   "id": "b0037792",
   "metadata": {},
   "outputs": [],
   "source": [
    "if podminka1:\n",
    "    # Kód, který se vykoná, pokud je podminka1 pravdivá\n",
    "elif podminka2:\n",
    "    # Kód, který se vykoná, pokud je podminka2 pravdivá\n",
    "else:\n",
    "    # Kód, který se vykoná, pokud žádná z předchozích podmínek není pravdivá\n"
   ]
  },
  {
   "cell_type": "markdown",
   "id": "685241dc",
   "metadata": {},
   "source": [
    "### If/elif/else"
   ]
  },
  {
   "cell_type": "markdown",
   "id": "779a9d92",
   "metadata": {},
   "source": [
    "Tento kód kontroluje, zda je uživatel na blacklistu a dle toho řídí přístup"
   ]
  },
  {
   "cell_type": "code",
   "execution_count": null,
   "id": "50245420",
   "metadata": {},
   "outputs": [],
   "source": [
    "jmeno = \"Dominik\"\n",
    "blacklist = True\n",
    "\n",
    "# Kontrola, jesli se jméno rovná \"Dominik\", a zároveň není na blacklistu\n",
    "if (jmeno == \"Dominik\" and not blacklist):\n",
    "    print(\"Uživatel Dominik je úspěšně ověřen.\")\n",
    "    # ....\n",
    "    # ....\n",
    "    # ....\n",
    "else:\n",
    "    print(\"Uživatel Dominik není ověřen. Nachází se na blacklistu\")"
   ]
  },
  {
   "cell_type": "code",
   "execution_count": null,
   "id": "b4de3f31",
   "metadata": {},
   "outputs": [],
   "source": [
    "blacklist = True # -> False\n",
    "if not blacklist:\n",
    "    print(\"ok\")\n",
    "else:\n",
    "    print(\"neok\")"
   ]
  },
  {
   "cell_type": "code",
   "execution_count": 45,
   "id": "51dfaca3f53355d2",
   "metadata": {
    "ExecuteTime": {
     "end_time": "2024-11-17T15:48:56.467113Z",
     "start_time": "2024-11-17T15:48:56.460976Z"
    }
   },
   "outputs": [
    {
     "name": "stdout",
     "output_type": "stream",
     "text": [
      "Cislo je rovno nebo vetsi 5\n"
     ]
    }
   ],
   "source": [
    "cislo = 5\n",
    "if cislo >= 5:\n",
    "    print('Cislo je rovno nebo vetsi 5')\n",
    "elif cislo == 5:\n",
    "    print('Cislo je rovno peti')"
   ]
  },
  {
   "cell_type": "code",
   "execution_count": 46,
   "id": "ccb29b18bcf68b42",
   "metadata": {
    "ExecuteTime": {
     "end_time": "2024-11-17T15:49:17.437613Z",
     "start_time": "2024-11-17T15:49:17.426755Z"
    }
   },
   "outputs": [
    {
     "name": "stdout",
     "output_type": "stream",
     "text": [
      "Cislo je rovno nebo vetsi 5\n",
      "Cislo je rovno peti\n"
     ]
    }
   ],
   "source": [
    "cislo = 5\n",
    "if cislo >= 5:\n",
    "    print('Cislo je rovno nebo vetsi 5')\n",
    "if cislo == 5:\n",
    "    print('Cislo je rovno peti')"
   ]
  },
  {
   "cell_type": "markdown",
   "id": "28dd4631",
   "metadata": {},
   "source": [
    "Tento kód tedy provádí kontrolu identity a zdravotního stavu uživatele \"Dominik\" a vypisuje odpovídající zprávu podle toho, jaké informace jsou o něm dostupné a pravdivé:"
   ]
  },
  {
   "cell_type": "code",
   "execution_count": null,
   "id": "b0a3a87c",
   "metadata": {},
   "outputs": [],
   "source": [
    "# Inicializace proměnných\n",
    "jmeno = \"Dominik\"\n",
    "blacklist = False\n",
    "covid_result = True\n",
    "illness = False\n",
    "\n",
    "# Kontrola, jestli se jméno rovná \"Dominik\", a zároveň není nemocný a nemá COVID-19\n",
    "if (jmeno == \"Dominik\" and not illness and not covid_result): \n",
    "    # Tento blok se vykoná, pokud jsou všechny podmínky pravdivé\n",
    "    print(\"Uživatel Dominik není nemocen, ani pozitivní na COVID-19\")\n",
    "\n",
    "# Kontrola, jestli se jméno rovná \"Dominik\", není nemocný, ale má pozitivní test na COVID-19\n",
    "elif (jmeno == \"Dominik\" and not illness and covid_result):\n",
    "    # Tento blok se vykoná, pokud jsou všechny podmínky pravdivé\n",
    "    print(\"Uživatel Dominik není nemocen, ale má pozitivní test na COVID-19\")\n",
    "    \n",
    "# Kontrola, jestli se jméno rovná \"Dominik\", je nemocný a má pozitivní test na COVID-19\n",
    "elif (jmeno == \"Dominik\" and illness and covid_result):\n",
    "    # Tento blok se vykoná, pokud jsou všechny podmínky pravdivé\n",
    "    print(\"Uživatel Dominik je nemocen a má pozitivní test na COVID-19\")\n",
    "    \n",
    "# Pokud žádná z předchozích podmínek nebyla pravdivá, vykoná se tento blok\n",
    "else:\n",
    "    # Tento blok se vykoná, pokud žádná z výše uvedených podmínek nebyla splněna\n",
    "    print(\"Dominik neodpovídá zadaným parametrům.\")\n"
   ]
  },
  {
   "cell_type": "code",
   "execution_count": 48,
   "id": "20fa29c067608886",
   "metadata": {
    "ExecuteTime": {
     "end_time": "2024-11-17T15:55:04.494930Z",
     "start_time": "2024-11-17T15:55:04.488296Z"
    }
   },
   "outputs": [
    {
     "name": "stdout",
     "output_type": "stream",
     "text": [
      "['3', '4']\n"
     ]
    }
   ],
   "source": [
    "listik = [\"3\", \"pes\", \"4\"]\n",
    "ciselna_slova = [slovo for slovo in listik if slovo.isdigit()] # list comprehension\n",
    "print(ciselna_slova)\n",
    "\n",
    "# Delsi zapis vyse uvedeneho list comprehension\n",
    "for slovo in listik:\n",
    "    if slovo.isdigit():\n",
    "        ciselna_slova.append(slovo)"
   ]
  },
  {
   "cell_type": "markdown",
   "id": "a1c4a370",
   "metadata": {},
   "source": [
    "### Terární operátor\n",
    "\n",
    "Zkrácený zápis if podmínky - podobně jako u list comprehension, i zde se výstup píše na začátek, nikoliv na konec."
   ]
  },
  {
   "cell_type": "code",
   "execution_count": null,
   "id": "056ce6e8",
   "metadata": {},
   "outputs": [],
   "source": [
    "positive_tested = [\"Dominik Šmída\", \"Petr Osička\", \"Alexandr Veliký\"]\n",
    "name = \"Dominik Šmída\"\n",
    "\n",
    "#if name in positive_tested:\n",
    "    #print('Osoba je na seznamu pozitivních na COVID-19. Přístup zakázán')\n",
    "\n",
    "print('Osoba je na seznamu pozitivních na COVID-19. Přístup zakázán' if name in positive_tested else 'Přístup povolen')"
   ]
  },
  {
   "cell_type": "code",
   "execution_count": null,
   "id": "e5fdd6b0",
   "metadata": {},
   "outputs": [],
   "source": [
    "positive_tested = [\"Dominik Šmída\", \"Petr Osička\", \"Alexandr Veliký\"]\n",
    "name = \"Dominik Šmída\"\n",
    "\n",
    "# V rámci jednoho řádku se provede podmínka if else i s vypsáním výstupu.\n",
    "print(\"Osoba je v seznamu pozitivních na COVID-19. Přístup zakázán.\" if name in positive_tested else \"Přístup povolen.\")\n",
    "\n",
    "if name in positive_tested:\n",
    "    print('Osoba je na seznamu pozitivních na COVID-19. Přístup zakázán')"
   ]
  },
  {
   "cell_type": "markdown",
   "id": "ce18bf4e",
   "metadata": {},
   "source": [
    "### Vypsání klíčů a hodnot slovníku\n",
    "\n",
    "Pokud chci vypsat všechny klíče ve slovníku, použiji pro to metodu `.keys()`. Jelikož tato metoda vrací `view-object`, můžeme jí vypsat pomocí metody `.join()`, kterou zavoláme na string uvnitř printu.\n",
    "Pokud chci vypsat všechny hodnoty ve slovníku, použiji pro to metodu `.values()`"
   ]
  },
  {
   "cell_type": "code",
   "execution_count": null,
   "id": "4b2a0a29",
   "metadata": {},
   "outputs": [],
   "source": [
    "trestny_rejstrik = {'Dominik Šmída': 'Krádež', 'Aleš Oplzlý': 'Ublížení na zdraví'}\n",
    "print(f\"Klíče: {', '.join(trestny_rejstrik.keys())}\")\n",
    "print(f\"Hodnoty: {', '.join(trestny_rejstrik.values())}\")"
   ]
  },
  {
   "cell_type": "markdown",
   "id": "b9ef16dc",
   "metadata": {},
   "source": [
    "---\n",
    "### Procházení jednotlivých itemů ve slovníku\n",
    "\n",
    "Metoda `.items()` se používá ve slovníku k získání pohledu, který zobrazuje seznam dvojic klíč-hodnota. Každá položka je reprezentována jako tuple (dvojice), kde první prvek je klíč a druhý prvek je odpovídající hodnota. \n",
    "Tato metoda je velmi užitečná, když potřebujete projít slovník a pracovat s jeho klíči a hodnotami.\n",
    "\n",
    "Pokud chci tedy procházet a vypsat všechny položky ve slovníku, použiji metodu `.items()`. Pokud chci iterovat přes jednotlivé itemy a vypsat je, musím to projít přes `for` cyklus."
   ]
  },
  {
   "cell_type": "code",
   "execution_count": null,
   "id": "601540b2",
   "metadata": {},
   "outputs": [],
   "source": [
    "slovnik = {'ano':'yes', 'ne':'no', 'pes':'dog', 'kocka':'cat', 'jidlo':'food'}\n",
    "\n",
    "print(\"Česko-anglický slovník\\n============================\")\n",
    "for key, value in slovnik.items(): # Provádím výpis klíče a hodnoty na jednom řádku\n",
    "    print(f\"České slovo: {key}, anglický překlad: {value}\")"
   ]
  },
  {
   "cell_type": "markdown",
   "id": "4bae0086",
   "metadata": {},
   "source": [
    "### Přidávání nových itemů do slovníku\n",
    "\n",
    "Chcete-li do slovníku přidat jednu položku, použijete klíč k určení místa, kam má být hodnota uložena. Pokud klíč již ve slovníku existuje, jeho hodnota bude aktualizována. Pokud klíč neexistuje, vytvoří se nový pár klíč-hodnota."
   ]
  },
  {
   "cell_type": "code",
   "execution_count": null,
   "id": "a2228ade",
   "metadata": {},
   "outputs": [],
   "source": [
    "slovnik = {}  # Prázdný slovník\n",
    "\n",
    "# Přidání jedné položky\n",
    "slovnik['jmeno'] = 'Jan'\n",
    "slovnik['prijmeni'] = 'Šmída'\n",
    "\n",
    "print(slovnik)  # Výpis: {'jmeno': 'Jan'}"
   ]
  },
  {
   "cell_type": "markdown",
   "id": "255ebc32",
   "metadata": {},
   "source": [
    "---\n",
    "#### Úkol\n",
    "\n",
    "Chci mít možnost do slovníku přidávat nové slova a jejich překlady.\n",
    "Vytvoř funkci `pridej_slovo`, která má 3 vstupní parametry - `slovnik`, `slovo_cesky`, `slovo_anglicky`. Funkce přijímá již existující slovník, české slovo a jeho anglický překlad.\n",
    "\n",
    "Definice funkce bude: `def pridej_slovo(slovnik:dict, slovo_cesky, slovo_anglicky)->dict:`"
   ]
  },
  {
   "cell_type": "markdown",
   "id": "12737210",
   "metadata": {},
   "source": [
    "---\n",
    "#### Příklad\n",
    "**Popis problému:**\n",
    "*V naší firmě ProgramIT nabíráme na pozici Programátora nové kandidáty. Máme seznam předvybraných kandidátů, kteří prošli prvním kolem výběrového řízení. Dle standardů naší společnosti však nesmí mít žádný kandidát záznam v trestním rejstříku. Tenhle fakt potřebujeme ověřit pro každého kandidáta.*\n",
    "\n",
    "Napiště funkci `over_kandidaty`, která ověří, zda-li má některý z kandidátů (`list_kandidatu`) záznam v trestním rejstříku (`trestny_rejstrik`).\n",
    "Pokud má kandidát záznam v trestném rejstříku, na výstup vypiště tuto informaci i s informací, za co byl kandidát trestaný.\n",
    "\n",
    "Na závěr do listu `overeny_list_kandidatu` ulož pouze ty kandidáty, kteří nemají záznam v trestném rejstříku.\n",
    "\n",
    "Příklad výstupu: `Kandidát Dominik Šmída byl nalezen v trestném rejstříku! V minulosti byl trestaný za Krádež.`\n",
    "\n",
    "Definice funkce je: `def over_kandidaty(list_kandidatu:list, trestny_rejstrik:list):`"
   ]
  },
  {
   "cell_type": "markdown",
   "id": "95286346",
   "metadata": {},
   "source": [
    "## Aplikace pro nákup lístků"
   ]
  },
  {
   "cell_type": "code",
   "execution_count": 151,
   "id": "b8135e5c",
   "metadata": {
    "ExecuteTime": {
     "end_time": "2024-11-17T14:00:01.676841Z",
     "start_time": "2024-11-17T13:59:50.641749Z"
    }
   },
   "outputs": [
    {
     "name": "stdout",
     "output_type": "stream",
     "text": [
      "Index | Zápas                          |  Cena\n",
      "1       Sparta Praha - Slavia Praha    |  5000\n",
      "2       Bohemians Praha - Sparta Praha |  2500\n",
      "3       Slavia Praha - Viktoria Plzeň  |  1500\n",
      "4       FC Slovácko - Fastav Zlín      |  1250\n",
      "        \n"
     ]
    },
    {
     "ename": "ValueError",
     "evalue": "invalid literal for int() with base 10: ''",
     "output_type": "error",
     "traceback": [
      "\u001b[0;31m---------------------------------------------------------------------------\u001b[0m",
      "\u001b[0;31mValueError\u001b[0m                                Traceback (most recent call last)",
      "Cell \u001b[0;32mIn[151], line 18\u001b[0m\n\u001b[1;32m      9\u001b[0m \u001b[38;5;28mprint\u001b[39m(menu)\n\u001b[1;32m     11\u001b[0m zapasy \u001b[38;5;241m=\u001b[39m {\n\u001b[1;32m     12\u001b[0m     \u001b[38;5;241m1\u001b[39m: {\u001b[38;5;124m'\u001b[39m\u001b[38;5;124mnazev\u001b[39m\u001b[38;5;124m'\u001b[39m:\u001b[38;5;124m'\u001b[39m\u001b[38;5;124mSparta Praha - Slavia Praha\u001b[39m\u001b[38;5;124m'\u001b[39m, \u001b[38;5;124m'\u001b[39m\u001b[38;5;124mcena\u001b[39m\u001b[38;5;124m'\u001b[39m:\u001b[38;5;241m5000\u001b[39m},\n\u001b[1;32m     13\u001b[0m     \u001b[38;5;241m2\u001b[39m: {\u001b[38;5;124m'\u001b[39m\u001b[38;5;124mnazev\u001b[39m\u001b[38;5;124m'\u001b[39m:\u001b[38;5;124m'\u001b[39m\u001b[38;5;124mBohemians Praha - Sparta Praha\u001b[39m\u001b[38;5;124m'\u001b[39m, \u001b[38;5;124m'\u001b[39m\u001b[38;5;124mcena\u001b[39m\u001b[38;5;124m'\u001b[39m: \u001b[38;5;241m2500\u001b[39m},\n\u001b[1;32m     14\u001b[0m     \u001b[38;5;241m3\u001b[39m: {\u001b[38;5;124m'\u001b[39m\u001b[38;5;124mnazev\u001b[39m\u001b[38;5;124m'\u001b[39m:\u001b[38;5;124m'\u001b[39m\u001b[38;5;124mSlavia Praha - Viktoria Plzeň\u001b[39m\u001b[38;5;124m'\u001b[39m, \u001b[38;5;124m'\u001b[39m\u001b[38;5;124mcena\u001b[39m\u001b[38;5;124m'\u001b[39m:\u001b[38;5;241m1500\u001b[39m},\n\u001b[1;32m     15\u001b[0m     \u001b[38;5;241m4\u001b[39m: {\u001b[38;5;124m'\u001b[39m\u001b[38;5;124mnazev\u001b[39m\u001b[38;5;124m'\u001b[39m:\u001b[38;5;124m'\u001b[39m\u001b[38;5;124mFC Slovácko - Fastav Zlín\u001b[39m\u001b[38;5;124m'\u001b[39m, \u001b[38;5;124m'\u001b[39m\u001b[38;5;124mcena\u001b[39m\u001b[38;5;124m'\u001b[39m:\u001b[38;5;241m1250\u001b[39m}\n\u001b[1;32m     16\u001b[0m }\n\u001b[0;32m---> 18\u001b[0m vstup \u001b[38;5;241m=\u001b[39m \u001b[38;5;28mint\u001b[39m(\u001b[38;5;28minput\u001b[39m(\u001b[38;5;124m'\u001b[39m\u001b[38;5;124mVyberte číslo utkání, o který máte zájem: \u001b[39m\u001b[38;5;124m'\u001b[39m))\n\u001b[1;32m     20\u001b[0m \u001b[38;5;28mprint\u001b[39m(\u001b[38;5;124mf\u001b[39m\u001b[38;5;124m\"\u001b[39m\u001b[38;5;124mMáte zájem o utkání: \u001b[39m\u001b[38;5;132;01m{\u001b[39;00mzapasy[vstup][\u001b[38;5;124m'\u001b[39m\u001b[38;5;124mnazev\u001b[39m\u001b[38;5;124m'\u001b[39m]\u001b[38;5;132;01m}\u001b[39;00m\u001b[38;5;124m\"\u001b[39m)\n\u001b[1;32m     22\u001b[0m pocet_listku \u001b[38;5;241m=\u001b[39m \u001b[38;5;28mint\u001b[39m(\u001b[38;5;28minput\u001b[39m(\u001b[38;5;124m\"\u001b[39m\u001b[38;5;124mO kolik lístků máte zájem? \u001b[39m\u001b[38;5;124m\"\u001b[39m))\n",
      "\u001b[0;31mValueError\u001b[0m: invalid literal for int() with base 10: ''"
     ]
    }
   ],
   "source": [
    "header = f\"{'Index':<2} | {'Zápas':<30} | {'Cena':>5}\"\n",
    "line = f\"\"\"{1:<7} {'Sparta Praha - Slavia Praha':<30} | {5000:>5}\n",
    "{2:<7} {'Bohemians Praha - Sparta Praha':<30} | {2500:>5}\n",
    "{3:<7} {'Slavia Praha - Viktoria Plzeň':<30} | {1500:>5}\n",
    "{4:<7} {'FC Slovácko - Fastav Zlín':<30} | {1250:>5}\n",
    "        \"\"\"\n",
    "\n",
    "menu = f\"{header}\\n{line}\"\n",
    "print(menu)\n",
    "\n",
    "zapasy = {\n",
    "    1: {'nazev':'Sparta Praha - Slavia Praha', 'cena':5000},\n",
    "    2: {'nazev':'Bohemians Praha - Sparta Praha', 'cena': 2500},\n",
    "    3: {'nazev':'Slavia Praha - Viktoria Plzeň', 'cena':1500},\n",
    "    4: {'nazev':'FC Slovácko - Fastav Zlín', 'cena':1250}\n",
    "}\n",
    "\n",
    "vstup = int(input('Vyberte číslo utkání, o který máte zájem: '))\n",
    "\n",
    "print(f\"Máte zájem o utkání: {zapasy[vstup]['nazev']}\")\n",
    "\n",
    "pocet_listku = int(input(\"O kolik lístků máte zájem? \"))\n",
    "\n",
    "print(f\"Celková cena  lístků je: {zapasy[vstup]['cena'] * pocet_listku},- ({zapasy[vstup]['cena']},-/lístek)\")\n",
    "\n",
    "potvrzeni = input(f\"\\nOpravdu chcete potvrdit nákup {pocet_listku} lístku/ů na zápas {zapasy[vstup]['nazev']}? (ano/ne) \").lower()\n",
    "\n",
    "if potvrzeni == 'ano':\n",
    "    print(f\"\\nDěkujeme vám za váš zájem o koupi lístku/ů. Zadejte prosím Váš e-mail: \")\n",
    "    email = input(\"Zadejte váš email: \")\n",
    "    print(f\"\\nGratulujeme k úspěšnému zakoupení lístku! Detaily k platbě jsme vám právě poslali na email {email}\")\n",
    "\n",
    "else:\n",
    "    print(\"\\nZakoupení lístků nebylo úspěšné.\")"
   ]
  },
  {
   "cell_type": "markdown",
   "id": "eb438431",
   "metadata": {},
   "source": [
    "---\n",
    "### Práce se soubory"
   ]
  },
  {
   "cell_type": "code",
   "execution_count": null,
   "id": "9536526a",
   "metadata": {},
   "outputs": [],
   "source": [
    "\n",
    "# Python - data.csv\n",
    "# Python - Kod - jupyter.ipynb"
   ]
  },
  {
   "cell_type": "markdown",
   "id": "266bf659",
   "metadata": {},
   "source": [
    "**Otevírání a zavírání souborů**\n",
    "\n",
    "**Otevírání souboru**: použití funkce `open()` k otevření souboru. Tato funkce vyžaduje jako minimální argument cestu k souboru a může také zahrnovat režim, ve kterém soubor otevíráte (např. 'r' pro čtení, 'w' pro zápis, 'a' pro přidávání na konec, 'r+' pro čtení a zápis atd.).\n",
    "\n",
    "**Zavírání souboru**: Velmi důležité je vždy soubor uzavřít po dokončení práce s ním, což lze provést pomocí metody `close()`"
   ]
  },
  {
   "cell_type": "code",
   "execution_count": null,
   "id": "85d5df5f",
   "metadata": {},
   "outputs": [],
   "source": [
    "file = open('file.txt', 'r')\n",
    "file.read()\n",
    "file.close()"
   ]
  },
  {
   "cell_type": "code",
   "execution_count": null,
   "id": "7335e0bc",
   "metadata": {},
   "outputs": [],
   "source": [
    "file.read() # volání read() metody nad uzavřeným souborem je nemožné"
   ]
  },
  {
   "cell_type": "markdown",
   "id": "522ab5a6",
   "metadata": {},
   "source": [
    "#### **Kontextový manager**\n",
    "\n",
    "Použití kontextových manažerů s klíčovým slovem with pro automatické zavření souboru po opuštění bloku kódu. Toto je preferovaný způsob práce se soubory."
   ]
  },
  {
   "cell_type": "code",
   "execution_count": null,
   "id": "a2e4d532",
   "metadata": {
    "scrolled": true
   },
   "outputs": [],
   "source": [
    "with open('file.txt', 'r') as soubor:\n",
    "    obsah = soubor.readlines()\n",
    "    print(f\"Toto je list, který obsahuje řádky jako elementy: {obsah}\\n\") # Zobrazí list, kde jeden element = 1 řádek"
   ]
  },
  {
   "cell_type": "markdown",
   "id": "95c92104",
   "metadata": {},
   "source": [
    "#### Mód write - přepisuje obsah souboru"
   ]
  },
  {
   "cell_type": "code",
   "execution_count": null,
   "id": "242a71b3",
   "metadata": {},
   "outputs": [],
   "source": [
    "with open('file.txt', 'w') as soubor1:\n",
    "    soubor1.write('Toto je přepsaný text')"
   ]
  },
  {
   "cell_type": "markdown",
   "id": "09de40e6",
   "metadata": {},
   "source": [
    "#### Mód append - zapisuje nový obsah na konec souboru (nemaže starý obsah)"
   ]
  },
  {
   "cell_type": "code",
   "execution_count": null,
   "id": "c97ab11f",
   "metadata": {},
   "outputs": [],
   "source": [
    "with open('file.txt', 'a') as soubor2:\n",
    "    soubor2.write('\\nToto je text, který se přidal přes mód append')"
   ]
  },
  {
   "cell_type": "code",
   "execution_count": null,
   "id": "5840f0c3",
   "metadata": {},
   "outputs": [],
   "source": [
    "for index, radek in enumerate(obsah, start=1):\n",
    "    print(f\"číslo řádku: {index}, text řádku: {radek}\")"
   ]
  },
  {
   "cell_type": "code",
   "execution_count": null,
   "id": "81c039b5",
   "metadata": {},
   "outputs": [],
   "source": [
    "for index, radek in enumerate(obsah, start=1): # Pokud chci procházet a vypisovat jednotlivé řádky, opět použiju for cyklus \n",
    "    print(f\"číslo řádku: {index}, text: {radek}\")"
   ]
  },
  {
   "cell_type": "markdown",
   "id": "1d5356c8",
   "metadata": {},
   "source": [
    "#### Funkce enumerate()\n",
    "\n",
    "Funkce `enumerate` v Pythonu je velmi užitečná, když potřebujete sledovat indexy prvků, když iterujete přes seznam nebo jiný iterovatelný objekt. Jednoduše řečeno, `enumerate` přidává čítač k iteraci a vrací jej ve formě objektu enumerate, který generuje páry obsahující index a hodnotu z původního iterovatelného objektu."
   ]
  },
  {
   "cell_type": "code",
   "execution_count": null,
   "id": "11a92e60",
   "metadata": {
    "scrolled": true
   },
   "outputs": [],
   "source": [
    "seznam = ['jablko', 'banán', 'pomeranč']\n",
    "\n",
    "for index, hodnota in enumerate(seznam, start=1):\n",
    "    print(index, hodnota)"
   ]
  },
  {
   "cell_type": "markdown",
   "id": "ab217454",
   "metadata": {},
   "source": [
    "**Otevírání souborů**\n",
    "\n",
    "Používá se funkce `open()`, která jako první argument bere cestu k souboru a jako druhý argument režim, ve kterém soubor otevíráte (např. `'r'` pro čtení, `'w'` pro zápis, `'a'` pro přidání na konec, `'r+'` pro čtení a zápis).\n",
    "Je důležité správně zvolit režim, ve kterém soubor otevíráte, aby odpovídal vaší potřebné operaci. Ideální používat `with open() as`\n",
    "\n",
    "**Čtení souborů**\n",
    "Metoda `read()` čte celý obsah souboru do jednoho řetězce.\n",
    "Metoda `readline()` čte soubor řádek po řádku.\n",
    "Metoda `readlines()` čte všechny řádky v souboru a vrací je jako seznam řetězců.\n",
    "\n",
    "**Zápis do souborů**\n",
    "Metoda `write()` se používá k zápisu řetězce do souboru.\n",
    "V režimu `'w'` se obsah souboru přepíše, zatímco v režimu `'a'` se nový obsah přidá na konec souboru.\n",
    "\n",
    "**Uzavírání souborů**\n",
    "Po dokončení práce se souborem je důležité ho uzavřít pomocí metody `close()`. To uvolní systémové zdroje, které soubor využíval.\n",
    "\n",
    "Použití konstrukce `with open(...) as ...:` automaticky uzavře soubor po opuštění bloku kódu, což je doporučená praxe, protože zajišťuje, že soubor se vždy správně uzavře."
   ]
  },
  {
   "cell_type": "markdown",
   "id": "2023b5c7",
   "metadata": {},
   "source": [
    "### Práce s CSV a Excel soubory\n",
    "\n",
    "Datoví analytici často pracují s CSV nebo Excel soubory. Python nabízí knihovny jako `csv` pro práci s CSV soubory a `pandas` pro práci s Excel i CSV soubory i širokou škálu datových struktur."
   ]
  },
  {
   "cell_type": "markdown",
   "id": "668b63cf",
   "metadata": {},
   "source": [
    "#### **Příklad** čtení CSV souboru i s exception handlingem"
   ]
  },
  {
   "cell_type": "code",
   "execution_count": null,
   "id": "3a9b91d2",
   "metadata": {
    "ExecuteTime": {
     "end_time": "2024-06-23T07:07:11.305015Z",
     "start_time": "2024-06-23T07:07:11.300016Z"
    },
    "scrolled": true
   },
   "outputs": [],
   "source": [
    "### Zadání: načíst emaily z .csv, poté naleznout emaily s číslem a tyto emaily uložit do separátního seznamu a vyexportovat do .csv souboru\n",
    "import csv\n",
    "\n",
    "emaily = []\n",
    "\n",
    "# ======================== NAČTENÍ DAT Z CSV # ======================== \n",
    "with open('emaily.csv', 'r') as soubor:\n",
    "    next(soubor)\n",
    "    for radek in soubor:\n",
    "        emaily.append(radek.strip().replace(',', '').replace('\"', ''))\n",
    "\n",
    "# ======================== LOGIKA NAD DATY # ======================== \n",
    "# 1. krok\n",
    "ciselne_adresy = []\n",
    "\n",
    "# 2.rok\n",
    "for email in emaily:\n",
    "    # 3. krok\n",
    "    for znak in email:\n",
    "        # 4. krok\n",
    "        if znak.isdigit():\n",
    "            ciselne_adresy.append(email)\n",
    "            break\n",
    "\n",
    "ciselne_adresy = list(set(ciselne_adresy))\n",
    "print(ciselne_adresy)\n",
    "\n",
    "# ======================== EXPORT ČÍSELNÝCH MAILŮ DO CSV # ======================== \n",
    "with open('export_ciselnych_adres.csv', 'w', newline='') as file:\n",
    "    # Inicilializuju objekt pro zapis do .csv\n",
    "    zapisovac = csv.writer(file)\n",
    "\n",
    "    for email in ciselne_adresy:\n",
    "        zapisovac.writerow([email])\n"
   ]
  }
 ],
 "metadata": {
  "kernelspec": {
   "display_name": "Python 3 (ipykernel)",
   "language": "python",
   "name": "python3"
  },
  "language_info": {
   "codemirror_mode": {
    "name": "ipython",
    "version": 3
   },
   "file_extension": ".py",
   "mimetype": "text/x-python",
   "name": "python",
   "nbconvert_exporter": "python",
   "pygments_lexer": "ipython3",
   "version": "3.11.7"
  }
 },
 "nbformat": 4,
 "nbformat_minor": 5
}
